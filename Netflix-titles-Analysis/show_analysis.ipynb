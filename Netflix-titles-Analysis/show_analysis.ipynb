{
 "cells": [
  {
   "cell_type": "code",
   "execution_count": 1,
   "metadata": {},
   "outputs": [],
   "source": [
    "#Importing the libraries\n",
    "\n",
    "import matplotlib.pyplot as plt\n",
    "%matplotlib inline\n",
    "import seaborn as sns\n",
    "import plotly.express as px\n",
    "from textblob import TextBlob #used for sentiment analysis\n",
    "import plotly.graph_objects as go\n",
    "from sklearn.preprocessing import LabelEncoder"
   ]
  },
  {
   "cell_type": "code",
   "execution_count": 2,
   "metadata": {},
   "outputs": [
    {
     "data": {
      "text/html": [
       "<div>\n",
       "<style scoped>\n",
       "    .dataframe tbody tr th:only-of-type {\n",
       "        vertical-align: middle;\n",
       "    }\n",
       "\n",
       "    .dataframe tbody tr th {\n",
       "        vertical-align: top;\n",
       "    }\n",
       "\n",
       "    .dataframe thead th {\n",
       "        text-align: right;\n",
       "    }\n",
       "</style>\n",
       "<table border=\"1\" class=\"dataframe\">\n",
       "  <thead>\n",
       "    <tr style=\"text-align: right;\">\n",
       "      <th></th>\n",
       "      <th>show_id</th>\n",
       "      <th>type</th>\n",
       "      <th>title</th>\n",
       "      <th>director</th>\n",
       "      <th>cast</th>\n",
       "      <th>country</th>\n",
       "      <th>date_added</th>\n",
       "      <th>release_year</th>\n",
       "      <th>rating</th>\n",
       "      <th>duration</th>\n",
       "      <th>listed_in</th>\n",
       "      <th>description</th>\n",
       "    </tr>\n",
       "  </thead>\n",
       "  <tbody>\n",
       "    <tr>\n",
       "      <th>0</th>\n",
       "      <td>s1</td>\n",
       "      <td>Movie</td>\n",
       "      <td>Dick Johnson Is Dead</td>\n",
       "      <td>Kirsten Johnson</td>\n",
       "      <td>NaN</td>\n",
       "      <td>United States</td>\n",
       "      <td>September 25, 2021</td>\n",
       "      <td>2020</td>\n",
       "      <td>PG-13</td>\n",
       "      <td>90 min</td>\n",
       "      <td>Documentaries</td>\n",
       "      <td>As her father nears the end of his life, filmm...</td>\n",
       "    </tr>\n",
       "    <tr>\n",
       "      <th>1</th>\n",
       "      <td>s2</td>\n",
       "      <td>TV Show</td>\n",
       "      <td>Blood &amp; Water</td>\n",
       "      <td>NaN</td>\n",
       "      <td>Ama Qamata, Khosi Ngema, Gail Mabalane, Thaban...</td>\n",
       "      <td>South Africa</td>\n",
       "      <td>September 24, 2021</td>\n",
       "      <td>2021</td>\n",
       "      <td>TV-MA</td>\n",
       "      <td>2 Seasons</td>\n",
       "      <td>International TV Shows, TV Dramas, TV Mysteries</td>\n",
       "      <td>After crossing paths at a party, a Cape Town t...</td>\n",
       "    </tr>\n",
       "    <tr>\n",
       "      <th>2</th>\n",
       "      <td>s3</td>\n",
       "      <td>TV Show</td>\n",
       "      <td>Ganglands</td>\n",
       "      <td>Julien Leclercq</td>\n",
       "      <td>Sami Bouajila, Tracy Gotoas, Samuel Jouy, Nabi...</td>\n",
       "      <td>NaN</td>\n",
       "      <td>September 24, 2021</td>\n",
       "      <td>2021</td>\n",
       "      <td>TV-MA</td>\n",
       "      <td>1 Season</td>\n",
       "      <td>Crime TV Shows, International TV Shows, TV Act...</td>\n",
       "      <td>To protect his family from a powerful drug lor...</td>\n",
       "    </tr>\n",
       "    <tr>\n",
       "      <th>3</th>\n",
       "      <td>s4</td>\n",
       "      <td>TV Show</td>\n",
       "      <td>Jailbirds New Orleans</td>\n",
       "      <td>NaN</td>\n",
       "      <td>NaN</td>\n",
       "      <td>NaN</td>\n",
       "      <td>September 24, 2021</td>\n",
       "      <td>2021</td>\n",
       "      <td>TV-MA</td>\n",
       "      <td>1 Season</td>\n",
       "      <td>Docuseries, Reality TV</td>\n",
       "      <td>Feuds, flirtations and toilet talk go down amo...</td>\n",
       "    </tr>\n",
       "    <tr>\n",
       "      <th>4</th>\n",
       "      <td>s5</td>\n",
       "      <td>TV Show</td>\n",
       "      <td>Kota Factory</td>\n",
       "      <td>NaN</td>\n",
       "      <td>Mayur More, Jitendra Kumar, Ranjan Raj, Alam K...</td>\n",
       "      <td>India</td>\n",
       "      <td>September 24, 2021</td>\n",
       "      <td>2021</td>\n",
       "      <td>TV-MA</td>\n",
       "      <td>2 Seasons</td>\n",
       "      <td>International TV Shows, Romantic TV Shows, TV ...</td>\n",
       "      <td>In a city of coaching centers known to train I...</td>\n",
       "    </tr>\n",
       "    <tr>\n",
       "      <th>...</th>\n",
       "      <td>...</td>\n",
       "      <td>...</td>\n",
       "      <td>...</td>\n",
       "      <td>...</td>\n",
       "      <td>...</td>\n",
       "      <td>...</td>\n",
       "      <td>...</td>\n",
       "      <td>...</td>\n",
       "      <td>...</td>\n",
       "      <td>...</td>\n",
       "      <td>...</td>\n",
       "      <td>...</td>\n",
       "    </tr>\n",
       "    <tr>\n",
       "      <th>8802</th>\n",
       "      <td>s8803</td>\n",
       "      <td>Movie</td>\n",
       "      <td>Zodiac</td>\n",
       "      <td>David Fincher</td>\n",
       "      <td>Mark Ruffalo, Jake Gyllenhaal, Robert Downey J...</td>\n",
       "      <td>United States</td>\n",
       "      <td>November 20, 2019</td>\n",
       "      <td>2007</td>\n",
       "      <td>R</td>\n",
       "      <td>158 min</td>\n",
       "      <td>Cult Movies, Dramas, Thrillers</td>\n",
       "      <td>A political cartoonist, a crime reporter and a...</td>\n",
       "    </tr>\n",
       "    <tr>\n",
       "      <th>8803</th>\n",
       "      <td>s8804</td>\n",
       "      <td>TV Show</td>\n",
       "      <td>Zombie Dumb</td>\n",
       "      <td>NaN</td>\n",
       "      <td>NaN</td>\n",
       "      <td>NaN</td>\n",
       "      <td>July 1, 2019</td>\n",
       "      <td>2018</td>\n",
       "      <td>TV-Y7</td>\n",
       "      <td>2 Seasons</td>\n",
       "      <td>Kids' TV, Korean TV Shows, TV Comedies</td>\n",
       "      <td>While living alone in a spooky town, a young g...</td>\n",
       "    </tr>\n",
       "    <tr>\n",
       "      <th>8804</th>\n",
       "      <td>s8805</td>\n",
       "      <td>Movie</td>\n",
       "      <td>Zombieland</td>\n",
       "      <td>Ruben Fleischer</td>\n",
       "      <td>Jesse Eisenberg, Woody Harrelson, Emma Stone, ...</td>\n",
       "      <td>United States</td>\n",
       "      <td>November 1, 2019</td>\n",
       "      <td>2009</td>\n",
       "      <td>R</td>\n",
       "      <td>88 min</td>\n",
       "      <td>Comedies, Horror Movies</td>\n",
       "      <td>Looking to survive in a world taken over by zo...</td>\n",
       "    </tr>\n",
       "    <tr>\n",
       "      <th>8805</th>\n",
       "      <td>s8806</td>\n",
       "      <td>Movie</td>\n",
       "      <td>Zoom</td>\n",
       "      <td>Peter Hewitt</td>\n",
       "      <td>Tim Allen, Courteney Cox, Chevy Chase, Kate Ma...</td>\n",
       "      <td>United States</td>\n",
       "      <td>January 11, 2020</td>\n",
       "      <td>2006</td>\n",
       "      <td>PG</td>\n",
       "      <td>88 min</td>\n",
       "      <td>Children &amp; Family Movies, Comedies</td>\n",
       "      <td>Dragged from civilian life, a former superhero...</td>\n",
       "    </tr>\n",
       "    <tr>\n",
       "      <th>8806</th>\n",
       "      <td>s8807</td>\n",
       "      <td>Movie</td>\n",
       "      <td>Zubaan</td>\n",
       "      <td>Mozez Singh</td>\n",
       "      <td>Vicky Kaushal, Sarah-Jane Dias, Raaghav Chanan...</td>\n",
       "      <td>India</td>\n",
       "      <td>March 2, 2019</td>\n",
       "      <td>2015</td>\n",
       "      <td>TV-14</td>\n",
       "      <td>111 min</td>\n",
       "      <td>Dramas, International Movies, Music &amp; Musicals</td>\n",
       "      <td>A scrappy but poor boy worms his way into a ty...</td>\n",
       "    </tr>\n",
       "  </tbody>\n",
       "</table>\n",
       "<p>8807 rows × 12 columns</p>\n",
       "</div>"
      ],
      "text/plain": [
       "     show_id     type                  title         director  \\\n",
       "0         s1    Movie   Dick Johnson Is Dead  Kirsten Johnson   \n",
       "1         s2  TV Show          Blood & Water              NaN   \n",
       "2         s3  TV Show              Ganglands  Julien Leclercq   \n",
       "3         s4  TV Show  Jailbirds New Orleans              NaN   \n",
       "4         s5  TV Show           Kota Factory              NaN   \n",
       "...      ...      ...                    ...              ...   \n",
       "8802   s8803    Movie                 Zodiac    David Fincher   \n",
       "8803   s8804  TV Show            Zombie Dumb              NaN   \n",
       "8804   s8805    Movie             Zombieland  Ruben Fleischer   \n",
       "8805   s8806    Movie                   Zoom     Peter Hewitt   \n",
       "8806   s8807    Movie                 Zubaan      Mozez Singh   \n",
       "\n",
       "                                                   cast        country  \\\n",
       "0                                                   NaN  United States   \n",
       "1     Ama Qamata, Khosi Ngema, Gail Mabalane, Thaban...   South Africa   \n",
       "2     Sami Bouajila, Tracy Gotoas, Samuel Jouy, Nabi...            NaN   \n",
       "3                                                   NaN            NaN   \n",
       "4     Mayur More, Jitendra Kumar, Ranjan Raj, Alam K...          India   \n",
       "...                                                 ...            ...   \n",
       "8802  Mark Ruffalo, Jake Gyllenhaal, Robert Downey J...  United States   \n",
       "8803                                                NaN            NaN   \n",
       "8804  Jesse Eisenberg, Woody Harrelson, Emma Stone, ...  United States   \n",
       "8805  Tim Allen, Courteney Cox, Chevy Chase, Kate Ma...  United States   \n",
       "8806  Vicky Kaushal, Sarah-Jane Dias, Raaghav Chanan...          India   \n",
       "\n",
       "              date_added  release_year rating   duration  \\\n",
       "0     September 25, 2021          2020  PG-13     90 min   \n",
       "1     September 24, 2021          2021  TV-MA  2 Seasons   \n",
       "2     September 24, 2021          2021  TV-MA   1 Season   \n",
       "3     September 24, 2021          2021  TV-MA   1 Season   \n",
       "4     September 24, 2021          2021  TV-MA  2 Seasons   \n",
       "...                  ...           ...    ...        ...   \n",
       "8802   November 20, 2019          2007      R    158 min   \n",
       "8803        July 1, 2019          2018  TV-Y7  2 Seasons   \n",
       "8804    November 1, 2019          2009      R     88 min   \n",
       "8805    January 11, 2020          2006     PG     88 min   \n",
       "8806       March 2, 2019          2015  TV-14    111 min   \n",
       "\n",
       "                                              listed_in  \\\n",
       "0                                         Documentaries   \n",
       "1       International TV Shows, TV Dramas, TV Mysteries   \n",
       "2     Crime TV Shows, International TV Shows, TV Act...   \n",
       "3                                Docuseries, Reality TV   \n",
       "4     International TV Shows, Romantic TV Shows, TV ...   \n",
       "...                                                 ...   \n",
       "8802                     Cult Movies, Dramas, Thrillers   \n",
       "8803             Kids' TV, Korean TV Shows, TV Comedies   \n",
       "8804                            Comedies, Horror Movies   \n",
       "8805                 Children & Family Movies, Comedies   \n",
       "8806     Dramas, International Movies, Music & Musicals   \n",
       "\n",
       "                                            description  \n",
       "0     As her father nears the end of his life, filmm...  \n",
       "1     After crossing paths at a party, a Cape Town t...  \n",
       "2     To protect his family from a powerful drug lor...  \n",
       "3     Feuds, flirtations and toilet talk go down amo...  \n",
       "4     In a city of coaching centers known to train I...  \n",
       "...                                                 ...  \n",
       "8802  A political cartoonist, a crime reporter and a...  \n",
       "8803  While living alone in a spooky town, a young g...  \n",
       "8804  Looking to survive in a world taken over by zo...  \n",
       "8805  Dragged from civilian life, a former superhero...  \n",
       "8806  A scrappy but poor boy worms his way into a ty...  \n",
       "\n",
       "[8807 rows x 12 columns]"
      ]
     },
     "execution_count": 2,
     "metadata": {},
     "output_type": "execute_result"
    }
   ],
   "source": [
    "import pandas as pd\n",
    "df = pd.read_csv('C:/Users/E7440/Projects_22/PyProject workspace/Python-Projects/Netflix-titles-Analysis/Netflix_data.csv')\n",
    "df\n"
   ]
  },
  {
   "cell_type": "code",
   "execution_count": 3,
   "metadata": {},
   "outputs": [
    {
     "name": "stdout",
     "output_type": "stream",
     "text": [
      "This dataset contains: \n",
      " 8807 rows and \n",
      " 12 columns\n"
     ]
    }
   ],
   "source": [
    "# cheak the shape of the dataset\n",
    "print(f'This dataset contains: \\n {df.shape[0]} rows and \\n {df.shape[1]} columns')\n"
   ]
  },
  {
   "cell_type": "code",
   "execution_count": 4,
   "metadata": {},
   "outputs": [
    {
     "data": {
      "text/plain": [
       "Index(['show_id', 'type', 'title', 'director', 'cast', 'country', 'date_added',\n",
       "       'release_year', 'rating', 'duration', 'listed_in', 'description'],\n",
       "      dtype='object')"
      ]
     },
     "execution_count": 4,
     "metadata": {},
     "output_type": "execute_result"
    }
   ],
   "source": [
    "df.columns"
   ]
  },
  {
   "cell_type": "code",
   "execution_count": 5,
   "metadata": {},
   "outputs": [
    {
     "data": {
      "text/html": [
       "<div>\n",
       "<style scoped>\n",
       "    .dataframe tbody tr th:only-of-type {\n",
       "        vertical-align: middle;\n",
       "    }\n",
       "\n",
       "    .dataframe tbody tr th {\n",
       "        vertical-align: top;\n",
       "    }\n",
       "\n",
       "    .dataframe thead th {\n",
       "        text-align: right;\n",
       "    }\n",
       "</style>\n",
       "<table border=\"1\" class=\"dataframe\">\n",
       "  <thead>\n",
       "    <tr style=\"text-align: right;\">\n",
       "      <th></th>\n",
       "      <th>show_id</th>\n",
       "      <th>type</th>\n",
       "      <th>title</th>\n",
       "      <th>director</th>\n",
       "      <th>cast</th>\n",
       "      <th>country</th>\n",
       "      <th>release_year</th>\n",
       "      <th>rating</th>\n",
       "      <th>duration</th>\n",
       "      <th>listed_in</th>\n",
       "    </tr>\n",
       "  </thead>\n",
       "  <tbody>\n",
       "    <tr>\n",
       "      <th>0</th>\n",
       "      <td>s1</td>\n",
       "      <td>Movie</td>\n",
       "      <td>Dick Johnson Is Dead</td>\n",
       "      <td>Kirsten Johnson</td>\n",
       "      <td>NaN</td>\n",
       "      <td>United States</td>\n",
       "      <td>2020</td>\n",
       "      <td>PG-13</td>\n",
       "      <td>90 min</td>\n",
       "      <td>Documentaries</td>\n",
       "    </tr>\n",
       "    <tr>\n",
       "      <th>1</th>\n",
       "      <td>s2</td>\n",
       "      <td>TV Show</td>\n",
       "      <td>Blood &amp; Water</td>\n",
       "      <td>NaN</td>\n",
       "      <td>Ama Qamata, Khosi Ngema, Gail Mabalane, Thaban...</td>\n",
       "      <td>South Africa</td>\n",
       "      <td>2021</td>\n",
       "      <td>TV-MA</td>\n",
       "      <td>2 Seasons</td>\n",
       "      <td>International TV Shows, TV Dramas, TV Mysteries</td>\n",
       "    </tr>\n",
       "    <tr>\n",
       "      <th>2</th>\n",
       "      <td>s3</td>\n",
       "      <td>TV Show</td>\n",
       "      <td>Ganglands</td>\n",
       "      <td>Julien Leclercq</td>\n",
       "      <td>Sami Bouajila, Tracy Gotoas, Samuel Jouy, Nabi...</td>\n",
       "      <td>NaN</td>\n",
       "      <td>2021</td>\n",
       "      <td>TV-MA</td>\n",
       "      <td>1 Season</td>\n",
       "      <td>Crime TV Shows, International TV Shows, TV Act...</td>\n",
       "    </tr>\n",
       "    <tr>\n",
       "      <th>3</th>\n",
       "      <td>s4</td>\n",
       "      <td>TV Show</td>\n",
       "      <td>Jailbirds New Orleans</td>\n",
       "      <td>NaN</td>\n",
       "      <td>NaN</td>\n",
       "      <td>NaN</td>\n",
       "      <td>2021</td>\n",
       "      <td>TV-MA</td>\n",
       "      <td>1 Season</td>\n",
       "      <td>Docuseries, Reality TV</td>\n",
       "    </tr>\n",
       "    <tr>\n",
       "      <th>4</th>\n",
       "      <td>s5</td>\n",
       "      <td>TV Show</td>\n",
       "      <td>Kota Factory</td>\n",
       "      <td>NaN</td>\n",
       "      <td>Mayur More, Jitendra Kumar, Ranjan Raj, Alam K...</td>\n",
       "      <td>India</td>\n",
       "      <td>2021</td>\n",
       "      <td>TV-MA</td>\n",
       "      <td>2 Seasons</td>\n",
       "      <td>International TV Shows, Romantic TV Shows, TV ...</td>\n",
       "    </tr>\n",
       "  </tbody>\n",
       "</table>\n",
       "</div>"
      ],
      "text/plain": [
       "  show_id     type                  title         director  \\\n",
       "0      s1    Movie   Dick Johnson Is Dead  Kirsten Johnson   \n",
       "1      s2  TV Show          Blood & Water              NaN   \n",
       "2      s3  TV Show              Ganglands  Julien Leclercq   \n",
       "3      s4  TV Show  Jailbirds New Orleans              NaN   \n",
       "4      s5  TV Show           Kota Factory              NaN   \n",
       "\n",
       "                                                cast        country  \\\n",
       "0                                                NaN  United States   \n",
       "1  Ama Qamata, Khosi Ngema, Gail Mabalane, Thaban...   South Africa   \n",
       "2  Sami Bouajila, Tracy Gotoas, Samuel Jouy, Nabi...            NaN   \n",
       "3                                                NaN            NaN   \n",
       "4  Mayur More, Jitendra Kumar, Ranjan Raj, Alam K...          India   \n",
       "\n",
       "   release_year rating   duration  \\\n",
       "0          2020  PG-13     90 min   \n",
       "1          2021  TV-MA  2 Seasons   \n",
       "2          2021  TV-MA   1 Season   \n",
       "3          2021  TV-MA   1 Season   \n",
       "4          2021  TV-MA  2 Seasons   \n",
       "\n",
       "                                           listed_in  \n",
       "0                                      Documentaries  \n",
       "1    International TV Shows, TV Dramas, TV Mysteries  \n",
       "2  Crime TV Shows, International TV Shows, TV Act...  \n",
       "3                             Docuseries, Reality TV  \n",
       "4  International TV Shows, Romantic TV Shows, TV ...  "
      ]
     },
     "execution_count": 5,
     "metadata": {},
     "output_type": "execute_result"
    }
   ],
   "source": [
    "df = df.drop(['date_added', 'description'], axis=1)\n",
    "df.head()"
   ]
  },
  {
   "cell_type": "code",
   "execution_count": 6,
   "metadata": {},
   "outputs": [
    {
     "name": "stdout",
     "output_type": "stream",
     "text": [
      "This dataset contains 8807 rows and 10 columns now\n"
     ]
    }
   ],
   "source": [
    "# now cheak the updated data's rows and columns\n",
    "print(f'This dataset contains {df.shape[0]} rows and {df.shape[1]} columns now')"
   ]
  },
  {
   "cell_type": "code",
   "execution_count": 7,
   "metadata": {},
   "outputs": [
    {
     "data": {
      "text/plain": [
       "show_id         object\n",
       "type            object\n",
       "title           object\n",
       "director        object\n",
       "cast            object\n",
       "country         object\n",
       "release_year     int64\n",
       "rating          object\n",
       "duration        object\n",
       "listed_in       object\n",
       "dtype: object"
      ]
     },
     "execution_count": 7,
     "metadata": {},
     "output_type": "execute_result"
    }
   ],
   "source": [
    "df.dtypes"
   ]
  },
  {
   "cell_type": "code",
   "execution_count": 8,
   "metadata": {},
   "outputs": [
    {
     "data": {
      "text/plain": [
       "show_id            0\n",
       "type               0\n",
       "title              0\n",
       "director        2634\n",
       "cast             825\n",
       "country          831\n",
       "release_year       0\n",
       "rating             4\n",
       "duration           3\n",
       "listed_in          0\n",
       "dtype: int64"
      ]
     },
     "execution_count": 8,
     "metadata": {},
     "output_type": "execute_result"
    }
   ],
   "source": [
    "#cheak the missing value\n",
    "df.isnull().sum()"
   ]
  },
  {
   "cell_type": "code",
   "execution_count": 9,
   "metadata": {},
   "outputs": [
    {
     "data": {
      "text/plain": [
       "show_id          0.000000\n",
       "type             0.000000\n",
       "title            0.000000\n",
       "director        29.908028\n",
       "cast             9.367549\n",
       "country          9.435676\n",
       "release_year     0.000000\n",
       "rating           0.045418\n",
       "duration         0.034064\n",
       "listed_in        0.000000\n",
       "dtype: float64"
      ]
     },
     "execution_count": 9,
     "metadata": {},
     "output_type": "execute_result"
    }
   ],
   "source": [
    "#percentage of the missing value\n",
    "df.isnull().sum() * 100 / len(df)"
   ]
  },
  {
   "cell_type": "code",
   "execution_count": 10,
   "metadata": {},
   "outputs": [
    {
     "data": {
      "image/png": "[encoded data removed]",
      "text/plain": [
       "<Figure size 640x480 with 2 Axes>"
      ]
     },
     "metadata": {},
     "output_type": "display_data"
    }
   ],
   "source": [
    "# visulaize the missing value\n",
    "import matplotlib.pyplot as plt\n",
    "sns.heatmap(df.isnull(),cmap='viridis')\n",
    "plt.show()"
   ]
  },
  {
   "cell_type": "code",
   "execution_count": 11,
   "metadata": {},
   "outputs": [],
   "source": [
    "df.dropna(subset= ['duration'], inplace=True)"
   ]
  },
  {
   "cell_type": "code",
   "execution_count": 12,
   "metadata": {},
   "outputs": [
    {
     "data": {
      "text/plain": [
       "(8804, 10)"
      ]
     },
     "execution_count": 12,
     "metadata": {},
     "output_type": "execute_result"
    }
   ],
   "source": [
    "df.shape"
   ]
  },
  {
   "cell_type": "code",
   "execution_count": 13,
   "metadata": {},
   "outputs": [
    {
     "name": "stdout",
     "output_type": "stream",
     "text": [
      "<class 'pandas.core.frame.DataFrame'>\n",
      "Index: 8804 entries, 0 to 8806\n",
      "Data columns (total 10 columns):\n",
      " #   Column        Non-Null Count  Dtype \n",
      "---  ------        --------------  ----- \n",
      " 0   show_id       8804 non-null   object\n",
      " 1   type          8804 non-null   object\n",
      " 2   title         8804 non-null   object\n",
      " 3   director      6170 non-null   object\n",
      " 4   cast          7979 non-null   object\n",
      " 5   country       7973 non-null   object\n",
      " 6   release_year  8804 non-null   int64 \n",
      " 7   rating        8800 non-null   object\n",
      " 8   duration      8804 non-null   object\n",
      " 9   listed_in     8804 non-null   object\n",
      "dtypes: int64(1), object(9)\n",
      "memory usage: 756.6+ KB\n"
     ]
    }
   ],
   "source": [
    "df.info()"
   ]
  },
  {
   "cell_type": "code",
   "execution_count": 14,
   "metadata": {},
   "outputs": [
    {
     "data": {
      "text/plain": [
       "(5697, 10)"
      ]
     },
     "execution_count": 14,
     "metadata": {},
     "output_type": "execute_result"
    }
   ],
   "source": [
    "df.dropna(subset= [\"director\", 'cast'], inplace=True)\n",
    "df.shape"
   ]
  },
  {
   "cell_type": "code",
   "execution_count": 15,
   "metadata": {},
   "outputs": [
    {
     "data": {
      "text/plain": [
       "(5697, 10)"
      ]
     },
     "execution_count": 15,
     "metadata": {},
     "output_type": "execute_result"
    }
   ],
   "source": [
    "df[\"country\"].fillna(df[\"country\"].mode()[0], inplace=True)\n",
    "df[\"rating\"].fillna(df[\"rating\"].mode()[0], inplace=True)\n",
    "df.shape"
   ]
  },
  {
   "cell_type": "code",
   "execution_count": 16,
   "metadata": {},
   "outputs": [
    {
     "data": {
      "text/plain": [
       "show_id         0.0\n",
       "type            0.0\n",
       "title           0.0\n",
       "director        0.0\n",
       "cast            0.0\n",
       "country         0.0\n",
       "release_year    0.0\n",
       "rating          0.0\n",
       "duration        0.0\n",
       "listed_in       0.0\n",
       "dtype: float64"
      ]
     },
     "execution_count": 16,
     "metadata": {},
     "output_type": "execute_result"
    }
   ],
   "source": [
    "#Checking the porcentage of null values at hits point\n",
    "df.isnull().sum()/len(df)*100"
   ]
  },
  {
   "cell_type": "code",
   "execution_count": 17,
   "metadata": {},
   "outputs": [
    {
     "data": {
      "text/plain": [
       "type\n",
       "Movie      5519\n",
       "TV Show     178\n",
       "Name: count, dtype: int64"
      ]
     },
     "execution_count": 17,
     "metadata": {},
     "output_type": "execute_result"
    }
   ],
   "source": [
    "df['type'].value_counts()"
   ]
  },
  {
   "cell_type": "code",
   "execution_count": 18,
   "metadata": {},
   "outputs": [
    {
     "data": {
      "application/vnd.plotly.v1+json": {
       "config": {
        "plotlyServerURL": "https://plot.ly"
       },
       "data": [
        {
         "domain": {
          "x": [
           0,
           1
          ],
          "y": [
           0,
           1
          ]
         },
         "hovertemplate": "type=%{label}<br>counts=%{value}<extra></extra>",
         "labels": [
          "Movie",
          "TV Show"
         ],
         "legendgroup": "",
         "name": "",
         "showlegend": true,
         "type": "pie",
         "values": [
          5519,
          178
         ]
        }
       ],
       "layout": {
        "height": 500,
        "legend": {
         "tracegroupgap": 0
        },
        "piecolorway": [
         "rgb(75, 41, 145)",
         "rgb(135, 44, 162)",
         "rgb(192, 54, 157)",
         "rgb(234, 79, 136)",
         "rgb(250, 120, 118)",
         "rgb(246, 169, 122)",
         "rgb(237, 217, 163)"
        ],
        "template": {
         "data": {
          "bar": [
           {
            "error_x": {
             "color": "#2a3f5f"
            },
            "error_y": {
             "color": "#2a3f5f"
            },
            "marker": {
             "line": {
              "color": "#E5ECF6",
              "width": 0.5
             },
             "pattern": {
              "fillmode": "overlay",
              "size": 10,
              "solidity": 0.2
             }
            },
            "type": "bar"
           }
          ],
          "barpolar": [
           {
            "marker": {
             "line": {
              "color": "#E5ECF6",
              "width": 0.5
             },
             "pattern": {
              "fillmode": "overlay",
              "size": 10,
              "solidity": 0.2
             }
            },
            "type": "barpolar"
           }
          ],
          "carpet": [
           {
            "aaxis": {
             "endlinecolor": "#2a3f5f",
             "gridcolor": "white",
             "linecolor": "white",
             "minorgridcolor": "white",
             "startlinecolor": "#2a3f5f"
            },
            "baxis": {
             "endlinecolor": "#2a3f5f",
             "gridcolor": "white",
             "linecolor": "white",
             "minorgridcolor": "white",
             "startlinecolor": "#2a3f5f"
            },
            "type": "carpet"
           }
          ],
          "choropleth": [
           {
            "colorbar": {
             "outlinewidth": 0,
             "ticks": ""
            },
            "type": "choropleth"
           }
          ],
          "contour": [
           {
            "colorbar": {
             "outlinewidth": 0,
             "ticks": ""
            },
            "colorscale": [
             [
              0,
              "#0d0887"
             ],
             [
              0.1111111111111111,
              "#46039f"
             ],
             [
              0.2222222222222222,
              "#7201a8"
             ],
             [
              0.3333333333333333,
              "#9c179e"
             ],
             [
              0.4444444444444444,
              "#bd3786"
             ],
             [
              0.5555555555555556,
              "#d8576b"
             ],
             [
              0.6666666666666666,
              "#ed7953"
             ],
             [
              0.7777777777777778,
              "#fb9f3a"
             ],
             [
              0.8888888888888888,
              "#fdca26"
             ],
             [
              1,
              "#f0f921"
             ]
            ],
            "type": "contour"
           }
          ],
          "contourcarpet": [
           {
            "colorbar": {
             "outlinewidth": 0,
             "ticks": ""
            },
            "type": "contourcarpet"
           }
          ],
          "heatmap": [
           {
            "colorbar": {
             "outlinewidth": 0,
             "ticks": ""
            },
            "colorscale": [
             [
              0,
              "#0d0887"
             ],
             [
              0.1111111111111111,
              "#46039f"
             ],
             [
              0.2222222222222222,
              "#7201a8"
             ],
             [
              0.3333333333333333,
              "#9c179e"
             ],
             [
              0.4444444444444444,
              "#bd3786"
             ],
             [
              0.5555555555555556,
              "#d8576b"
             ],
             [
              0.6666666666666666,
              "#ed7953"
             ],
             [
              0.7777777777777778,
              "#fb9f3a"
             ],
             [
              0.8888888888888888,
              "#fdca26"
             ],
             [
              1,
              "#f0f921"
             ]
            ],
            "type": "heatmap"
           }
          ],
          "heatmapgl": [
           {
            "colorbar": {
             "outlinewidth": 0,
             "ticks": ""
            },
            "colorscale": [
             [
              0,
              "#0d0887"
             ],
             [
              0.1111111111111111,
              "#46039f"
             ],
             [
              0.2222222222222222,
              "#7201a8"
             ],
             [
              0.3333333333333333,
              "#9c179e"
             ],
             [
              0.4444444444444444,
              "#bd3786"
             ],
             [
              0.5555555555555556,
              "#d8576b"
             ],
             [
              0.6666666666666666,
              "#ed7953"
             ],
             [
              0.7777777777777778,
              "#fb9f3a"
             ],
             [
              0.8888888888888888,
              "#fdca26"
             ],
             [
              1,
              "#f0f921"
             ]
            ],
            "type": "heatmapgl"
           }
          ],
          "histogram": [
           {
            "marker": {
             "pattern": {
              "fillmode": "overlay",
              "size": 10,
              "solidity": 0.2
             }
            },
            "type": "histogram"
           }
          ],
          "histogram2d": [
           {
            "colorbar": {
             "outlinewidth": 0,
             "ticks": ""
            },
            "colorscale": [
             [
              0,
              "#0d0887"
             ],
             [
              0.1111111111111111,
              "#46039f"
             ],
             [
              0.2222222222222222,
              "#7201a8"
             ],
             [
              0.3333333333333333,
              "#9c179e"
             ],
             [
              0.4444444444444444,
              "#bd3786"
             ],
             [
              0.5555555555555556,
              "#d8576b"
             ],
             [
              0.6666666666666666,
              "#ed7953"
             ],
             [
              0.7777777777777778,
              "#fb9f3a"
             ],
             [
              0.8888888888888888,
              "#fdca26"
             ],
             [
              1,
              "#f0f921"
             ]
            ],
            "type": "histogram2d"
           }
          ],
          "histogram2dcontour": [
           {
            "colorbar": {
             "outlinewidth": 0,
             "ticks": ""
            },
            "colorscale": [
             [
              0,
              "#0d0887"
             ],
             [
              0.1111111111111111,
              "#46039f"
             ],
             [
              0.2222222222222222,
              "#7201a8"
             ],
             [
              0.3333333333333333,
              "#9c179e"
             ],
             [
              0.4444444444444444,
              "#bd3786"
             ],
             [
              0.5555555555555556,
              "#d8576b"
             ],
             [
              0.6666666666666666,
              "#ed7953"
             ],
             [
              0.7777777777777778,
              "#fb9f3a"
             ],
             [
              0.8888888888888888,
              "#fdca26"
             ],
             [
              1,
              "#f0f921"
             ]
            ],
            "type": "histogram2dcontour"
           }
          ],
          "mesh3d": [
           {
            "colorbar": {
             "outlinewidth": 0,
             "ticks": ""
            },
            "type": "mesh3d"
           }
          ],
          "parcoords": [
           {
            "line": {
             "colorbar": {
              "outlinewidth": 0,
              "ticks": ""
             }
            },
            "type": "parcoords"
           }
          ],
          "pie": [
           {
            "automargin": true,
            "type": "pie"
           }
          ],
          "scatter": [
           {
            "fillpattern": {
             "fillmode": "overlay",
             "size": 10,
             "solidity": 0.2
            },
            "type": "scatter"
           }
          ],
          "scatter3d": [
           {
            "line": {
             "colorbar": {
              "outlinewidth": 0,
              "ticks": ""
             }
            },
            "marker": {
             "colorbar": {
              "outlinewidth": 0,
              "ticks": ""
             }
            },
            "type": "scatter3d"
           }
          ],
          "scattercarpet": [
           {
            "marker": {
             "colorbar": {
              "outlinewidth": 0,
              "ticks": ""
             }
            },
            "type": "scattercarpet"
           }
          ],
          "scattergeo": [
           {
            "marker": {
             "colorbar": {
              "outlinewidth": 0,
              "ticks": ""
             }
            },
            "type": "scattergeo"
           }
          ],
          "scattergl": [
           {
            "marker": {
             "colorbar": {
              "outlinewidth": 0,
              "ticks": ""
             }
            },
            "type": "scattergl"
           }
          ],
          "scattermapbox": [
           {
            "marker": {
             "colorbar": {
              "outlinewidth": 0,
              "ticks": ""
             }
            },
            "type": "scattermapbox"
           }
          ],
          "scatterpolar": [
           {
            "marker": {
             "colorbar": {
              "outlinewidth": 0,
              "ticks": ""
             }
            },
            "type": "scatterpolar"
           }
          ],
          "scatterpolargl": [
           {
            "marker": {
             "colorbar": {
              "outlinewidth": 0,
              "ticks": ""
             }
            },
            "type": "scatterpolargl"
           }
          ],
          "scatterternary": [
           {
            "marker": {
             "colorbar": {
              "outlinewidth": 0,
              "ticks": ""
             }
            },
            "type": "scatterternary"
           }
          ],
          "surface": [
           {
            "colorbar": {
             "outlinewidth": 0,
             "ticks": ""
            },
            "colorscale": [
             [
              0,
              "#0d0887"
             ],
             [
              0.1111111111111111,
              "#46039f"
             ],
             [
              0.2222222222222222,
              "#7201a8"
             ],
             [
              0.3333333333333333,
              "#9c179e"
             ],
             [
              0.4444444444444444,
              "#bd3786"
             ],
             [
              0.5555555555555556,
              "#d8576b"
             ],
             [
              0.6666666666666666,
              "#ed7953"
             ],
             [
              0.7777777777777778,
              "#fb9f3a"
             ],
             [
              0.8888888888888888,
              "#fdca26"
             ],
             [
              1,
              "#f0f921"
             ]
            ],
            "type": "surface"
           }
          ],
          "table": [
           {
            "cells": {
             "fill": {
              "color": "#EBF0F8"
             },
             "line": {
              "color": "white"
             }
            },
            "header": {
             "fill": {
              "color": "#C8D4E3"
             },
             "line": {
              "color": "white"
             }
            },
            "type": "table"
           }
          ]
         },
         "layout": {
          "annotationdefaults": {
           "arrowcolor": "#2a3f5f",
           "arrowhead": 0,
           "arrowwidth": 1
          },
          "autotypenumbers": "strict",
          "coloraxis": {
           "colorbar": {
            "outlinewidth": 0,
            "ticks": ""
           }
          },
          "colorscale": {
           "diverging": [
            [
             0,
             "#8e0152"
            ],
            [
             0.1,
             "#c51b7d"
            ],
            [
             0.2,
             "#de77ae"
            ],
            [
             0.3,
             "#f1b6da"
            ],
            [
             0.4,
             "#fde0ef"
            ],
            [
             0.5,
             "#f7f7f7"
            ],
            [
             0.6,
             "#e6f5d0"
            ],
            [
             0.7,
             "#b8e186"
            ],
            [
             0.8,
             "#7fbc41"
            ],
            [
             0.9,
             "#4d9221"
            ],
            [
             1,
             "#276419"
            ]
           ],
           "sequential": [
            [
             0,
             "#0d0887"
            ],
            [
             0.1111111111111111,
             "#46039f"
            ],
            [
             0.2222222222222222,
             "#7201a8"
            ],
            [
             0.3333333333333333,
             "#9c179e"
            ],
            [
             0.4444444444444444,
             "#bd3786"
            ],
            [
             0.5555555555555556,
             "#d8576b"
            ],
            [
             0.6666666666666666,
             "#ed7953"
            ],
            [
             0.7777777777777778,
             "#fb9f3a"
            ],
            [
             0.8888888888888888,
             "#fdca26"
            ],
            [
             1,
             "#f0f921"
            ]
           ],
           "sequentialminus": [
            [
             0,
             "#0d0887"
            ],
            [
             0.1111111111111111,
             "#46039f"
            ],
            [
             0.2222222222222222,
             "#7201a8"
            ],
            [
             0.3333333333333333,
             "#9c179e"
            ],
            [
             0.4444444444444444,
             "#bd3786"
            ],
            [
             0.5555555555555556,
             "#d8576b"
            ],
            [
             0.6666666666666666,
             "#ed7953"
            ],
            [
             0.7777777777777778,
             "#fb9f3a"
            ],
            [
             0.8888888888888888,
             "#fdca26"
            ],
            [
             1,
             "#f0f921"
            ]
           ]
          },
          "colorway": [
           "#636efa",
           "#EF553B",
           "#00cc96",
           "#ab63fa",
           "#FFA15A",
           "#19d3f3",
           "#FF6692",
           "#B6E880",
           "#FF97FF",
           "#FECB52"
          ],
          "font": {
           "color": "#2a3f5f"
          },
          "geo": {
           "bgcolor": "white",
           "lakecolor": "white",
           "landcolor": "#E5ECF6",
           "showlakes": true,
           "showland": true,
           "subunitcolor": "white"
          },
          "hoverlabel": {
           "align": "left"
          },
          "hovermode": "closest",
          "mapbox": {
           "style": "light"
          },
          "paper_bgcolor": "white",
          "plot_bgcolor": "#E5ECF6",
          "polar": {
           "angularaxis": {
            "gridcolor": "white",
            "linecolor": "white",
            "ticks": ""
           },
           "bgcolor": "#E5ECF6",
           "radialaxis": {
            "gridcolor": "white",
            "linecolor": "white",
            "ticks": ""
           }
          },
          "scene": {
           "xaxis": {
            "backgroundcolor": "#E5ECF6",
            "gridcolor": "white",
            "gridwidth": 2,
            "linecolor": "white",
            "showbackground": true,
            "ticks": "",
            "zerolinecolor": "white"
           },
           "yaxis": {
            "backgroundcolor": "#E5ECF6",
            "gridcolor": "white",
            "gridwidth": 2,
            "linecolor": "white",
            "showbackground": true,
            "ticks": "",
            "zerolinecolor": "white"
           },
           "zaxis": {
            "backgroundcolor": "#E5ECF6",
            "gridcolor": "white",
            "gridwidth": 2,
            "linecolor": "white",
            "showbackground": true,
            "ticks": "",
            "zerolinecolor": "white"
           }
          },
          "shapedefaults": {
           "line": {
            "color": "#2a3f5f"
           }
          },
          "ternary": {
           "aaxis": {
            "gridcolor": "white",
            "linecolor": "white",
            "ticks": ""
           },
           "baxis": {
            "gridcolor": "white",
            "linecolor": "white",
            "ticks": ""
           },
           "bgcolor": "#E5ECF6",
           "caxis": {
            "gridcolor": "white",
            "linecolor": "white",
            "ticks": ""
           }
          },
          "title": {
           "x": 0.05
          },
          "xaxis": {
           "automargin": true,
           "gridcolor": "white",
           "linecolor": "white",
           "ticks": "",
           "title": {
            "standoff": 15
           },
           "zerolinecolor": "white",
           "zerolinewidth": 2
          },
          "yaxis": {
           "automargin": true,
           "gridcolor": "white",
           "linecolor": "white",
           "ticks": "",
           "title": {
            "standoff": 15
           },
           "zerolinecolor": "white",
           "zerolinewidth": 2
          }
         }
        },
        "title": {
         "text": "Content type distribution on Netflix"
        },
        "width": 700
       }
      }
     },
     "metadata": {},
     "output_type": "display_data"
    }
   ],
   "source": [
    "# Distribution of content ratings on Netflix\n",
    "content_type = df.groupby(['type']).size().reset_index(name='counts')\n",
    "content_type\n",
    "# Ploting Distribution of content ratings on Netflix\n",
    "fig = px.pie(content_type, names = 'type',values = 'counts',color_discrete_sequence =  px.colors.sequential.Agsunset,\n",
    "             title = 'Content type distribution on Netflix',height =  500 , width = 700)\n",
    "fig.show()"
   ]
  },
  {
   "cell_type": "code",
   "execution_count": 19,
   "metadata": {},
   "outputs": [
    {
     "data": {
      "text/plain": [
       "country\n",
       "United States                                   2210\n",
       "India                                            875\n",
       "United Kingdom                                   183\n",
       "Canada                                           107\n",
       "Spain                                             91\n",
       "                                                ... \n",
       "Uruguay, Guatemala                                 1\n",
       "Romania, Bulgaria, Hungary                         1\n",
       "Philippines, United States                         1\n",
       "India, United Kingdom, Canada, United States       1\n",
       "United Arab Emirates, Jordan                       1\n",
       "Name: count, Length: 604, dtype: int64"
      ]
     },
     "execution_count": 19,
     "metadata": {},
     "output_type": "execute_result"
    }
   ],
   "source": [
    "df['country'].value_counts()"
   ]
  },
  {
   "cell_type": "code",
   "execution_count": 20,
   "metadata": {},
   "outputs": [
    {
     "data": {
      "image/png": "[encoded data removed]",
      "text/plain": [
       "<Figure size 1200x600 with 1 Axes>"
      ]
     },
     "metadata": {},
     "output_type": "display_data"
    },
    {
     "data": {
      "text/plain": [
       "country\n",
       "United States                    2210\n",
       "India                             875\n",
       "United Kingdom                    183\n",
       "Canada                            107\n",
       "Spain                              91\n",
       "Egypt                              90\n",
       "Nigeria                            88\n",
       "Japan                              83\n",
       "Turkey                             79\n",
       "Indonesia                          76\n",
       "Philippines                        74\n",
       "France                             73\n",
       "Mexico                             64\n",
       "United Kingdom, United States      59\n",
       "United States, Canada              52\n",
       "Hong Kong                          49\n",
       "South Korea                        48\n",
       "Brazil                             46\n",
       "Germany                            41\n",
       "Thailand                           41\n",
       "Name: count, dtype: int64"
      ]
     },
     "execution_count": 20,
     "metadata": {},
     "output_type": "execute_result"
    }
   ],
   "source": [
    "top_countries = df['country'].value_counts().head(20)\n",
    "plt.figure(figsize=(12, 6))\n",
    "sns.barplot(x=top_countries.index, y=top_countries.values)\n",
    "plt.title('Top 20 countries with more content')\n",
    "plt.xlabel('Country')\n",
    "plt.ylabel('Number of content')\n",
    "plt.grid(True, axis='y')\n",
    "plt.xticks(rotation=60)\n",
    "plt.show()\n",
    "\n",
    "top_countries"
   ]
  },
  {
   "cell_type": "code",
   "execution_count": 21,
   "metadata": {},
   "outputs": [
    {
     "data": {
      "text/plain": [
       "(array([ 0,  1,  2,  3,  4,  5,  6,  7,  8,  9, 10, 11, 12, 13, 14, 15, 16,\n",
       "        17, 18, 19]),\n",
       " [Text(0, 0, 'United States'),\n",
       "  Text(1, 0, 'India'),\n",
       "  Text(2, 0, 'United Kingdom'),\n",
       "  Text(3, 0, 'Canada'),\n",
       "  Text(4, 0, 'Spain'),\n",
       "  Text(5, 0, 'Egypt'),\n",
       "  Text(6, 0, 'Nigeria'),\n",
       "  Text(7, 0, 'Japan'),\n",
       "  Text(8, 0, 'Turkey'),\n",
       "  Text(9, 0, 'Indonesia'),\n",
       "  Text(10, 0, 'Philippines'),\n",
       "  Text(11, 0, 'France'),\n",
       "  Text(12, 0, 'Mexico'),\n",
       "  Text(13, 0, 'United Kingdom, United States'),\n",
       "  Text(14, 0, 'United States, Canada'),\n",
       "  Text(15, 0, 'Hong Kong'),\n",
       "  Text(16, 0, 'South Korea'),\n",
       "  Text(17, 0, 'Brazil'),\n",
       "  Text(18, 0, 'Germany'),\n",
       "  Text(19, 0, 'Thailand')])"
      ]
     },
     "execution_count": 21,
     "metadata": {},
     "output_type": "execute_result"
    },
    {
     "data": {
      "image/png": "[encoded data removed]",
      "text/plain": [
       "<Figure size 640x480 with 1 Axes>"
      ]
     },
     "metadata": {},
     "output_type": "display_data"
    }
   ],
   "source": [
    "sns.countplot(x = df['country'], order = top_countries.index, hue = df['type'])\n",
    "plt.xticks(rotation=90)"
   ]
  },
  {
   "cell_type": "code",
   "execution_count": 22,
   "metadata": {},
   "outputs": [
    {
     "data": {
      "text/plain": [
       "(array([ 0,  1,  2,  3,  4,  5,  6,  7,  8,  9, 10, 11, 12, 13, 14, 15, 16,\n",
       "        17, 18, 19]),\n",
       " [Text(0, 0, 'United States'),\n",
       "  Text(1, 0, 'India'),\n",
       "  Text(2, 0, 'United Kingdom'),\n",
       "  Text(3, 0, 'Canada'),\n",
       "  Text(4, 0, 'Spain'),\n",
       "  Text(5, 0, 'Egypt'),\n",
       "  Text(6, 0, 'Nigeria'),\n",
       "  Text(7, 0, 'Japan'),\n",
       "  Text(8, 0, 'Turkey'),\n",
       "  Text(9, 0, 'Indonesia'),\n",
       "  Text(10, 0, 'Philippines'),\n",
       "  Text(11, 0, 'France'),\n",
       "  Text(12, 0, 'Mexico'),\n",
       "  Text(13, 0, 'United Kingdom, United States'),\n",
       "  Text(14, 0, 'United States, Canada'),\n",
       "  Text(15, 0, 'Hong Kong'),\n",
       "  Text(16, 0, 'South Korea'),\n",
       "  Text(17, 0, 'Brazil'),\n",
       "  Text(18, 0, 'Germany'),\n",
       "  Text(19, 0, 'Thailand')])"
      ]
     },
     "execution_count": 22,
     "metadata": {},
     "output_type": "execute_result"
    },
    {
     "data": {
      "image/png": "[encoded data removed]",
      "text/plain": [
       "<Figure size 1200x500 with 1 Axes>"
      ]
     },
     "metadata": {},
     "output_type": "display_data"
    }
   ],
   "source": [
    "plt.figure(figsize=(12,5))\n",
    "sns.countplot(x = df['country'], order = top_countries.index, hue =df['rating'] )\n",
    "plt.xticks(rotation=90)"
   ]
  },
  {
   "cell_type": "code",
   "execution_count": 25,
   "metadata": {},
   "outputs": [
    {
     "data": {
      "application/vnd.plotly.v1+json": {
       "config": {
        "plotlyServerURL": "https://plot.ly"
       },
       "data": [
        {
         "alignmentgroup": "True",
         "bingroup": "x",
         "hovertemplate": "rating=%{x}<br>count=%{y}<extra></extra>",
         "legendgroup": "TV-MA",
         "marker": {
          "color": "#636efa",
          "pattern": {
           "shape": ""
          }
         },
         "name": "TV-MA",
         "offsetgroup": "TV-MA",
         "orientation": "v",
         "showlegend": true,
         "type": "histogram",
         "x": [
          "TV-MA",
          "TV-MA",
          "TV-MA",
          "TV-MA",
          "TV-MA",
          "TV-MA",
          "TV-MA",
          "TV-MA",
          "TV-MA",
          "TV-MA",
          "TV-MA",
          "TV-MA",
          "TV-MA",
          "TV-MA",
          "TV-MA",
          "TV-MA",
          "TV-MA",
          "TV-MA",
          "TV-MA",
          "TV-MA",
          "TV-MA",
          "TV-MA",
          "TV-MA",
          "TV-MA",
          "TV-MA",
          "TV-MA",
          "TV-MA",
          "TV-MA",
          "TV-MA",
          "TV-MA",
          "TV-MA",
          "TV-MA",
          "TV-MA",
          "TV-MA",
          "TV-MA",
          "TV-MA",
          "TV-MA",
          "TV-MA",
          "TV-MA",
          "TV-MA",
          "TV-MA",
          "TV-MA",
          "TV-MA",
          "TV-MA",
          "TV-MA",
          "TV-MA",
          "TV-MA",
          "TV-MA",
          "TV-MA",
          "TV-MA",
          "TV-MA",
          "TV-MA",
          "TV-MA",
          "TV-MA",
          "TV-MA",
          "TV-MA",
          "TV-MA",
          "TV-MA",
          "TV-MA",
          "TV-MA",
          "TV-MA",
          "TV-MA",
          "TV-MA",
          "TV-MA",
          "TV-MA",
          "TV-MA",
          "TV-MA",
          "TV-MA",
          "TV-MA",
          "TV-MA",
          "TV-MA",
          "TV-MA",
          "TV-MA",
          "TV-MA",
          "TV-MA",
          "TV-MA",
          "TV-MA",
          "TV-MA",
          "TV-MA",
          "TV-MA",
          "TV-MA",
          "TV-MA",
          "TV-MA",
          "TV-MA",
          "TV-MA",
          "TV-MA",
          "TV-MA",
          "TV-MA",
          "TV-MA",
          "TV-MA",
          "TV-MA",
          "TV-MA",
          "TV-MA",
          "TV-MA",
          "TV-MA",
          "TV-MA",
          "TV-MA",
          "TV-MA",
          "TV-MA",
          "TV-MA",
          "TV-MA",
          "TV-MA",
          "TV-MA",
          "TV-MA",
          "TV-MA",
          "TV-MA",
          "TV-MA",
          "TV-MA",
          "TV-MA",
          "TV-MA",
          "TV-MA",
          "TV-MA",
          "TV-MA",
          "TV-MA",
          "TV-MA",
          "TV-MA",
          "TV-MA",
          "TV-MA",
          "TV-MA",
          "TV-MA",
          "TV-MA",
          "TV-MA",
          "TV-MA",
          "TV-MA",
          "TV-MA",
          "TV-MA",
          "TV-MA",
          "TV-MA",
          "TV-MA",
          "TV-MA",
          "TV-MA",
          "TV-MA",
          "TV-MA",
          "TV-MA",
          "TV-MA",
          "TV-MA",
          "TV-MA",
          "TV-MA",
          "TV-MA",
          "TV-MA",
          "TV-MA",
          "TV-MA",
          "TV-MA",
          "TV-MA",
          "TV-MA",
          "TV-MA",
          "TV-MA",
          "TV-MA",
          "TV-MA",
          "TV-MA",
          "TV-MA",
          "TV-MA",
          "TV-MA",
          "TV-MA",
          "TV-MA",
          "TV-MA",
          "TV-MA",
          "TV-MA",
          "TV-MA",
          "TV-MA",
          "TV-MA",
          "TV-MA",
          "TV-MA",
          "TV-MA",
          "TV-MA",
          "TV-MA",
          "TV-MA",
          "TV-MA",
          "TV-MA",
          "TV-MA",
          "TV-MA",
          "TV-MA",
          "TV-MA",
          "TV-MA",
          "TV-MA",
          "TV-MA",
          "TV-MA",
          "TV-MA",
          "TV-MA",
          "TV-MA",
          "TV-MA",
          "TV-MA",
          "TV-MA",
          "TV-MA",
          "TV-MA",
          "TV-MA",
          "TV-MA",
          "TV-MA",
          "TV-MA",
          "TV-MA",
          "TV-MA",
          "TV-MA",
          "TV-MA",
          "TV-MA",
          "TV-MA",
          "TV-MA",
          "TV-MA",
          "TV-MA",
          "TV-MA",
          "TV-MA",
          "TV-MA",
          "TV-MA",
          "TV-MA",
          "TV-MA",
          "TV-MA",
          "TV-MA",
          "TV-MA",
          "TV-MA",
          "TV-MA",
          "TV-MA",
          "TV-MA",
          "TV-MA",
          "TV-MA",
          "TV-MA",
          "TV-MA",
          "TV-MA",
          "TV-MA",
          "TV-MA",
          "TV-MA",
          "TV-MA",
          "TV-MA",
          "TV-MA",
          "TV-MA",
          "TV-MA",
          "TV-MA",
          "TV-MA",
          "TV-MA",
          "TV-MA",
          "TV-MA",
          "TV-MA",
          "TV-MA",
          "TV-MA",
          "TV-MA",
          "TV-MA",
          "TV-MA",
          "TV-MA",
          "TV-MA",
          "TV-MA",
          "TV-MA",
          "TV-MA",
          "TV-MA",
          "TV-MA",
          "TV-MA",
          "TV-MA",
          "TV-MA",
          "TV-MA",
          "TV-MA",
          "TV-MA",
          "TV-MA",
          "TV-MA",
          "TV-MA",
          "TV-MA",
          "TV-MA",
          "TV-MA",
          "TV-MA",
          "TV-MA",
          "TV-MA",
          "TV-MA",
          "TV-MA",
          "TV-MA",
          "TV-MA",
          "TV-MA",
          "TV-MA",
          "TV-MA",
          "TV-MA",
          "TV-MA",
          "TV-MA",
          "TV-MA",
          "TV-MA",
          "TV-MA",
          "TV-MA",
          "TV-MA",
          "TV-MA",
          "TV-MA",
          "TV-MA",
          "TV-MA",
          "TV-MA",
          "TV-MA",
          "TV-MA",
          "TV-MA",
          "TV-MA",
          "TV-MA",
          "TV-MA",
          "TV-MA",
          "TV-MA",
          "TV-MA",
          "TV-MA",
          "TV-MA",
          "TV-MA",
          "TV-MA",
          "TV-MA",
          "TV-MA",
          "TV-MA",
          "TV-MA",
          "TV-MA",
          "TV-MA",
          "TV-MA",
          "TV-MA",
          "TV-MA",
          "TV-MA",
          "TV-MA",
          "TV-MA",
          "TV-MA",
          "TV-MA",
          "TV-MA",
          "TV-MA",
          "TV-MA",
          "TV-MA",
          "TV-MA",
          "TV-MA",
          "TV-MA",
          "TV-MA",
          "TV-MA",
          "TV-MA",
          "TV-MA",
          "TV-MA",
          "TV-MA",
          "TV-MA",
          "TV-MA",
          "TV-MA",
          "TV-MA",
          "TV-MA",
          "TV-MA",
          "TV-MA",
          "TV-MA",
          "TV-MA",
          "TV-MA",
          "TV-MA",
          "TV-MA",
          "TV-MA",
          "TV-MA",
          "TV-MA",
          "TV-MA",
          "TV-MA",
          "TV-MA",
          "TV-MA",
          "TV-MA",
          "TV-MA",
          "TV-MA",
          "TV-MA",
          "TV-MA",
          "TV-MA",
          "TV-MA",
          "TV-MA",
          "TV-MA",
          "TV-MA",
          "TV-MA",
          "TV-MA",
          "TV-MA",
          "TV-MA",
          "TV-MA",
          "TV-MA",
          "TV-MA",
          "TV-MA",
          "TV-MA",
          "TV-MA",
          "TV-MA",
          "TV-MA",
          "TV-MA",
          "TV-MA",
          "TV-MA",
          "TV-MA",
          "TV-MA",
          "TV-MA",
          "TV-MA",
          "TV-MA",
          "TV-MA",
          "TV-MA",
          "TV-MA",
          "TV-MA",
          "TV-MA",
          "TV-MA",
          "TV-MA",
          "TV-MA",
          "TV-MA",
          "TV-MA",
          "TV-MA",
          "TV-MA",
          "TV-MA",
          "TV-MA",
          "TV-MA",
          "TV-MA",
          "TV-MA",
          "TV-MA",
          "TV-MA",
          "TV-MA",
          "TV-MA",
          "TV-MA",
          "TV-MA",
          "TV-MA",
          "TV-MA",
          "TV-MA",
          "TV-MA",
          "TV-MA",
          "TV-MA",
          "TV-MA",
          "TV-MA",
          "TV-MA",
          "TV-MA",
          "TV-MA",
          "TV-MA",
          "TV-MA",
          "TV-MA",
          "TV-MA",
          "TV-MA",
          "TV-MA",
          "TV-MA",
          "TV-MA",
          "TV-MA",
          "TV-MA",
          "TV-MA",
          "TV-MA",
          "TV-MA",
          "TV-MA",
          "TV-MA",
          "TV-MA",
          "TV-MA",
          "TV-MA",
          "TV-MA",
          "TV-MA",
          "TV-MA",
          "TV-MA",
          "TV-MA",
          "TV-MA",
          "TV-MA",
          "TV-MA",
          "TV-MA",
          "TV-MA",
          "TV-MA",
          "TV-MA",
          "TV-MA",
          "TV-MA",
          "TV-MA",
          "TV-MA",
          "TV-MA",
          "TV-MA",
          "TV-MA",
          "TV-MA",
          "TV-MA",
          "TV-MA",
          "TV-MA",
          "TV-MA",
          "TV-MA",
          "TV-MA",
          "TV-MA",
          "TV-MA",
          "TV-MA",
          "TV-MA",
          "TV-MA",
          "TV-MA",
          "TV-MA",
          "TV-MA",
          "TV-MA",
          "TV-MA",
          "TV-MA",
          "TV-MA",
          "TV-MA",
          "TV-MA",
          "TV-MA",
          "TV-MA",
          "TV-MA",
          "TV-MA",
          "TV-MA",
          "TV-MA",
          "TV-MA",
          "TV-MA",
          "TV-MA",
          "TV-MA",
          "TV-MA",
          "TV-MA",
          "TV-MA",
          "TV-MA",
          "TV-MA",
          "TV-MA",
          "TV-MA",
          "TV-MA",
          "TV-MA",
          "TV-MA",
          "TV-MA",
          "TV-MA",
          "TV-MA",
          "TV-MA",
          "TV-MA",
          "TV-MA",
          "TV-MA",
          "TV-MA",
          "TV-MA",
          "TV-MA",
          "TV-MA",
          "TV-MA",
          "TV-MA",
          "TV-MA",
          "TV-MA",
          "TV-MA",
          "TV-MA",
          "TV-MA",
          "TV-MA",
          "TV-MA",
          "TV-MA",
          "TV-MA",
          "TV-MA",
          "TV-MA",
          "TV-MA",
          "TV-MA",
          "TV-MA",
          "TV-MA",
          "TV-MA",
          "TV-MA",
          "TV-MA",
          "TV-MA",
          "TV-MA",
          "TV-MA",
          "TV-MA",
          "TV-MA",
          "TV-MA",
          "TV-MA",
          "TV-MA",
          "TV-MA",
          "TV-MA",
          "TV-MA",
          "TV-MA",
          "TV-MA",
          "TV-MA",
          "TV-MA",
          "TV-MA",
          "TV-MA",
          "TV-MA",
          "TV-MA",
          "TV-MA",
          "TV-MA",
          "TV-MA",
          "TV-MA",
          "TV-MA",
          "TV-MA",
          "TV-MA",
          "TV-MA",
          "TV-MA",
          "TV-MA",
          "TV-MA",
          "TV-MA",
          "TV-MA",
          "TV-MA",
          "TV-MA",
          "TV-MA",
          "TV-MA",
          "TV-MA",
          "TV-MA",
          "TV-MA",
          "TV-MA",
          "TV-MA",
          "TV-MA",
          "TV-MA",
          "TV-MA",
          "TV-MA",
          "TV-MA",
          "TV-MA",
          "TV-MA",
          "TV-MA",
          "TV-MA",
          "TV-MA",
          "TV-MA",
          "TV-MA",
          "TV-MA",
          "TV-MA",
          "TV-MA",
          "TV-MA",
          "TV-MA",
          "TV-MA",
          "TV-MA",
          "TV-MA",
          "TV-MA",
          "TV-MA",
          "TV-MA",
          "TV-MA",
          "TV-MA",
          "TV-MA",
          "TV-MA",
          "TV-MA",
          "TV-MA",
          "TV-MA",
          "TV-MA",
          "TV-MA",
          "TV-MA",
          "TV-MA",
          "TV-MA",
          "TV-MA",
          "TV-MA",
          "TV-MA",
          "TV-MA",
          "TV-MA",
          "TV-MA",
          "TV-MA",
          "TV-MA",
          "TV-MA",
          "TV-MA",
          "TV-MA",
          "TV-MA",
          "TV-MA",
          "TV-MA",
          "TV-MA",
          "TV-MA",
          "TV-MA",
          "TV-MA",
          "TV-MA",
          "TV-MA",
          "TV-MA",
          "TV-MA",
          "TV-MA",
          "TV-MA",
          "TV-MA",
          "TV-MA",
          "TV-MA",
          "TV-MA",
          "TV-MA",
          "TV-MA",
          "TV-MA",
          "TV-MA",
          "TV-MA",
          "TV-MA",
          "TV-MA",
          "TV-MA",
          "TV-MA",
          "TV-MA",
          "TV-MA",
          "TV-MA",
          "TV-MA",
          "TV-MA",
          "TV-MA",
          "TV-MA",
          "TV-MA",
          "TV-MA",
          "TV-MA",
          "TV-MA",
          "TV-MA",
          "TV-MA",
          "TV-MA",
          "TV-MA",
          "TV-MA",
          "TV-MA",
          "TV-MA",
          "TV-MA",
          "TV-MA",
          "TV-MA",
          "TV-MA",
          "TV-MA",
          "TV-MA",
          "TV-MA",
          "TV-MA",
          "TV-MA",
          "TV-MA",
          "TV-MA",
          "TV-MA",
          "TV-MA",
          "TV-MA",
          "TV-MA",
          "TV-MA",
          "TV-MA",
          "TV-MA",
          "TV-MA",
          "TV-MA",
          "TV-MA",
          "TV-MA",
          "TV-MA",
          "TV-MA",
          "TV-MA",
          "TV-MA",
          "TV-MA",
          "TV-MA",
          "TV-MA",
          "TV-MA",
          "TV-MA",
          "TV-MA",
          "TV-MA",
          "TV-MA",
          "TV-MA",
          "TV-MA",
          "TV-MA",
          "TV-MA",
          "TV-MA",
          "TV-MA",
          "TV-MA",
          "TV-MA",
          "TV-MA",
          "TV-MA",
          "TV-MA",
          "TV-MA",
          "TV-MA",
          "TV-MA",
          "TV-MA",
          "TV-MA",
          "TV-MA",
          "TV-MA",
          "TV-MA",
          "TV-MA",
          "TV-MA",
          "TV-MA",
          "TV-MA",
          "TV-MA",
          "TV-MA",
          "TV-MA",
          "TV-MA",
          "TV-MA",
          "TV-MA",
          "TV-MA",
          "TV-MA",
          "TV-MA",
          "TV-MA",
          "TV-MA",
          "TV-MA",
          "TV-MA",
          "TV-MA",
          "TV-MA",
          "TV-MA",
          "TV-MA",
          "TV-MA",
          "TV-MA",
          "TV-MA",
          "TV-MA",
          "TV-MA",
          "TV-MA",
          "TV-MA",
          "TV-MA",
          "TV-MA",
          "TV-MA",
          "TV-MA",
          "TV-MA",
          "TV-MA",
          "TV-MA",
          "TV-MA",
          "TV-MA",
          "TV-MA",
          "TV-MA",
          "TV-MA",
          "TV-MA",
          "TV-MA",
          "TV-MA",
          "TV-MA",
          "TV-MA",
          "TV-MA",
          "TV-MA",
          "TV-MA",
          "TV-MA",
          "TV-MA",
          "TV-MA",
          "TV-MA",
          "TV-MA",
          "TV-MA",
          "TV-MA",
          "TV-MA",
          "TV-MA",
          "TV-MA",
          "TV-MA",
          "TV-MA",
          "TV-MA",
          "TV-MA",
          "TV-MA",
          "TV-MA",
          "TV-MA",
          "TV-MA",
          "TV-MA",
          "TV-MA",
          "TV-MA",
          "TV-MA",
          "TV-MA",
          "TV-MA",
          "TV-MA",
          "TV-MA",
          "TV-MA",
          "TV-MA",
          "TV-MA",
          "TV-MA",
          "TV-MA",
          "TV-MA",
          "TV-MA",
          "TV-MA",
          "TV-MA",
          "TV-MA",
          "TV-MA",
          "TV-MA",
          "TV-MA",
          "TV-MA",
          "TV-MA",
          "TV-MA",
          "TV-MA",
          "TV-MA",
          "TV-MA",
          "TV-MA",
          "TV-MA",
          "TV-MA",
          "TV-MA",
          "TV-MA",
          "TV-MA",
          "TV-MA",
          "TV-MA",
          "TV-MA",
          "TV-MA",
          "TV-MA",
          "TV-MA",
          "TV-MA",
          "TV-MA",
          "TV-MA",
          "TV-MA",
          "TV-MA",
          "TV-MA",
          "TV-MA",
          "TV-MA",
          "TV-MA",
          "TV-MA",
          "TV-MA",
          "TV-MA",
          "TV-MA",
          "TV-MA",
          "TV-MA",
          "TV-MA",
          "TV-MA",
          "TV-MA",
          "TV-MA",
          "TV-MA",
          "TV-MA",
          "TV-MA",
          "TV-MA",
          "TV-MA",
          "TV-MA",
          "TV-MA",
          "TV-MA",
          "TV-MA",
          "TV-MA",
          "TV-MA",
          "TV-MA",
          "TV-MA",
          "TV-MA",
          "TV-MA",
          "TV-MA",
          "TV-MA",
          "TV-MA",
          "TV-MA",
          "TV-MA",
          "TV-MA",
          "TV-MA",
          "TV-MA",
          "TV-MA",
          "TV-MA",
          "TV-MA",
          "TV-MA",
          "TV-MA",
          "TV-MA",
          "TV-MA",
          "TV-MA",
          "TV-MA",
          "TV-MA",
          "TV-MA",
          "TV-MA",
          "TV-MA",
          "TV-MA",
          "TV-MA",
          "TV-MA",
          "TV-MA",
          "TV-MA",
          "TV-MA",
          "TV-MA",
          "TV-MA",
          "TV-MA",
          "TV-MA",
          "TV-MA",
          "TV-MA",
          "TV-MA",
          "TV-MA",
          "TV-MA",
          "TV-MA",
          "TV-MA",
          "TV-MA",
          "TV-MA",
          "TV-MA",
          "TV-MA",
          "TV-MA",
          "TV-MA",
          "TV-MA",
          "TV-MA",
          "TV-MA",
          "TV-MA",
          "TV-MA",
          "TV-MA",
          "TV-MA",
          "TV-MA",
          "TV-MA",
          "TV-MA",
          "TV-MA",
          "TV-MA",
          "TV-MA",
          "TV-MA",
          "TV-MA",
          "TV-MA",
          "TV-MA",
          "TV-MA",
          "TV-MA",
          "TV-MA",
          "TV-MA",
          "TV-MA",
          "TV-MA",
          "TV-MA",
          "TV-MA",
          "TV-MA",
          "TV-MA",
          "TV-MA",
          "TV-MA",
          "TV-MA",
          "TV-MA",
          "TV-MA",
          "TV-MA",
          "TV-MA",
          "TV-MA",
          "TV-MA",
          "TV-MA",
          "TV-MA",
          "TV-MA",
          "TV-MA",
          "TV-MA",
          "TV-MA",
          "TV-MA",
          "TV-MA",
          "TV-MA",
          "TV-MA",
          "TV-MA",
          "TV-MA",
          "TV-MA",
          "TV-MA",
          "TV-MA",
          "TV-MA",
          "TV-MA",
          "TV-MA",
          "TV-MA",
          "TV-MA",
          "TV-MA",
          "TV-MA",
          "TV-MA",
          "TV-MA",
          "TV-MA",
          "TV-MA",
          "TV-MA",
          "TV-MA",
          "TV-MA",
          "TV-MA",
          "TV-MA",
          "TV-MA",
          "TV-MA",
          "TV-MA",
          "TV-MA",
          "TV-MA",
          "TV-MA",
          "TV-MA",
          "TV-MA",
          "TV-MA",
          "TV-MA",
          "TV-MA",
          "TV-MA",
          "TV-MA",
          "TV-MA",
          "TV-MA",
          "TV-MA",
          "TV-MA",
          "TV-MA",
          "TV-MA",
          "TV-MA",
          "TV-MA",
          "TV-MA",
          "TV-MA",
          "TV-MA",
          "TV-MA",
          "TV-MA",
          "TV-MA",
          "TV-MA",
          "TV-MA",
          "TV-MA",
          "TV-MA",
          "TV-MA",
          "TV-MA",
          "TV-MA",
          "TV-MA",
          "TV-MA",
          "TV-MA",
          "TV-MA",
          "TV-MA",
          "TV-MA",
          "TV-MA",
          "TV-MA",
          "TV-MA",
          "TV-MA",
          "TV-MA",
          "TV-MA",
          "TV-MA",
          "TV-MA",
          "TV-MA",
          "TV-MA",
          "TV-MA",
          "TV-MA",
          "TV-MA",
          "TV-MA",
          "TV-MA",
          "TV-MA",
          "TV-MA",
          "TV-MA",
          "TV-MA",
          "TV-MA",
          "TV-MA",
          "TV-MA",
          "TV-MA",
          "TV-MA",
          "TV-MA",
          "TV-MA",
          "TV-MA",
          "TV-MA",
          "TV-MA",
          "TV-MA",
          "TV-MA",
          "TV-MA",
          "TV-MA",
          "TV-MA",
          "TV-MA",
          "TV-MA",
          "TV-MA",
          "TV-MA",
          "TV-MA",
          "TV-MA",
          "TV-MA",
          "TV-MA",
          "TV-MA",
          "TV-MA",
          "TV-MA",
          "TV-MA",
          "TV-MA",
          "TV-MA",
          "TV-MA",
          "TV-MA",
          "TV-MA",
          "TV-MA",
          "TV-MA",
          "TV-MA",
          "TV-MA",
          "TV-MA",
          "TV-MA",
          "TV-MA",
          "TV-MA",
          "TV-MA",
          "TV-MA",
          "TV-MA",
          "TV-MA",
          "TV-MA",
          "TV-MA",
          "TV-MA",
          "TV-MA",
          "TV-MA",
          "TV-MA",
          "TV-MA",
          "TV-MA",
          "TV-MA",
          "TV-MA",
          "TV-MA",
          "TV-MA",
          "TV-MA",
          "TV-MA",
          "TV-MA",
          "TV-MA",
          "TV-MA",
          "TV-MA",
          "TV-MA",
          "TV-MA",
          "TV-MA",
          "TV-MA",
          "TV-MA",
          "TV-MA",
          "TV-MA",
          "TV-MA",
          "TV-MA",
          "TV-MA",
          "TV-MA",
          "TV-MA",
          "TV-MA",
          "TV-MA",
          "TV-MA",
          "TV-MA",
          "TV-MA",
          "TV-MA",
          "TV-MA",
          "TV-MA",
          "TV-MA",
          "TV-MA",
          "TV-MA",
          "TV-MA",
          "TV-MA",
          "TV-MA",
          "TV-MA",
          "TV-MA",
          "TV-MA",
          "TV-MA",
          "TV-MA",
          "TV-MA",
          "TV-MA",
          "TV-MA",
          "TV-MA",
          "TV-MA",
          "TV-MA",
          "TV-MA",
          "TV-MA",
          "TV-MA",
          "TV-MA",
          "TV-MA",
          "TV-MA",
          "TV-MA",
          "TV-MA",
          "TV-MA",
          "TV-MA",
          "TV-MA",
          "TV-MA",
          "TV-MA",
          "TV-MA",
          "TV-MA",
          "TV-MA",
          "TV-MA",
          "TV-MA",
          "TV-MA",
          "TV-MA",
          "TV-MA",
          "TV-MA",
          "TV-MA",
          "TV-MA",
          "TV-MA",
          "TV-MA",
          "TV-MA",
          "TV-MA",
          "TV-MA",
          "TV-MA",
          "TV-MA",
          "TV-MA",
          "TV-MA",
          "TV-MA",
          "TV-MA",
          "TV-MA",
          "TV-MA",
          "TV-MA",
          "TV-MA",
          "TV-MA",
          "TV-MA",
          "TV-MA",
          "TV-MA",
          "TV-MA",
          "TV-MA",
          "TV-MA",
          "TV-MA",
          "TV-MA",
          "TV-MA",
          "TV-MA",
          "TV-MA",
          "TV-MA",
          "TV-MA",
          "TV-MA",
          "TV-MA",
          "TV-MA",
          "TV-MA",
          "TV-MA",
          "TV-MA",
          "TV-MA",
          "TV-MA",
          "TV-MA",
          "TV-MA",
          "TV-MA",
          "TV-MA",
          "TV-MA",
          "TV-MA",
          "TV-MA",
          "TV-MA",
          "TV-MA",
          "TV-MA",
          "TV-MA",
          "TV-MA",
          "TV-MA",
          "TV-MA",
          "TV-MA",
          "TV-MA",
          "TV-MA",
          "TV-MA",
          "TV-MA",
          "TV-MA",
          "TV-MA",
          "TV-MA",
          "TV-MA",
          "TV-MA",
          "TV-MA",
          "TV-MA",
          "TV-MA",
          "TV-MA",
          "TV-MA",
          "TV-MA",
          "TV-MA",
          "TV-MA",
          "TV-MA",
          "TV-MA",
          "TV-MA",
          "TV-MA",
          "TV-MA",
          "TV-MA",
          "TV-MA",
          "TV-MA",
          "TV-MA",
          "TV-MA",
          "TV-MA",
          "TV-MA",
          "TV-MA",
          "TV-MA",
          "TV-MA",
          "TV-MA",
          "TV-MA",
          "TV-MA",
          "TV-MA",
          "TV-MA",
          "TV-MA",
          "TV-MA",
          "TV-MA",
          "TV-MA",
          "TV-MA",
          "TV-MA",
          "TV-MA",
          "TV-MA",
          "TV-MA",
          "TV-MA",
          "TV-MA",
          "TV-MA",
          "TV-MA",
          "TV-MA",
          "TV-MA",
          "TV-MA",
          "TV-MA",
          "TV-MA",
          "TV-MA",
          "TV-MA",
          "TV-MA",
          "TV-MA",
          "TV-MA",
          "TV-MA",
          "TV-MA",
          "TV-MA",
          "TV-MA",
          "TV-MA",
          "TV-MA",
          "TV-MA",
          "TV-MA",
          "TV-MA",
          "TV-MA",
          "TV-MA",
          "TV-MA",
          "TV-MA",
          "TV-MA",
          "TV-MA",
          "TV-MA",
          "TV-MA",
          "TV-MA",
          "TV-MA",
          "TV-MA",
          "TV-MA",
          "TV-MA",
          "TV-MA",
          "TV-MA",
          "TV-MA",
          "TV-MA",
          "TV-MA",
          "TV-MA",
          "TV-MA",
          "TV-MA",
          "TV-MA",
          "TV-MA",
          "TV-MA",
          "TV-MA",
          "TV-MA",
          "TV-MA",
          "TV-MA",
          "TV-MA",
          "TV-MA",
          "TV-MA",
          "TV-MA",
          "TV-MA",
          "TV-MA",
          "TV-MA",
          "TV-MA",
          "TV-MA",
          "TV-MA",
          "TV-MA",
          "TV-MA",
          "TV-MA",
          "TV-MA",
          "TV-MA",
          "TV-MA",
          "TV-MA",
          "TV-MA",
          "TV-MA",
          "TV-MA",
          "TV-MA",
          "TV-MA",
          "TV-MA",
          "TV-MA",
          "TV-MA",
          "TV-MA",
          "TV-MA",
          "TV-MA",
          "TV-MA",
          "TV-MA",
          "TV-MA",
          "TV-MA",
          "TV-MA",
          "TV-MA",
          "TV-MA",
          "TV-MA",
          "TV-MA",
          "TV-MA",
          "TV-MA",
          "TV-MA",
          "TV-MA",
          "TV-MA",
          "TV-MA",
          "TV-MA",
          "TV-MA",
          "TV-MA",
          "TV-MA",
          "TV-MA",
          "TV-MA",
          "TV-MA",
          "TV-MA",
          "TV-MA",
          "TV-MA",
          "TV-MA",
          "TV-MA",
          "TV-MA",
          "TV-MA",
          "TV-MA",
          "TV-MA",
          "TV-MA",
          "TV-MA",
          "TV-MA",
          "TV-MA",
          "TV-MA",
          "TV-MA",
          "TV-MA",
          "TV-MA",
          "TV-MA",
          "TV-MA",
          "TV-MA",
          "TV-MA",
          "TV-MA",
          "TV-MA",
          "TV-MA",
          "TV-MA",
          "TV-MA",
          "TV-MA",
          "TV-MA",
          "TV-MA",
          "TV-MA",
          "TV-MA",
          "TV-MA",
          "TV-MA",
          "TV-MA",
          "TV-MA",
          "TV-MA",
          "TV-MA",
          "TV-MA",
          "TV-MA",
          "TV-MA",
          "TV-MA",
          "TV-MA",
          "TV-MA",
          "TV-MA",
          "TV-MA",
          "TV-MA",
          "TV-MA",
          "TV-MA",
          "TV-MA",
          "TV-MA",
          "TV-MA",
          "TV-MA",
          "TV-MA",
          "TV-MA",
          "TV-MA",
          "TV-MA",
          "TV-MA",
          "TV-MA",
          "TV-MA",
          "TV-MA",
          "TV-MA",
          "TV-MA",
          "TV-MA",
          "TV-MA",
          "TV-MA",
          "TV-MA",
          "TV-MA",
          "TV-MA",
          "TV-MA",
          "TV-MA",
          "TV-MA",
          "TV-MA",
          "TV-MA",
          "TV-MA",
          "TV-MA",
          "TV-MA",
          "TV-MA",
          "TV-MA",
          "TV-MA",
          "TV-MA",
          "TV-MA",
          "TV-MA",
          "TV-MA",
          "TV-MA",
          "TV-MA",
          "TV-MA",
          "TV-MA",
          "TV-MA",
          "TV-MA",
          "TV-MA",
          "TV-MA",
          "TV-MA",
          "TV-MA",
          "TV-MA",
          "TV-MA",
          "TV-MA",
          "TV-MA",
          "TV-MA",
          "TV-MA",
          "TV-MA",
          "TV-MA",
          "TV-MA",
          "TV-MA",
          "TV-MA",
          "TV-MA",
          "TV-MA",
          "TV-MA",
          "TV-MA",
          "TV-MA",
          "TV-MA",
          "TV-MA",
          "TV-MA",
          "TV-MA",
          "TV-MA",
          "TV-MA",
          "TV-MA",
          "TV-MA",
          "TV-MA",
          "TV-MA",
          "TV-MA",
          "TV-MA",
          "TV-MA",
          "TV-MA",
          "TV-MA",
          "TV-MA",
          "TV-MA",
          "TV-MA",
          "TV-MA",
          "TV-MA",
          "TV-MA",
          "TV-MA",
          "TV-MA",
          "TV-MA",
          "TV-MA",
          "TV-MA",
          "TV-MA",
          "TV-MA",
          "TV-MA",
          "TV-MA",
          "TV-MA",
          "TV-MA",
          "TV-MA",
          "TV-MA",
          "TV-MA",
          "TV-MA",
          "TV-MA",
          "TV-MA",
          "TV-MA",
          "TV-MA",
          "TV-MA",
          "TV-MA",
          "TV-MA",
          "TV-MA",
          "TV-MA",
          "TV-MA",
          "TV-MA",
          "TV-MA",
          "TV-MA",
          "TV-MA",
          "TV-MA",
          "TV-MA",
          "TV-MA",
          "TV-MA",
          "TV-MA",
          "TV-MA",
          "TV-MA",
          "TV-MA",
          "TV-MA",
          "TV-MA",
          "TV-MA",
          "TV-MA",
          "TV-MA",
          "TV-MA",
          "TV-MA",
          "TV-MA",
          "TV-MA",
          "TV-MA",
          "TV-MA",
          "TV-MA",
          "TV-MA",
          "TV-MA",
          "TV-MA",
          "TV-MA",
          "TV-MA",
          "TV-MA",
          "TV-MA",
          "TV-MA",
          "TV-MA",
          "TV-MA",
          "TV-MA",
          "TV-MA",
          "TV-MA",
          "TV-MA",
          "TV-MA",
          "TV-MA",
          "TV-MA",
          "TV-MA",
          "TV-MA",
          "TV-MA",
          "TV-MA",
          "TV-MA",
          "TV-MA",
          "TV-MA",
          "TV-MA",
          "TV-MA",
          "TV-MA",
          "TV-MA",
          "TV-MA",
          "TV-MA",
          "TV-MA",
          "TV-MA",
          "TV-MA",
          "TV-MA",
          "TV-MA",
          "TV-MA",
          "TV-MA",
          "TV-MA",
          "TV-MA",
          "TV-MA",
          "TV-MA",
          "TV-MA",
          "TV-MA",
          "TV-MA",
          "TV-MA",
          "TV-MA",
          "TV-MA",
          "TV-MA",
          "TV-MA",
          "TV-MA",
          "TV-MA",
          "TV-MA",
          "TV-MA",
          "TV-MA",
          "TV-MA",
          "TV-MA",
          "TV-MA",
          "TV-MA",
          "TV-MA",
          "TV-MA",
          "TV-MA",
          "TV-MA",
          "TV-MA",
          "TV-MA",
          "TV-MA",
          "TV-MA",
          "TV-MA",
          "TV-MA",
          "TV-MA",
          "TV-MA",
          "TV-MA",
          "TV-MA",
          "TV-MA",
          "TV-MA",
          "TV-MA",
          "TV-MA",
          "TV-MA",
          "TV-MA",
          "TV-MA",
          "TV-MA",
          "TV-MA",
          "TV-MA",
          "TV-MA",
          "TV-MA",
          "TV-MA",
          "TV-MA",
          "TV-MA",
          "TV-MA",
          "TV-MA",
          "TV-MA",
          "TV-MA",
          "TV-MA",
          "TV-MA",
          "TV-MA",
          "TV-MA",
          "TV-MA",
          "TV-MA",
          "TV-MA",
          "TV-MA",
          "TV-MA",
          "TV-MA",
          "TV-MA",
          "TV-MA",
          "TV-MA",
          "TV-MA",
          "TV-MA",
          "TV-MA",
          "TV-MA",
          "TV-MA",
          "TV-MA",
          "TV-MA",
          "TV-MA",
          "TV-MA",
          "TV-MA",
          "TV-MA",
          "TV-MA",
          "TV-MA",
          "TV-MA",
          "TV-MA",
          "TV-MA",
          "TV-MA",
          "TV-MA",
          "TV-MA",
          "TV-MA",
          "TV-MA",
          "TV-MA",
          "TV-MA",
          "TV-MA",
          "TV-MA",
          "TV-MA",
          "TV-MA",
          "TV-MA",
          "TV-MA",
          "TV-MA",
          "TV-MA",
          "TV-MA",
          "TV-MA",
          "TV-MA",
          "TV-MA",
          "TV-MA",
          "TV-MA",
          "TV-MA",
          "TV-MA",
          "TV-MA",
          "TV-MA",
          "TV-MA",
          "TV-MA",
          "TV-MA",
          "TV-MA",
          "TV-MA",
          "TV-MA",
          "TV-MA",
          "TV-MA",
          "TV-MA",
          "TV-MA",
          "TV-MA",
          "TV-MA",
          "TV-MA",
          "TV-MA",
          "TV-MA",
          "TV-MA",
          "TV-MA",
          "TV-MA",
          "TV-MA",
          "TV-MA",
          "TV-MA",
          "TV-MA",
          "TV-MA",
          "TV-MA",
          "TV-MA",
          "TV-MA",
          "TV-MA",
          "TV-MA",
          "TV-MA",
          "TV-MA",
          "TV-MA",
          "TV-MA",
          "TV-MA",
          "TV-MA",
          "TV-MA",
          "TV-MA",
          "TV-MA",
          "TV-MA",
          "TV-MA",
          "TV-MA",
          "TV-MA",
          "TV-MA",
          "TV-MA",
          "TV-MA",
          "TV-MA",
          "TV-MA",
          "TV-MA",
          "TV-MA",
          "TV-MA",
          "TV-MA",
          "TV-MA",
          "TV-MA",
          "TV-MA",
          "TV-MA",
          "TV-MA",
          "TV-MA",
          "TV-MA",
          "TV-MA",
          "TV-MA",
          "TV-MA",
          "TV-MA",
          "TV-MA",
          "TV-MA",
          "TV-MA",
          "TV-MA",
          "TV-MA",
          "TV-MA",
          "TV-MA",
          "TV-MA",
          "TV-MA",
          "TV-MA",
          "TV-MA",
          "TV-MA",
          "TV-MA",
          "TV-MA",
          "TV-MA",
          "TV-MA",
          "TV-MA",
          "TV-MA",
          "TV-MA",
          "TV-MA",
          "TV-MA",
          "TV-MA",
          "TV-MA",
          "TV-MA",
          "TV-MA",
          "TV-MA",
          "TV-MA",
          "TV-MA",
          "TV-MA",
          "TV-MA",
          "TV-MA",
          "TV-MA",
          "TV-MA",
          "TV-MA",
          "TV-MA",
          "TV-MA",
          "TV-MA",
          "TV-MA",
          "TV-MA",
          "TV-MA",
          "TV-MA",
          "TV-MA",
          "TV-MA",
          "TV-MA",
          "TV-MA",
          "TV-MA",
          "TV-MA",
          "TV-MA",
          "TV-MA",
          "TV-MA",
          "TV-MA",
          "TV-MA",
          "TV-MA",
          "TV-MA",
          "TV-MA",
          "TV-MA",
          "TV-MA",
          "TV-MA",
          "TV-MA",
          "TV-MA",
          "TV-MA",
          "TV-MA",
          "TV-MA",
          "TV-MA",
          "TV-MA",
          "TV-MA",
          "TV-MA",
          "TV-MA",
          "TV-MA",
          "TV-MA",
          "TV-MA",
          "TV-MA",
          "TV-MA",
          "TV-MA",
          "TV-MA",
          "TV-MA",
          "TV-MA",
          "TV-MA",
          "TV-MA",
          "TV-MA",
          "TV-MA",
          "TV-MA",
          "TV-MA",
          "TV-MA",
          "TV-MA",
          "TV-MA",
          "TV-MA",
          "TV-MA",
          "TV-MA",
          "TV-MA",
          "TV-MA",
          "TV-MA",
          "TV-MA",
          "TV-MA",
          "TV-MA",
          "TV-MA",
          "TV-MA",
          "TV-MA",
          "TV-MA",
          "TV-MA",
          "TV-MA",
          "TV-MA",
          "TV-MA",
          "TV-MA",
          "TV-MA",
          "TV-MA",
          "TV-MA",
          "TV-MA",
          "TV-MA",
          "TV-MA",
          "TV-MA",
          "TV-MA",
          "TV-MA",
          "TV-MA",
          "TV-MA",
          "TV-MA",
          "TV-MA",
          "TV-MA",
          "TV-MA",
          "TV-MA",
          "TV-MA",
          "TV-MA",
          "TV-MA",
          "TV-MA",
          "TV-MA",
          "TV-MA",
          "TV-MA",
          "TV-MA",
          "TV-MA",
          "TV-MA",
          "TV-MA",
          "TV-MA",
          "TV-MA",
          "TV-MA",
          "TV-MA",
          "TV-MA",
          "TV-MA",
          "TV-MA",
          "TV-MA",
          "TV-MA",
          "TV-MA",
          "TV-MA",
          "TV-MA",
          "TV-MA",
          "TV-MA",
          "TV-MA",
          "TV-MA",
          "TV-MA",
          "TV-MA",
          "TV-MA",
          "TV-MA",
          "TV-MA",
          "TV-MA",
          "TV-MA",
          "TV-MA",
          "TV-MA",
          "TV-MA",
          "TV-MA",
          "TV-MA",
          "TV-MA",
          "TV-MA",
          "TV-MA",
          "TV-MA",
          "TV-MA",
          "TV-MA",
          "TV-MA",
          "TV-MA",
          "TV-MA",
          "TV-MA",
          "TV-MA",
          "TV-MA",
          "TV-MA",
          "TV-MA",
          "TV-MA",
          "TV-MA",
          "TV-MA",
          "TV-MA",
          "TV-MA",
          "TV-MA",
          "TV-MA",
          "TV-MA",
          "TV-MA",
          "TV-MA",
          "TV-MA",
          "TV-MA",
          "TV-MA",
          "TV-MA",
          "TV-MA",
          "TV-MA",
          "TV-MA",
          "TV-MA",
          "TV-MA",
          "TV-MA",
          "TV-MA",
          "TV-MA",
          "TV-MA",
          "TV-MA",
          "TV-MA",
          "TV-MA",
          "TV-MA",
          "TV-MA",
          "TV-MA",
          "TV-MA",
          "TV-MA",
          "TV-MA",
          "TV-MA",
          "TV-MA",
          "TV-MA",
          "TV-MA",
          "TV-MA",
          "TV-MA",
          "TV-MA",
          "TV-MA",
          "TV-MA",
          "TV-MA",
          "TV-MA",
          "TV-MA",
          "TV-MA",
          "TV-MA",
          "TV-MA",
          "TV-MA",
          "TV-MA",
          "TV-MA",
          "TV-MA",
          "TV-MA",
          "TV-MA",
          "TV-MA",
          "TV-MA",
          "TV-MA",
          "TV-MA",
          "TV-MA"
         ],
         "xaxis": "x",
         "yaxis": "y"
        },
        {
         "alignmentgroup": "True",
         "bingroup": "x",
         "hovertemplate": "rating=%{x}<br>count=%{y}<extra></extra>",
         "legendgroup": "PG",
         "marker": {
          "color": "#EF553B",
          "pattern": {
           "shape": ""
          }
         },
         "name": "PG",
         "offsetgroup": "PG",
         "orientation": "v",
         "showlegend": true,
         "type": "histogram",
         "x": [
          "PG",
          "PG",
          "PG",
          "PG",
          "PG",
          "PG",
          "PG",
          "PG",
          "PG",
          "PG",
          "PG",
          "PG",
          "PG",
          "PG",
          "PG",
          "PG",
          "PG",
          "PG",
          "PG",
          "PG",
          "PG",
          "PG",
          "PG",
          "PG",
          "PG",
          "PG",
          "PG",
          "PG",
          "PG",
          "PG",
          "PG",
          "PG",
          "PG",
          "PG",
          "PG",
          "PG",
          "PG",
          "PG",
          "PG",
          "PG",
          "PG",
          "PG",
          "PG",
          "PG",
          "PG",
          "PG",
          "PG",
          "PG",
          "PG",
          "PG",
          "PG",
          "PG",
          "PG",
          "PG",
          "PG",
          "PG",
          "PG",
          "PG",
          "PG",
          "PG",
          "PG",
          "PG",
          "PG",
          "PG",
          "PG",
          "PG",
          "PG",
          "PG",
          "PG",
          "PG",
          "PG",
          "PG",
          "PG",
          "PG",
          "PG",
          "PG",
          "PG",
          "PG",
          "PG",
          "PG",
          "PG",
          "PG",
          "PG",
          "PG",
          "PG",
          "PG",
          "PG",
          "PG",
          "PG",
          "PG",
          "PG",
          "PG",
          "PG",
          "PG",
          "PG",
          "PG",
          "PG",
          "PG",
          "PG",
          "PG",
          "PG",
          "PG",
          "PG",
          "PG",
          "PG",
          "PG",
          "PG",
          "PG",
          "PG",
          "PG",
          "PG",
          "PG",
          "PG",
          "PG",
          "PG",
          "PG",
          "PG",
          "PG",
          "PG",
          "PG",
          "PG",
          "PG",
          "PG",
          "PG",
          "PG",
          "PG",
          "PG",
          "PG",
          "PG",
          "PG",
          "PG",
          "PG",
          "PG",
          "PG",
          "PG",
          "PG",
          "PG",
          "PG",
          "PG",
          "PG",
          "PG",
          "PG",
          "PG",
          "PG",
          "PG",
          "PG",
          "PG",
          "PG",
          "PG",
          "PG",
          "PG",
          "PG",
          "PG",
          "PG",
          "PG",
          "PG",
          "PG",
          "PG",
          "PG",
          "PG",
          "PG",
          "PG",
          "PG",
          "PG",
          "PG",
          "PG",
          "PG",
          "PG",
          "PG",
          "PG",
          "PG",
          "PG",
          "PG",
          "PG",
          "PG",
          "PG",
          "PG",
          "PG",
          "PG",
          "PG",
          "PG",
          "PG",
          "PG",
          "PG",
          "PG",
          "PG",
          "PG",
          "PG",
          "PG",
          "PG",
          "PG",
          "PG",
          "PG",
          "PG",
          "PG",
          "PG",
          "PG",
          "PG",
          "PG",
          "PG",
          "PG",
          "PG",
          "PG",
          "PG",
          "PG",
          "PG",
          "PG",
          "PG",
          "PG",
          "PG",
          "PG",
          "PG",
          "PG",
          "PG",
          "PG",
          "PG",
          "PG",
          "PG",
          "PG",
          "PG",
          "PG",
          "PG",
          "PG",
          "PG",
          "PG",
          "PG",
          "PG",
          "PG",
          "PG",
          "PG",
          "PG",
          "PG",
          "PG",
          "PG",
          "PG",
          "PG",
          "PG",
          "PG",
          "PG",
          "PG",
          "PG",
          "PG",
          "PG",
          "PG",
          "PG",
          "PG",
          "PG",
          "PG",
          "PG",
          "PG",
          "PG",
          "PG",
          "PG",
          "PG",
          "PG",
          "PG",
          "PG",
          "PG",
          "PG",
          "PG",
          "PG",
          "PG",
          "PG",
          "PG",
          "PG",
          "PG",
          "PG",
          "PG",
          "PG",
          "PG",
          "PG",
          "PG",
          "PG",
          "PG",
          "PG",
          "PG",
          "PG",
          "PG",
          "PG"
         ],
         "xaxis": "x",
         "yaxis": "y"
        },
        {
         "alignmentgroup": "True",
         "bingroup": "x",
         "hovertemplate": "rating=%{x}<br>count=%{y}<extra></extra>",
         "legendgroup": "TV-14",
         "marker": {
          "color": "#00cc96",
          "pattern": {
           "shape": ""
          }
         },
         "name": "TV-14",
         "offsetgroup": "TV-14",
         "orientation": "v",
         "showlegend": true,
         "type": "histogram",
         "x": [
          "TV-14",
          "TV-14",
          "TV-14",
          "TV-14",
          "TV-14",
          "TV-14",
          "TV-14",
          "TV-14",
          "TV-14",
          "TV-14",
          "TV-14",
          "TV-14",
          "TV-14",
          "TV-14",
          "TV-14",
          "TV-14",
          "TV-14",
          "TV-14",
          "TV-14",
          "TV-14",
          "TV-14",
          "TV-14",
          "TV-14",
          "TV-14",
          "TV-14",
          "TV-14",
          "TV-14",
          "TV-14",
          "TV-14",
          "TV-14",
          "TV-14",
          "TV-14",
          "TV-14",
          "TV-14",
          "TV-14",
          "TV-14",
          "TV-14",
          "TV-14",
          "TV-14",
          "TV-14",
          "TV-14",
          "TV-14",
          "TV-14",
          "TV-14",
          "TV-14",
          "TV-14",
          "TV-14",
          "TV-14",
          "TV-14",
          "TV-14",
          "TV-14",
          "TV-14",
          "TV-14",
          "TV-14",
          "TV-14",
          "TV-14",
          "TV-14",
          "TV-14",
          "TV-14",
          "TV-14",
          "TV-14",
          "TV-14",
          "TV-14",
          "TV-14",
          "TV-14",
          "TV-14",
          "TV-14",
          "TV-14",
          "TV-14",
          "TV-14",
          "TV-14",
          "TV-14",
          "TV-14",
          "TV-14",
          "TV-14",
          "TV-14",
          "TV-14",
          "TV-14",
          "TV-14",
          "TV-14",
          "TV-14",
          "TV-14",
          "TV-14",
          "TV-14",
          "TV-14",
          "TV-14",
          "TV-14",
          "TV-14",
          "TV-14",
          "TV-14",
          "TV-14",
          "TV-14",
          "TV-14",
          "TV-14",
          "TV-14",
          "TV-14",
          "TV-14",
          "TV-14",
          "TV-14",
          "TV-14",
          "TV-14",
          "TV-14",
          "TV-14",
          "TV-14",
          "TV-14",
          "TV-14",
          "TV-14",
          "TV-14",
          "TV-14",
          "TV-14",
          "TV-14",
          "TV-14",
          "TV-14",
          "TV-14",
          "TV-14",
          "TV-14",
          "TV-14",
          "TV-14",
          "TV-14",
          "TV-14",
          "TV-14",
          "TV-14",
          "TV-14",
          "TV-14",
          "TV-14",
          "TV-14",
          "TV-14",
          "TV-14",
          "TV-14",
          "TV-14",
          "TV-14",
          "TV-14",
          "TV-14",
          "TV-14",
          "TV-14",
          "TV-14",
          "TV-14",
          "TV-14",
          "TV-14",
          "TV-14",
          "TV-14",
          "TV-14",
          "TV-14",
          "TV-14",
          "TV-14",
          "TV-14",
          "TV-14",
          "TV-14",
          "TV-14",
          "TV-14",
          "TV-14",
          "TV-14",
          "TV-14",
          "TV-14",
          "TV-14",
          "TV-14",
          "TV-14",
          "TV-14",
          "TV-14",
          "TV-14",
          "TV-14",
          "TV-14",
          "TV-14",
          "TV-14",
          "TV-14",
          "TV-14",
          "TV-14",
          "TV-14",
          "TV-14",
          "TV-14",
          "TV-14",
          "TV-14",
          "TV-14",
          "TV-14",
          "TV-14",
          "TV-14",
          "TV-14",
          "TV-14",
          "TV-14",
          "TV-14",
          "TV-14",
          "TV-14",
          "TV-14",
          "TV-14",
          "TV-14",
          "TV-14",
          "TV-14",
          "TV-14",
          "TV-14",
          "TV-14",
          "TV-14",
          "TV-14",
          "TV-14",
          "TV-14",
          "TV-14",
          "TV-14",
          "TV-14",
          "TV-14",
          "TV-14",
          "TV-14",
          "TV-14",
          "TV-14",
          "TV-14",
          "TV-14",
          "TV-14",
          "TV-14",
          "TV-14",
          "TV-14",
          "TV-14",
          "TV-14",
          "TV-14",
          "TV-14",
          "TV-14",
          "TV-14",
          "TV-14",
          "TV-14",
          "TV-14",
          "TV-14",
          "TV-14",
          "TV-14",
          "TV-14",
          "TV-14",
          "TV-14",
          "TV-14",
          "TV-14",
          "TV-14",
          "TV-14",
          "TV-14",
          "TV-14",
          "TV-14",
          "TV-14",
          "TV-14",
          "TV-14",
          "TV-14",
          "TV-14",
          "TV-14",
          "TV-14",
          "TV-14",
          "TV-14",
          "TV-14",
          "TV-14",
          "TV-14",
          "TV-14",
          "TV-14",
          "TV-14",
          "TV-14",
          "TV-14",
          "TV-14",
          "TV-14",
          "TV-14",
          "TV-14",
          "TV-14",
          "TV-14",
          "TV-14",
          "TV-14",
          "TV-14",
          "TV-14",
          "TV-14",
          "TV-14",
          "TV-14",
          "TV-14",
          "TV-14",
          "TV-14",
          "TV-14",
          "TV-14",
          "TV-14",
          "TV-14",
          "TV-14",
          "TV-14",
          "TV-14",
          "TV-14",
          "TV-14",
          "TV-14",
          "TV-14",
          "TV-14",
          "TV-14",
          "TV-14",
          "TV-14",
          "TV-14",
          "TV-14",
          "TV-14",
          "TV-14",
          "TV-14",
          "TV-14",
          "TV-14",
          "TV-14",
          "TV-14",
          "TV-14",
          "TV-14",
          "TV-14",
          "TV-14",
          "TV-14",
          "TV-14",
          "TV-14",
          "TV-14",
          "TV-14",
          "TV-14",
          "TV-14",
          "TV-14",
          "TV-14",
          "TV-14",
          "TV-14",
          "TV-14",
          "TV-14",
          "TV-14",
          "TV-14",
          "TV-14",
          "TV-14",
          "TV-14",
          "TV-14",
          "TV-14",
          "TV-14",
          "TV-14",
          "TV-14",
          "TV-14",
          "TV-14",
          "TV-14",
          "TV-14",
          "TV-14",
          "TV-14",
          "TV-14",
          "TV-14",
          "TV-14",
          "TV-14",
          "TV-14",
          "TV-14",
          "TV-14",
          "TV-14",
          "TV-14",
          "TV-14",
          "TV-14",
          "TV-14",
          "TV-14",
          "TV-14",
          "TV-14",
          "TV-14",
          "TV-14",
          "TV-14",
          "TV-14",
          "TV-14",
          "TV-14",
          "TV-14",
          "TV-14",
          "TV-14",
          "TV-14",
          "TV-14",
          "TV-14",
          "TV-14",
          "TV-14",
          "TV-14",
          "TV-14",
          "TV-14",
          "TV-14",
          "TV-14",
          "TV-14",
          "TV-14",
          "TV-14",
          "TV-14",
          "TV-14",
          "TV-14",
          "TV-14",
          "TV-14",
          "TV-14",
          "TV-14",
          "TV-14",
          "TV-14",
          "TV-14",
          "TV-14",
          "TV-14",
          "TV-14",
          "TV-14",
          "TV-14",
          "TV-14",
          "TV-14",
          "TV-14",
          "TV-14",
          "TV-14",
          "TV-14",
          "TV-14",
          "TV-14",
          "TV-14",
          "TV-14",
          "TV-14",
          "TV-14",
          "TV-14",
          "TV-14",
          "TV-14",
          "TV-14",
          "TV-14",
          "TV-14",
          "TV-14",
          "TV-14",
          "TV-14",
          "TV-14",
          "TV-14",
          "TV-14",
          "TV-14",
          "TV-14",
          "TV-14",
          "TV-14",
          "TV-14",
          "TV-14",
          "TV-14",
          "TV-14",
          "TV-14",
          "TV-14",
          "TV-14",
          "TV-14",
          "TV-14",
          "TV-14",
          "TV-14",
          "TV-14",
          "TV-14",
          "TV-14",
          "TV-14",
          "TV-14",
          "TV-14",
          "TV-14",
          "TV-14",
          "TV-14",
          "TV-14",
          "TV-14",
          "TV-14",
          "TV-14",
          "TV-14",
          "TV-14",
          "TV-14",
          "TV-14",
          "TV-14",
          "TV-14",
          "TV-14",
          "TV-14",
          "TV-14",
          "TV-14",
          "TV-14",
          "TV-14",
          "TV-14",
          "TV-14",
          "TV-14",
          "TV-14",
          "TV-14",
          "TV-14",
          "TV-14",
          "TV-14",
          "TV-14",
          "TV-14",
          "TV-14",
          "TV-14",
          "TV-14",
          "TV-14",
          "TV-14",
          "TV-14",
          "TV-14",
          "TV-14",
          "TV-14",
          "TV-14",
          "TV-14",
          "TV-14",
          "TV-14",
          "TV-14",
          "TV-14",
          "TV-14",
          "TV-14",
          "TV-14",
          "TV-14",
          "TV-14",
          "TV-14",
          "TV-14",
          "TV-14",
          "TV-14",
          "TV-14",
          "TV-14",
          "TV-14",
          "TV-14",
          "TV-14",
          "TV-14",
          "TV-14",
          "TV-14",
          "TV-14",
          "TV-14",
          "TV-14",
          "TV-14",
          "TV-14",
          "TV-14",
          "TV-14",
          "TV-14",
          "TV-14",
          "TV-14",
          "TV-14",
          "TV-14",
          "TV-14",
          "TV-14",
          "TV-14",
          "TV-14",
          "TV-14",
          "TV-14",
          "TV-14",
          "TV-14",
          "TV-14",
          "TV-14",
          "TV-14",
          "TV-14",
          "TV-14",
          "TV-14",
          "TV-14",
          "TV-14",
          "TV-14",
          "TV-14",
          "TV-14",
          "TV-14",
          "TV-14",
          "TV-14",
          "TV-14",
          "TV-14",
          "TV-14",
          "TV-14",
          "TV-14",
          "TV-14",
          "TV-14",
          "TV-14",
          "TV-14",
          "TV-14",
          "TV-14",
          "TV-14",
          "TV-14",
          "TV-14",
          "TV-14",
          "TV-14",
          "TV-14",
          "TV-14",
          "TV-14",
          "TV-14",
          "TV-14",
          "TV-14",
          "TV-14",
          "TV-14",
          "TV-14",
          "TV-14",
          "TV-14",
          "TV-14",
          "TV-14",
          "TV-14",
          "TV-14",
          "TV-14",
          "TV-14",
          "TV-14",
          "TV-14",
          "TV-14",
          "TV-14",
          "TV-14",
          "TV-14",
          "TV-14",
          "TV-14",
          "TV-14",
          "TV-14",
          "TV-14",
          "TV-14",
          "TV-14",
          "TV-14",
          "TV-14",
          "TV-14",
          "TV-14",
          "TV-14",
          "TV-14",
          "TV-14",
          "TV-14",
          "TV-14",
          "TV-14",
          "TV-14",
          "TV-14",
          "TV-14",
          "TV-14",
          "TV-14",
          "TV-14",
          "TV-14",
          "TV-14",
          "TV-14",
          "TV-14",
          "TV-14",
          "TV-14",
          "TV-14",
          "TV-14",
          "TV-14",
          "TV-14",
          "TV-14",
          "TV-14",
          "TV-14",
          "TV-14",
          "TV-14",
          "TV-14",
          "TV-14",
          "TV-14",
          "TV-14",
          "TV-14",
          "TV-14",
          "TV-14",
          "TV-14",
          "TV-14",
          "TV-14",
          "TV-14",
          "TV-14",
          "TV-14",
          "TV-14",
          "TV-14",
          "TV-14",
          "TV-14",
          "TV-14",
          "TV-14",
          "TV-14",
          "TV-14",
          "TV-14",
          "TV-14",
          "TV-14",
          "TV-14",
          "TV-14",
          "TV-14",
          "TV-14",
          "TV-14",
          "TV-14",
          "TV-14",
          "TV-14",
          "TV-14",
          "TV-14",
          "TV-14",
          "TV-14",
          "TV-14",
          "TV-14",
          "TV-14",
          "TV-14",
          "TV-14",
          "TV-14",
          "TV-14",
          "TV-14",
          "TV-14",
          "TV-14",
          "TV-14",
          "TV-14",
          "TV-14",
          "TV-14",
          "TV-14",
          "TV-14",
          "TV-14",
          "TV-14",
          "TV-14",
          "TV-14",
          "TV-14",
          "TV-14",
          "TV-14",
          "TV-14",
          "TV-14",
          "TV-14",
          "TV-14",
          "TV-14",
          "TV-14",
          "TV-14",
          "TV-14",
          "TV-14",
          "TV-14",
          "TV-14",
          "TV-14",
          "TV-14",
          "TV-14",
          "TV-14",
          "TV-14",
          "TV-14",
          "TV-14",
          "TV-14",
          "TV-14",
          "TV-14",
          "TV-14",
          "TV-14",
          "TV-14",
          "TV-14",
          "TV-14",
          "TV-14",
          "TV-14",
          "TV-14",
          "TV-14",
          "TV-14",
          "TV-14",
          "TV-14",
          "TV-14",
          "TV-14",
          "TV-14",
          "TV-14",
          "TV-14",
          "TV-14",
          "TV-14",
          "TV-14",
          "TV-14",
          "TV-14",
          "TV-14",
          "TV-14",
          "TV-14",
          "TV-14",
          "TV-14",
          "TV-14",
          "TV-14",
          "TV-14",
          "TV-14",
          "TV-14",
          "TV-14",
          "TV-14",
          "TV-14",
          "TV-14",
          "TV-14",
          "TV-14",
          "TV-14",
          "TV-14",
          "TV-14",
          "TV-14",
          "TV-14",
          "TV-14",
          "TV-14",
          "TV-14",
          "TV-14",
          "TV-14",
          "TV-14",
          "TV-14",
          "TV-14",
          "TV-14",
          "TV-14",
          "TV-14",
          "TV-14",
          "TV-14",
          "TV-14",
          "TV-14",
          "TV-14",
          "TV-14",
          "TV-14",
          "TV-14",
          "TV-14",
          "TV-14",
          "TV-14",
          "TV-14",
          "TV-14",
          "TV-14",
          "TV-14",
          "TV-14",
          "TV-14",
          "TV-14",
          "TV-14",
          "TV-14",
          "TV-14",
          "TV-14",
          "TV-14",
          "TV-14",
          "TV-14",
          "TV-14",
          "TV-14",
          "TV-14",
          "TV-14",
          "TV-14",
          "TV-14",
          "TV-14",
          "TV-14",
          "TV-14",
          "TV-14",
          "TV-14",
          "TV-14",
          "TV-14",
          "TV-14",
          "TV-14",
          "TV-14",
          "TV-14",
          "TV-14",
          "TV-14",
          "TV-14",
          "TV-14",
          "TV-14",
          "TV-14",
          "TV-14",
          "TV-14",
          "TV-14",
          "TV-14",
          "TV-14",
          "TV-14",
          "TV-14",
          "TV-14",
          "TV-14",
          "TV-14",
          "TV-14",
          "TV-14",
          "TV-14",
          "TV-14",
          "TV-14",
          "TV-14",
          "TV-14",
          "TV-14",
          "TV-14",
          "TV-14",
          "TV-14",
          "TV-14",
          "TV-14",
          "TV-14",
          "TV-14",
          "TV-14",
          "TV-14",
          "TV-14",
          "TV-14",
          "TV-14",
          "TV-14",
          "TV-14",
          "TV-14",
          "TV-14",
          "TV-14",
          "TV-14",
          "TV-14",
          "TV-14",
          "TV-14",
          "TV-14",
          "TV-14",
          "TV-14",
          "TV-14",
          "TV-14",
          "TV-14",
          "TV-14",
          "TV-14",
          "TV-14",
          "TV-14",
          "TV-14",
          "TV-14",
          "TV-14",
          "TV-14",
          "TV-14",
          "TV-14",
          "TV-14",
          "TV-14",
          "TV-14",
          "TV-14",
          "TV-14",
          "TV-14",
          "TV-14",
          "TV-14",
          "TV-14",
          "TV-14",
          "TV-14",
          "TV-14",
          "TV-14",
          "TV-14",
          "TV-14",
          "TV-14",
          "TV-14",
          "TV-14",
          "TV-14",
          "TV-14",
          "TV-14",
          "TV-14",
          "TV-14",
          "TV-14",
          "TV-14",
          "TV-14",
          "TV-14",
          "TV-14",
          "TV-14",
          "TV-14",
          "TV-14",
          "TV-14",
          "TV-14",
          "TV-14",
          "TV-14",
          "TV-14",
          "TV-14",
          "TV-14",
          "TV-14",
          "TV-14",
          "TV-14",
          "TV-14",
          "TV-14",
          "TV-14",
          "TV-14",
          "TV-14",
          "TV-14",
          "TV-14",
          "TV-14",
          "TV-14",
          "TV-14",
          "TV-14",
          "TV-14",
          "TV-14",
          "TV-14",
          "TV-14",
          "TV-14",
          "TV-14",
          "TV-14",
          "TV-14",
          "TV-14",
          "TV-14",
          "TV-14",
          "TV-14",
          "TV-14",
          "TV-14",
          "TV-14",
          "TV-14",
          "TV-14",
          "TV-14",
          "TV-14",
          "TV-14",
          "TV-14",
          "TV-14",
          "TV-14",
          "TV-14",
          "TV-14",
          "TV-14",
          "TV-14",
          "TV-14",
          "TV-14",
          "TV-14",
          "TV-14",
          "TV-14",
          "TV-14",
          "TV-14",
          "TV-14",
          "TV-14",
          "TV-14",
          "TV-14",
          "TV-14",
          "TV-14",
          "TV-14",
          "TV-14",
          "TV-14",
          "TV-14",
          "TV-14",
          "TV-14",
          "TV-14",
          "TV-14",
          "TV-14",
          "TV-14",
          "TV-14",
          "TV-14",
          "TV-14",
          "TV-14",
          "TV-14",
          "TV-14",
          "TV-14",
          "TV-14",
          "TV-14",
          "TV-14",
          "TV-14",
          "TV-14",
          "TV-14",
          "TV-14",
          "TV-14",
          "TV-14",
          "TV-14",
          "TV-14",
          "TV-14",
          "TV-14",
          "TV-14",
          "TV-14",
          "TV-14",
          "TV-14",
          "TV-14",
          "TV-14",
          "TV-14",
          "TV-14",
          "TV-14",
          "TV-14",
          "TV-14",
          "TV-14",
          "TV-14",
          "TV-14",
          "TV-14",
          "TV-14",
          "TV-14",
          "TV-14",
          "TV-14",
          "TV-14",
          "TV-14",
          "TV-14",
          "TV-14",
          "TV-14",
          "TV-14",
          "TV-14",
          "TV-14",
          "TV-14",
          "TV-14",
          "TV-14",
          "TV-14",
          "TV-14",
          "TV-14",
          "TV-14",
          "TV-14",
          "TV-14",
          "TV-14",
          "TV-14",
          "TV-14",
          "TV-14",
          "TV-14",
          "TV-14",
          "TV-14",
          "TV-14",
          "TV-14",
          "TV-14",
          "TV-14",
          "TV-14",
          "TV-14",
          "TV-14",
          "TV-14",
          "TV-14",
          "TV-14",
          "TV-14",
          "TV-14",
          "TV-14",
          "TV-14",
          "TV-14",
          "TV-14",
          "TV-14",
          "TV-14",
          "TV-14",
          "TV-14",
          "TV-14",
          "TV-14",
          "TV-14",
          "TV-14",
          "TV-14",
          "TV-14",
          "TV-14",
          "TV-14",
          "TV-14",
          "TV-14",
          "TV-14",
          "TV-14",
          "TV-14",
          "TV-14",
          "TV-14",
          "TV-14",
          "TV-14",
          "TV-14",
          "TV-14",
          "TV-14",
          "TV-14",
          "TV-14",
          "TV-14",
          "TV-14",
          "TV-14",
          "TV-14",
          "TV-14",
          "TV-14",
          "TV-14",
          "TV-14",
          "TV-14",
          "TV-14",
          "TV-14",
          "TV-14",
          "TV-14",
          "TV-14",
          "TV-14",
          "TV-14",
          "TV-14",
          "TV-14",
          "TV-14",
          "TV-14",
          "TV-14",
          "TV-14",
          "TV-14",
          "TV-14",
          "TV-14",
          "TV-14",
          "TV-14",
          "TV-14",
          "TV-14",
          "TV-14",
          "TV-14",
          "TV-14",
          "TV-14",
          "TV-14",
          "TV-14",
          "TV-14",
          "TV-14",
          "TV-14",
          "TV-14",
          "TV-14",
          "TV-14",
          "TV-14",
          "TV-14",
          "TV-14",
          "TV-14",
          "TV-14",
          "TV-14",
          "TV-14",
          "TV-14",
          "TV-14",
          "TV-14",
          "TV-14",
          "TV-14",
          "TV-14",
          "TV-14",
          "TV-14",
          "TV-14",
          "TV-14",
          "TV-14",
          "TV-14",
          "TV-14",
          "TV-14",
          "TV-14",
          "TV-14",
          "TV-14",
          "TV-14",
          "TV-14",
          "TV-14",
          "TV-14",
          "TV-14",
          "TV-14",
          "TV-14",
          "TV-14",
          "TV-14",
          "TV-14",
          "TV-14",
          "TV-14",
          "TV-14",
          "TV-14",
          "TV-14",
          "TV-14",
          "TV-14",
          "TV-14",
          "TV-14",
          "TV-14",
          "TV-14",
          "TV-14",
          "TV-14",
          "TV-14",
          "TV-14",
          "TV-14",
          "TV-14",
          "TV-14",
          "TV-14",
          "TV-14",
          "TV-14",
          "TV-14",
          "TV-14",
          "TV-14",
          "TV-14",
          "TV-14",
          "TV-14",
          "TV-14",
          "TV-14",
          "TV-14",
          "TV-14",
          "TV-14",
          "TV-14",
          "TV-14",
          "TV-14",
          "TV-14",
          "TV-14",
          "TV-14",
          "TV-14",
          "TV-14",
          "TV-14",
          "TV-14",
          "TV-14",
          "TV-14",
          "TV-14",
          "TV-14",
          "TV-14",
          "TV-14",
          "TV-14",
          "TV-14",
          "TV-14",
          "TV-14",
          "TV-14",
          "TV-14",
          "TV-14",
          "TV-14",
          "TV-14",
          "TV-14",
          "TV-14",
          "TV-14",
          "TV-14",
          "TV-14",
          "TV-14",
          "TV-14",
          "TV-14",
          "TV-14",
          "TV-14",
          "TV-14",
          "TV-14",
          "TV-14",
          "TV-14",
          "TV-14",
          "TV-14",
          "TV-14",
          "TV-14",
          "TV-14",
          "TV-14",
          "TV-14",
          "TV-14",
          "TV-14",
          "TV-14",
          "TV-14",
          "TV-14",
          "TV-14",
          "TV-14",
          "TV-14",
          "TV-14",
          "TV-14",
          "TV-14",
          "TV-14",
          "TV-14",
          "TV-14",
          "TV-14",
          "TV-14",
          "TV-14",
          "TV-14",
          "TV-14",
          "TV-14",
          "TV-14",
          "TV-14",
          "TV-14",
          "TV-14",
          "TV-14",
          "TV-14",
          "TV-14",
          "TV-14",
          "TV-14",
          "TV-14",
          "TV-14",
          "TV-14",
          "TV-14",
          "TV-14",
          "TV-14",
          "TV-14",
          "TV-14",
          "TV-14",
          "TV-14",
          "TV-14",
          "TV-14",
          "TV-14",
          "TV-14",
          "TV-14",
          "TV-14",
          "TV-14",
          "TV-14",
          "TV-14",
          "TV-14",
          "TV-14",
          "TV-14",
          "TV-14",
          "TV-14",
          "TV-14",
          "TV-14",
          "TV-14",
          "TV-14",
          "TV-14",
          "TV-14",
          "TV-14",
          "TV-14",
          "TV-14",
          "TV-14",
          "TV-14",
          "TV-14",
          "TV-14",
          "TV-14",
          "TV-14",
          "TV-14",
          "TV-14",
          "TV-14",
          "TV-14",
          "TV-14",
          "TV-14",
          "TV-14",
          "TV-14",
          "TV-14",
          "TV-14",
          "TV-14",
          "TV-14",
          "TV-14",
          "TV-14",
          "TV-14",
          "TV-14",
          "TV-14",
          "TV-14",
          "TV-14",
          "TV-14",
          "TV-14",
          "TV-14",
          "TV-14",
          "TV-14",
          "TV-14",
          "TV-14",
          "TV-14",
          "TV-14",
          "TV-14",
          "TV-14",
          "TV-14",
          "TV-14",
          "TV-14",
          "TV-14",
          "TV-14",
          "TV-14",
          "TV-14",
          "TV-14",
          "TV-14",
          "TV-14",
          "TV-14",
          "TV-14",
          "TV-14",
          "TV-14",
          "TV-14",
          "TV-14",
          "TV-14",
          "TV-14",
          "TV-14",
          "TV-14",
          "TV-14",
          "TV-14",
          "TV-14",
          "TV-14",
          "TV-14",
          "TV-14",
          "TV-14",
          "TV-14",
          "TV-14",
          "TV-14",
          "TV-14",
          "TV-14",
          "TV-14",
          "TV-14",
          "TV-14",
          "TV-14",
          "TV-14",
          "TV-14",
          "TV-14",
          "TV-14",
          "TV-14",
          "TV-14",
          "TV-14",
          "TV-14",
          "TV-14"
         ],
         "xaxis": "x",
         "yaxis": "y"
        },
        {
         "alignmentgroup": "True",
         "bingroup": "x",
         "hovertemplate": "rating=%{x}<br>count=%{y}<extra></extra>",
         "legendgroup": "PG-13",
         "marker": {
          "color": "#ab63fa",
          "pattern": {
           "shape": ""
          }
         },
         "name": "PG-13",
         "offsetgroup": "PG-13",
         "orientation": "v",
         "showlegend": true,
         "type": "histogram",
         "x": [
          "PG-13",
          "PG-13",
          "PG-13",
          "PG-13",
          "PG-13",
          "PG-13",
          "PG-13",
          "PG-13",
          "PG-13",
          "PG-13",
          "PG-13",
          "PG-13",
          "PG-13",
          "PG-13",
          "PG-13",
          "PG-13",
          "PG-13",
          "PG-13",
          "PG-13",
          "PG-13",
          "PG-13",
          "PG-13",
          "PG-13",
          "PG-13",
          "PG-13",
          "PG-13",
          "PG-13",
          "PG-13",
          "PG-13",
          "PG-13",
          "PG-13",
          "PG-13",
          "PG-13",
          "PG-13",
          "PG-13",
          "PG-13",
          "PG-13",
          "PG-13",
          "PG-13",
          "PG-13",
          "PG-13",
          "PG-13",
          "PG-13",
          "PG-13",
          "PG-13",
          "PG-13",
          "PG-13",
          "PG-13",
          "PG-13",
          "PG-13",
          "PG-13",
          "PG-13",
          "PG-13",
          "PG-13",
          "PG-13",
          "PG-13",
          "PG-13",
          "PG-13",
          "PG-13",
          "PG-13",
          "PG-13",
          "PG-13",
          "PG-13",
          "PG-13",
          "PG-13",
          "PG-13",
          "PG-13",
          "PG-13",
          "PG-13",
          "PG-13",
          "PG-13",
          "PG-13",
          "PG-13",
          "PG-13",
          "PG-13",
          "PG-13",
          "PG-13",
          "PG-13",
          "PG-13",
          "PG-13",
          "PG-13",
          "PG-13",
          "PG-13",
          "PG-13",
          "PG-13",
          "PG-13",
          "PG-13",
          "PG-13",
          "PG-13",
          "PG-13",
          "PG-13",
          "PG-13",
          "PG-13",
          "PG-13",
          "PG-13",
          "PG-13",
          "PG-13",
          "PG-13",
          "PG-13",
          "PG-13",
          "PG-13",
          "PG-13",
          "PG-13",
          "PG-13",
          "PG-13",
          "PG-13",
          "PG-13",
          "PG-13",
          "PG-13",
          "PG-13",
          "PG-13",
          "PG-13",
          "PG-13",
          "PG-13",
          "PG-13",
          "PG-13",
          "PG-13",
          "PG-13",
          "PG-13",
          "PG-13",
          "PG-13",
          "PG-13",
          "PG-13",
          "PG-13",
          "PG-13",
          "PG-13",
          "PG-13",
          "PG-13",
          "PG-13",
          "PG-13",
          "PG-13",
          "PG-13",
          "PG-13",
          "PG-13",
          "PG-13",
          "PG-13",
          "PG-13",
          "PG-13",
          "PG-13",
          "PG-13",
          "PG-13",
          "PG-13",
          "PG-13",
          "PG-13",
          "PG-13",
          "PG-13",
          "PG-13",
          "PG-13",
          "PG-13",
          "PG-13",
          "PG-13",
          "PG-13",
          "PG-13",
          "PG-13",
          "PG-13",
          "PG-13",
          "PG-13",
          "PG-13",
          "PG-13",
          "PG-13",
          "PG-13",
          "PG-13",
          "PG-13",
          "PG-13",
          "PG-13",
          "PG-13",
          "PG-13",
          "PG-13",
          "PG-13",
          "PG-13",
          "PG-13",
          "PG-13",
          "PG-13",
          "PG-13",
          "PG-13",
          "PG-13",
          "PG-13",
          "PG-13",
          "PG-13",
          "PG-13",
          "PG-13",
          "PG-13",
          "PG-13",
          "PG-13",
          "PG-13",
          "PG-13",
          "PG-13",
          "PG-13",
          "PG-13",
          "PG-13",
          "PG-13",
          "PG-13",
          "PG-13",
          "PG-13",
          "PG-13",
          "PG-13",
          "PG-13",
          "PG-13",
          "PG-13",
          "PG-13",
          "PG-13",
          "PG-13",
          "PG-13",
          "PG-13",
          "PG-13",
          "PG-13",
          "PG-13",
          "PG-13",
          "PG-13",
          "PG-13",
          "PG-13",
          "PG-13",
          "PG-13",
          "PG-13",
          "PG-13",
          "PG-13",
          "PG-13",
          "PG-13",
          "PG-13",
          "PG-13",
          "PG-13",
          "PG-13",
          "PG-13",
          "PG-13",
          "PG-13",
          "PG-13",
          "PG-13",
          "PG-13",
          "PG-13",
          "PG-13",
          "PG-13",
          "PG-13",
          "PG-13",
          "PG-13",
          "PG-13",
          "PG-13",
          "PG-13",
          "PG-13",
          "PG-13",
          "PG-13",
          "PG-13",
          "PG-13",
          "PG-13",
          "PG-13",
          "PG-13",
          "PG-13",
          "PG-13",
          "PG-13",
          "PG-13",
          "PG-13",
          "PG-13",
          "PG-13",
          "PG-13",
          "PG-13",
          "PG-13",
          "PG-13",
          "PG-13",
          "PG-13",
          "PG-13",
          "PG-13",
          "PG-13",
          "PG-13",
          "PG-13",
          "PG-13",
          "PG-13",
          "PG-13",
          "PG-13",
          "PG-13",
          "PG-13",
          "PG-13",
          "PG-13",
          "PG-13",
          "PG-13",
          "PG-13",
          "PG-13",
          "PG-13",
          "PG-13",
          "PG-13",
          "PG-13",
          "PG-13",
          "PG-13",
          "PG-13",
          "PG-13",
          "PG-13",
          "PG-13",
          "PG-13",
          "PG-13",
          "PG-13",
          "PG-13",
          "PG-13",
          "PG-13",
          "PG-13",
          "PG-13",
          "PG-13",
          "PG-13",
          "PG-13",
          "PG-13",
          "PG-13",
          "PG-13",
          "PG-13",
          "PG-13",
          "PG-13",
          "PG-13",
          "PG-13",
          "PG-13",
          "PG-13",
          "PG-13",
          "PG-13",
          "PG-13",
          "PG-13",
          "PG-13",
          "PG-13",
          "PG-13",
          "PG-13",
          "PG-13",
          "PG-13",
          "PG-13",
          "PG-13",
          "PG-13",
          "PG-13",
          "PG-13",
          "PG-13",
          "PG-13",
          "PG-13",
          "PG-13",
          "PG-13",
          "PG-13",
          "PG-13",
          "PG-13",
          "PG-13",
          "PG-13",
          "PG-13",
          "PG-13",
          "PG-13",
          "PG-13",
          "PG-13",
          "PG-13",
          "PG-13",
          "PG-13",
          "PG-13",
          "PG-13",
          "PG-13",
          "PG-13",
          "PG-13",
          "PG-13",
          "PG-13",
          "PG-13",
          "PG-13",
          "PG-13",
          "PG-13",
          "PG-13",
          "PG-13",
          "PG-13",
          "PG-13",
          "PG-13",
          "PG-13",
          "PG-13",
          "PG-13",
          "PG-13",
          "PG-13",
          "PG-13",
          "PG-13",
          "PG-13",
          "PG-13",
          "PG-13",
          "PG-13",
          "PG-13",
          "PG-13",
          "PG-13",
          "PG-13",
          "PG-13",
          "PG-13",
          "PG-13",
          "PG-13",
          "PG-13",
          "PG-13",
          "PG-13",
          "PG-13",
          "PG-13",
          "PG-13",
          "PG-13",
          "PG-13",
          "PG-13",
          "PG-13",
          "PG-13",
          "PG-13",
          "PG-13",
          "PG-13",
          "PG-13",
          "PG-13",
          "PG-13",
          "PG-13",
          "PG-13",
          "PG-13",
          "PG-13",
          "PG-13",
          "PG-13",
          "PG-13",
          "PG-13",
          "PG-13",
          "PG-13",
          "PG-13",
          "PG-13",
          "PG-13",
          "PG-13",
          "PG-13",
          "PG-13",
          "PG-13",
          "PG-13",
          "PG-13",
          "PG-13",
          "PG-13",
          "PG-13",
          "PG-13",
          "PG-13",
          "PG-13",
          "PG-13",
          "PG-13",
          "PG-13",
          "PG-13",
          "PG-13",
          "PG-13",
          "PG-13",
          "PG-13",
          "PG-13",
          "PG-13",
          "PG-13",
          "PG-13",
          "PG-13",
          "PG-13",
          "PG-13",
          "PG-13",
          "PG-13",
          "PG-13",
          "PG-13",
          "PG-13",
          "PG-13",
          "PG-13",
          "PG-13",
          "PG-13",
          "PG-13",
          "PG-13",
          "PG-13",
          "PG-13",
          "PG-13",
          "PG-13",
          "PG-13",
          "PG-13",
          "PG-13",
          "PG-13",
          "PG-13",
          "PG-13",
          "PG-13",
          "PG-13",
          "PG-13",
          "PG-13",
          "PG-13",
          "PG-13",
          "PG-13",
          "PG-13",
          "PG-13",
          "PG-13",
          "PG-13",
          "PG-13",
          "PG-13",
          "PG-13",
          "PG-13",
          "PG-13",
          "PG-13",
          "PG-13",
          "PG-13",
          "PG-13",
          "PG-13",
          "PG-13",
          "PG-13",
          "PG-13",
          "PG-13"
         ],
         "xaxis": "x",
         "yaxis": "y"
        },
        {
         "alignmentgroup": "True",
         "bingroup": "x",
         "hovertemplate": "rating=%{x}<br>count=%{y}<extra></extra>",
         "legendgroup": "TV-PG",
         "marker": {
          "color": "#FFA15A",
          "pattern": {
           "shape": ""
          }
         },
         "name": "TV-PG",
         "offsetgroup": "TV-PG",
         "orientation": "v",
         "showlegend": true,
         "type": "histogram",
         "x": [
          "TV-PG",
          "TV-PG",
          "TV-PG",
          "TV-PG",
          "TV-PG",
          "TV-PG",
          "TV-PG",
          "TV-PG",
          "TV-PG",
          "TV-PG",
          "TV-PG",
          "TV-PG",
          "TV-PG",
          "TV-PG",
          "TV-PG",
          "TV-PG",
          "TV-PG",
          "TV-PG",
          "TV-PG",
          "TV-PG",
          "TV-PG",
          "TV-PG",
          "TV-PG",
          "TV-PG",
          "TV-PG",
          "TV-PG",
          "TV-PG",
          "TV-PG",
          "TV-PG",
          "TV-PG",
          "TV-PG",
          "TV-PG",
          "TV-PG",
          "TV-PG",
          "TV-PG",
          "TV-PG",
          "TV-PG",
          "TV-PG",
          "TV-PG",
          "TV-PG",
          "TV-PG",
          "TV-PG",
          "TV-PG",
          "TV-PG",
          "TV-PG",
          "TV-PG",
          "TV-PG",
          "TV-PG",
          "TV-PG",
          "TV-PG",
          "TV-PG",
          "TV-PG",
          "TV-PG",
          "TV-PG",
          "TV-PG",
          "TV-PG",
          "TV-PG",
          "TV-PG",
          "TV-PG",
          "TV-PG",
          "TV-PG",
          "TV-PG",
          "TV-PG",
          "TV-PG",
          "TV-PG",
          "TV-PG",
          "TV-PG",
          "TV-PG",
          "TV-PG",
          "TV-PG",
          "TV-PG",
          "TV-PG",
          "TV-PG",
          "TV-PG",
          "TV-PG",
          "TV-PG",
          "TV-PG",
          "TV-PG",
          "TV-PG",
          "TV-PG",
          "TV-PG",
          "TV-PG",
          "TV-PG",
          "TV-PG",
          "TV-PG",
          "TV-PG",
          "TV-PG",
          "TV-PG",
          "TV-PG",
          "TV-PG",
          "TV-PG",
          "TV-PG",
          "TV-PG",
          "TV-PG",
          "TV-PG",
          "TV-PG",
          "TV-PG",
          "TV-PG",
          "TV-PG",
          "TV-PG",
          "TV-PG",
          "TV-PG",
          "TV-PG",
          "TV-PG",
          "TV-PG",
          "TV-PG",
          "TV-PG",
          "TV-PG",
          "TV-PG",
          "TV-PG",
          "TV-PG",
          "TV-PG",
          "TV-PG",
          "TV-PG",
          "TV-PG",
          "TV-PG",
          "TV-PG",
          "TV-PG",
          "TV-PG",
          "TV-PG",
          "TV-PG",
          "TV-PG",
          "TV-PG",
          "TV-PG",
          "TV-PG",
          "TV-PG",
          "TV-PG",
          "TV-PG",
          "TV-PG",
          "TV-PG",
          "TV-PG",
          "TV-PG",
          "TV-PG",
          "TV-PG",
          "TV-PG",
          "TV-PG",
          "TV-PG",
          "TV-PG",
          "TV-PG",
          "TV-PG",
          "TV-PG",
          "TV-PG",
          "TV-PG",
          "TV-PG",
          "TV-PG",
          "TV-PG",
          "TV-PG",
          "TV-PG",
          "TV-PG",
          "TV-PG",
          "TV-PG",
          "TV-PG",
          "TV-PG",
          "TV-PG",
          "TV-PG",
          "TV-PG",
          "TV-PG",
          "TV-PG",
          "TV-PG",
          "TV-PG",
          "TV-PG",
          "TV-PG",
          "TV-PG",
          "TV-PG",
          "TV-PG",
          "TV-PG",
          "TV-PG",
          "TV-PG",
          "TV-PG",
          "TV-PG",
          "TV-PG",
          "TV-PG",
          "TV-PG",
          "TV-PG",
          "TV-PG",
          "TV-PG",
          "TV-PG",
          "TV-PG",
          "TV-PG",
          "TV-PG",
          "TV-PG",
          "TV-PG",
          "TV-PG",
          "TV-PG",
          "TV-PG",
          "TV-PG",
          "TV-PG",
          "TV-PG",
          "TV-PG",
          "TV-PG",
          "TV-PG",
          "TV-PG",
          "TV-PG",
          "TV-PG",
          "TV-PG",
          "TV-PG",
          "TV-PG",
          "TV-PG",
          "TV-PG",
          "TV-PG",
          "TV-PG",
          "TV-PG",
          "TV-PG",
          "TV-PG",
          "TV-PG",
          "TV-PG",
          "TV-PG",
          "TV-PG",
          "TV-PG",
          "TV-PG",
          "TV-PG",
          "TV-PG",
          "TV-PG",
          "TV-PG",
          "TV-PG",
          "TV-PG",
          "TV-PG",
          "TV-PG",
          "TV-PG",
          "TV-PG",
          "TV-PG",
          "TV-PG",
          "TV-PG",
          "TV-PG",
          "TV-PG",
          "TV-PG",
          "TV-PG",
          "TV-PG",
          "TV-PG",
          "TV-PG",
          "TV-PG",
          "TV-PG",
          "TV-PG",
          "TV-PG",
          "TV-PG",
          "TV-PG",
          "TV-PG",
          "TV-PG",
          "TV-PG",
          "TV-PG",
          "TV-PG",
          "TV-PG",
          "TV-PG",
          "TV-PG",
          "TV-PG",
          "TV-PG",
          "TV-PG",
          "TV-PG",
          "TV-PG",
          "TV-PG",
          "TV-PG",
          "TV-PG",
          "TV-PG",
          "TV-PG",
          "TV-PG",
          "TV-PG",
          "TV-PG",
          "TV-PG",
          "TV-PG",
          "TV-PG",
          "TV-PG",
          "TV-PG",
          "TV-PG",
          "TV-PG",
          "TV-PG",
          "TV-PG",
          "TV-PG",
          "TV-PG",
          "TV-PG",
          "TV-PG",
          "TV-PG",
          "TV-PG",
          "TV-PG",
          "TV-PG",
          "TV-PG",
          "TV-PG",
          "TV-PG",
          "TV-PG",
          "TV-PG",
          "TV-PG",
          "TV-PG",
          "TV-PG",
          "TV-PG",
          "TV-PG",
          "TV-PG",
          "TV-PG",
          "TV-PG",
          "TV-PG",
          "TV-PG",
          "TV-PG",
          "TV-PG",
          "TV-PG",
          "TV-PG",
          "TV-PG",
          "TV-PG",
          "TV-PG",
          "TV-PG",
          "TV-PG",
          "TV-PG",
          "TV-PG",
          "TV-PG",
          "TV-PG",
          "TV-PG",
          "TV-PG",
          "TV-PG",
          "TV-PG",
          "TV-PG",
          "TV-PG",
          "TV-PG",
          "TV-PG",
          "TV-PG",
          "TV-PG",
          "TV-PG",
          "TV-PG",
          "TV-PG",
          "TV-PG",
          "TV-PG",
          "TV-PG",
          "TV-PG",
          "TV-PG",
          "TV-PG",
          "TV-PG",
          "TV-PG",
          "TV-PG",
          "TV-PG",
          "TV-PG",
          "TV-PG",
          "TV-PG",
          "TV-PG",
          "TV-PG",
          "TV-PG",
          "TV-PG",
          "TV-PG",
          "TV-PG",
          "TV-PG",
          "TV-PG",
          "TV-PG",
          "TV-PG",
          "TV-PG",
          "TV-PG",
          "TV-PG",
          "TV-PG",
          "TV-PG",
          "TV-PG",
          "TV-PG",
          "TV-PG",
          "TV-PG",
          "TV-PG",
          "TV-PG",
          "TV-PG",
          "TV-PG",
          "TV-PG",
          "TV-PG",
          "TV-PG",
          "TV-PG",
          "TV-PG",
          "TV-PG",
          "TV-PG",
          "TV-PG",
          "TV-PG",
          "TV-PG",
          "TV-PG",
          "TV-PG",
          "TV-PG",
          "TV-PG",
          "TV-PG",
          "TV-PG",
          "TV-PG",
          "TV-PG",
          "TV-PG",
          "TV-PG",
          "TV-PG",
          "TV-PG",
          "TV-PG",
          "TV-PG",
          "TV-PG",
          "TV-PG",
          "TV-PG",
          "TV-PG",
          "TV-PG",
          "TV-PG",
          "TV-PG",
          "TV-PG",
          "TV-PG",
          "TV-PG",
          "TV-PG",
          "TV-PG",
          "TV-PG",
          "TV-PG",
          "TV-PG",
          "TV-PG",
          "TV-PG",
          "TV-PG",
          "TV-PG",
          "TV-PG",
          "TV-PG",
          "TV-PG",
          "TV-PG",
          "TV-PG",
          "TV-PG",
          "TV-PG",
          "TV-PG",
          "TV-PG",
          "TV-PG",
          "TV-PG",
          "TV-PG",
          "TV-PG",
          "TV-PG",
          "TV-PG",
          "TV-PG",
          "TV-PG",
          "TV-PG",
          "TV-PG",
          "TV-PG",
          "TV-PG",
          "TV-PG",
          "TV-PG",
          "TV-PG",
          "TV-PG",
          "TV-PG",
          "TV-PG",
          "TV-PG",
          "TV-PG",
          "TV-PG",
          "TV-PG",
          "TV-PG",
          "TV-PG",
          "TV-PG",
          "TV-PG",
          "TV-PG",
          "TV-PG",
          "TV-PG",
          "TV-PG",
          "TV-PG",
          "TV-PG",
          "TV-PG",
          "TV-PG",
          "TV-PG",
          "TV-PG",
          "TV-PG",
          "TV-PG",
          "TV-PG",
          "TV-PG",
          "TV-PG",
          "TV-PG",
          "TV-PG",
          "TV-PG",
          "TV-PG",
          "TV-PG",
          "TV-PG",
          "TV-PG",
          "TV-PG",
          "TV-PG",
          "TV-PG",
          "TV-PG",
          "TV-PG"
         ],
         "xaxis": "x",
         "yaxis": "y"
        },
        {
         "alignmentgroup": "True",
         "bingroup": "x",
         "hovertemplate": "rating=%{x}<br>count=%{y}<extra></extra>",
         "legendgroup": "TV-Y",
         "marker": {
          "color": "#19d3f3",
          "pattern": {
           "shape": ""
          }
         },
         "name": "TV-Y",
         "offsetgroup": "TV-Y",
         "orientation": "v",
         "showlegend": true,
         "type": "histogram",
         "x": [
          "TV-Y",
          "TV-Y",
          "TV-Y",
          "TV-Y",
          "TV-Y",
          "TV-Y",
          "TV-Y",
          "TV-Y",
          "TV-Y",
          "TV-Y",
          "TV-Y",
          "TV-Y",
          "TV-Y",
          "TV-Y",
          "TV-Y",
          "TV-Y",
          "TV-Y",
          "TV-Y",
          "TV-Y",
          "TV-Y",
          "TV-Y",
          "TV-Y",
          "TV-Y",
          "TV-Y",
          "TV-Y",
          "TV-Y",
          "TV-Y",
          "TV-Y",
          "TV-Y",
          "TV-Y",
          "TV-Y",
          "TV-Y",
          "TV-Y",
          "TV-Y",
          "TV-Y",
          "TV-Y",
          "TV-Y",
          "TV-Y",
          "TV-Y",
          "TV-Y",
          "TV-Y",
          "TV-Y",
          "TV-Y",
          "TV-Y",
          "TV-Y",
          "TV-Y",
          "TV-Y",
          "TV-Y",
          "TV-Y",
          "TV-Y",
          "TV-Y",
          "TV-Y",
          "TV-Y",
          "TV-Y",
          "TV-Y",
          "TV-Y",
          "TV-Y",
          "TV-Y",
          "TV-Y",
          "TV-Y",
          "TV-Y",
          "TV-Y",
          "TV-Y",
          "TV-Y",
          "TV-Y",
          "TV-Y",
          "TV-Y",
          "TV-Y",
          "TV-Y",
          "TV-Y",
          "TV-Y",
          "TV-Y",
          "TV-Y",
          "TV-Y",
          "TV-Y",
          "TV-Y",
          "TV-Y",
          "TV-Y",
          "TV-Y",
          "TV-Y",
          "TV-Y",
          "TV-Y",
          "TV-Y",
          "TV-Y",
          "TV-Y",
          "TV-Y",
          "TV-Y",
          "TV-Y",
          "TV-Y",
          "TV-Y",
          "TV-Y",
          "TV-Y",
          "TV-Y",
          "TV-Y",
          "TV-Y",
          "TV-Y",
          "TV-Y",
          "TV-Y",
          "TV-Y",
          "TV-Y",
          "TV-Y",
          "TV-Y"
         ],
         "xaxis": "x",
         "yaxis": "y"
        },
        {
         "alignmentgroup": "True",
         "bingroup": "x",
         "hovertemplate": "rating=%{x}<br>count=%{y}<extra></extra>",
         "legendgroup": "R",
         "marker": {
          "color": "#FF6692",
          "pattern": {
           "shape": ""
          }
         },
         "name": "R",
         "offsetgroup": "R",
         "orientation": "v",
         "showlegend": true,
         "type": "histogram",
         "x": [
          "R",
          "R",
          "R",
          "R",
          "R",
          "R",
          "R",
          "R",
          "R",
          "R",
          "R",
          "R",
          "R",
          "R",
          "R",
          "R",
          "R",
          "R",
          "R",
          "R",
          "R",
          "R",
          "R",
          "R",
          "R",
          "R",
          "R",
          "R",
          "R",
          "R",
          "R",
          "R",
          "R",
          "R",
          "R",
          "R",
          "R",
          "R",
          "R",
          "R",
          "R",
          "R",
          "R",
          "R",
          "R",
          "R",
          "R",
          "R",
          "R",
          "R",
          "R",
          "R",
          "R",
          "R",
          "R",
          "R",
          "R",
          "R",
          "R",
          "R",
          "R",
          "R",
          "R",
          "R",
          "R",
          "R",
          "R",
          "R",
          "R",
          "R",
          "R",
          "R",
          "R",
          "R",
          "R",
          "R",
          "R",
          "R",
          "R",
          "R",
          "R",
          "R",
          "R",
          "R",
          "R",
          "R",
          "R",
          "R",
          "R",
          "R",
          "R",
          "R",
          "R",
          "R",
          "R",
          "R",
          "R",
          "R",
          "R",
          "R",
          "R",
          "R",
          "R",
          "R",
          "R",
          "R",
          "R",
          "R",
          "R",
          "R",
          "R",
          "R",
          "R",
          "R",
          "R",
          "R",
          "R",
          "R",
          "R",
          "R",
          "R",
          "R",
          "R",
          "R",
          "R",
          "R",
          "R",
          "R",
          "R",
          "R",
          "R",
          "R",
          "R",
          "R",
          "R",
          "R",
          "R",
          "R",
          "R",
          "R",
          "R",
          "R",
          "R",
          "R",
          "R",
          "R",
          "R",
          "R",
          "R",
          "R",
          "R",
          "R",
          "R",
          "R",
          "R",
          "R",
          "R",
          "R",
          "R",
          "R",
          "R",
          "R",
          "R",
          "R",
          "R",
          "R",
          "R",
          "R",
          "R",
          "R",
          "R",
          "R",
          "R",
          "R",
          "R",
          "R",
          "R",
          "R",
          "R",
          "R",
          "R",
          "R",
          "R",
          "R",
          "R",
          "R",
          "R",
          "R",
          "R",
          "R",
          "R",
          "R",
          "R",
          "R",
          "R",
          "R",
          "R",
          "R",
          "R",
          "R",
          "R",
          "R",
          "R",
          "R",
          "R",
          "R",
          "R",
          "R",
          "R",
          "R",
          "R",
          "R",
          "R",
          "R",
          "R",
          "R",
          "R",
          "R",
          "R",
          "R",
          "R",
          "R",
          "R",
          "R",
          "R",
          "R",
          "R",
          "R",
          "R",
          "R",
          "R",
          "R",
          "R",
          "R",
          "R",
          "R",
          "R",
          "R",
          "R",
          "R",
          "R",
          "R",
          "R",
          "R",
          "R",
          "R",
          "R",
          "R",
          "R",
          "R",
          "R",
          "R",
          "R",
          "R",
          "R",
          "R",
          "R",
          "R",
          "R",
          "R",
          "R",
          "R",
          "R",
          "R",
          "R",
          "R",
          "R",
          "R",
          "R",
          "R",
          "R",
          "R",
          "R",
          "R",
          "R",
          "R",
          "R",
          "R",
          "R",
          "R",
          "R",
          "R",
          "R",
          "R",
          "R",
          "R",
          "R",
          "R",
          "R",
          "R",
          "R",
          "R",
          "R",
          "R",
          "R",
          "R",
          "R",
          "R",
          "R",
          "R",
          "R",
          "R",
          "R",
          "R",
          "R",
          "R",
          "R",
          "R",
          "R",
          "R",
          "R",
          "R",
          "R",
          "R",
          "R",
          "R",
          "R",
          "R",
          "R",
          "R",
          "R",
          "R",
          "R",
          "R",
          "R",
          "R",
          "R",
          "R",
          "R",
          "R",
          "R",
          "R",
          "R",
          "R",
          "R",
          "R",
          "R",
          "R",
          "R",
          "R",
          "R",
          "R",
          "R",
          "R",
          "R",
          "R",
          "R",
          "R",
          "R",
          "R",
          "R",
          "R",
          "R",
          "R",
          "R",
          "R",
          "R",
          "R",
          "R",
          "R",
          "R",
          "R",
          "R",
          "R",
          "R",
          "R",
          "R",
          "R",
          "R",
          "R",
          "R",
          "R",
          "R",
          "R",
          "R",
          "R",
          "R",
          "R",
          "R",
          "R",
          "R",
          "R",
          "R",
          "R",
          "R",
          "R",
          "R",
          "R",
          "R",
          "R",
          "R",
          "R",
          "R",
          "R",
          "R",
          "R",
          "R",
          "R",
          "R",
          "R",
          "R",
          "R",
          "R",
          "R",
          "R",
          "R",
          "R",
          "R",
          "R",
          "R",
          "R",
          "R",
          "R",
          "R",
          "R",
          "R",
          "R",
          "R",
          "R",
          "R",
          "R",
          "R",
          "R",
          "R",
          "R",
          "R",
          "R",
          "R",
          "R",
          "R",
          "R",
          "R",
          "R",
          "R",
          "R",
          "R",
          "R",
          "R",
          "R",
          "R",
          "R",
          "R",
          "R",
          "R",
          "R",
          "R",
          "R",
          "R",
          "R",
          "R",
          "R",
          "R",
          "R",
          "R",
          "R",
          "R",
          "R",
          "R",
          "R",
          "R",
          "R",
          "R",
          "R",
          "R",
          "R",
          "R",
          "R",
          "R",
          "R",
          "R",
          "R",
          "R",
          "R",
          "R",
          "R",
          "R",
          "R",
          "R",
          "R",
          "R",
          "R",
          "R",
          "R",
          "R",
          "R",
          "R",
          "R",
          "R",
          "R",
          "R",
          "R",
          "R",
          "R",
          "R",
          "R",
          "R",
          "R",
          "R",
          "R",
          "R",
          "R",
          "R",
          "R",
          "R",
          "R",
          "R",
          "R",
          "R",
          "R",
          "R",
          "R",
          "R",
          "R",
          "R",
          "R",
          "R",
          "R",
          "R",
          "R",
          "R",
          "R",
          "R",
          "R",
          "R",
          "R",
          "R",
          "R",
          "R",
          "R",
          "R",
          "R",
          "R",
          "R",
          "R",
          "R",
          "R",
          "R",
          "R",
          "R",
          "R",
          "R",
          "R",
          "R",
          "R",
          "R",
          "R",
          "R",
          "R",
          "R",
          "R",
          "R",
          "R",
          "R",
          "R",
          "R",
          "R",
          "R",
          "R",
          "R",
          "R",
          "R",
          "R",
          "R",
          "R",
          "R",
          "R",
          "R",
          "R",
          "R",
          "R",
          "R",
          "R",
          "R",
          "R",
          "R",
          "R",
          "R",
          "R",
          "R",
          "R",
          "R",
          "R",
          "R",
          "R",
          "R",
          "R",
          "R",
          "R",
          "R",
          "R",
          "R",
          "R",
          "R",
          "R",
          "R",
          "R",
          "R",
          "R",
          "R",
          "R",
          "R",
          "R",
          "R",
          "R",
          "R",
          "R",
          "R",
          "R",
          "R",
          "R",
          "R",
          "R",
          "R",
          "R",
          "R",
          "R",
          "R",
          "R",
          "R",
          "R",
          "R",
          "R",
          "R",
          "R",
          "R",
          "R",
          "R",
          "R",
          "R",
          "R",
          "R",
          "R",
          "R",
          "R",
          "R",
          "R",
          "R",
          "R",
          "R",
          "R",
          "R",
          "R",
          "R",
          "R",
          "R",
          "R",
          "R",
          "R",
          "R",
          "R",
          "R",
          "R",
          "R",
          "R",
          "R",
          "R",
          "R",
          "R",
          "R",
          "R",
          "R",
          "R",
          "R",
          "R",
          "R",
          "R",
          "R",
          "R",
          "R",
          "R",
          "R",
          "R",
          "R",
          "R",
          "R",
          "R",
          "R",
          "R",
          "R",
          "R",
          "R",
          "R",
          "R",
          "R",
          "R",
          "R",
          "R",
          "R",
          "R",
          "R",
          "R",
          "R",
          "R",
          "R",
          "R",
          "R",
          "R",
          "R",
          "R",
          "R",
          "R",
          "R",
          "R",
          "R",
          "R",
          "R",
          "R",
          "R",
          "R",
          "R",
          "R",
          "R",
          "R",
          "R",
          "R",
          "R",
          "R",
          "R",
          "R",
          "R",
          "R",
          "R",
          "R",
          "R",
          "R",
          "R",
          "R",
          "R",
          "R",
          "R",
          "R",
          "R",
          "R",
          "R",
          "R",
          "R",
          "R",
          "R",
          "R",
          "R",
          "R",
          "R",
          "R",
          "R",
          "R",
          "R",
          "R",
          "R",
          "R",
          "R",
          "R",
          "R",
          "R",
          "R",
          "R",
          "R",
          "R",
          "R",
          "R",
          "R",
          "R",
          "R",
          "R",
          "R",
          "R",
          "R",
          "R",
          "R",
          "R",
          "R",
          "R",
          "R",
          "R",
          "R",
          "R",
          "R",
          "R",
          "R",
          "R",
          "R",
          "R",
          "R",
          "R",
          "R",
          "R",
          "R",
          "R",
          "R",
          "R"
         ],
         "xaxis": "x",
         "yaxis": "y"
        },
        {
         "alignmentgroup": "True",
         "bingroup": "x",
         "hovertemplate": "rating=%{x}<br>count=%{y}<extra></extra>",
         "legendgroup": "TV-G",
         "marker": {
          "color": "#B6E880",
          "pattern": {
           "shape": ""
          }
         },
         "name": "TV-G",
         "offsetgroup": "TV-G",
         "orientation": "v",
         "showlegend": true,
         "type": "histogram",
         "x": [
          "TV-G",
          "TV-G",
          "TV-G",
          "TV-G",
          "TV-G",
          "TV-G",
          "TV-G",
          "TV-G",
          "TV-G",
          "TV-G",
          "TV-G",
          "TV-G",
          "TV-G",
          "TV-G",
          "TV-G",
          "TV-G",
          "TV-G",
          "TV-G",
          "TV-G",
          "TV-G",
          "TV-G",
          "TV-G",
          "TV-G",
          "TV-G",
          "TV-G",
          "TV-G",
          "TV-G",
          "TV-G",
          "TV-G",
          "TV-G",
          "TV-G",
          "TV-G",
          "TV-G",
          "TV-G",
          "TV-G",
          "TV-G",
          "TV-G",
          "TV-G",
          "TV-G",
          "TV-G",
          "TV-G",
          "TV-G",
          "TV-G",
          "TV-G",
          "TV-G",
          "TV-G",
          "TV-G",
          "TV-G",
          "TV-G",
          "TV-G",
          "TV-G",
          "TV-G",
          "TV-G",
          "TV-G",
          "TV-G",
          "TV-G",
          "TV-G",
          "TV-G",
          "TV-G",
          "TV-G",
          "TV-G",
          "TV-G",
          "TV-G",
          "TV-G",
          "TV-G",
          "TV-G",
          "TV-G",
          "TV-G",
          "TV-G",
          "TV-G",
          "TV-G",
          "TV-G",
          "TV-G",
          "TV-G",
          "TV-G",
          "TV-G",
          "TV-G",
          "TV-G",
          "TV-G",
          "TV-G",
          "TV-G",
          "TV-G",
          "TV-G",
          "TV-G",
          "TV-G",
          "TV-G",
          "TV-G",
          "TV-G",
          "TV-G",
          "TV-G",
          "TV-G",
          "TV-G",
          "TV-G",
          "TV-G",
          "TV-G",
          "TV-G"
         ],
         "xaxis": "x",
         "yaxis": "y"
        },
        {
         "alignmentgroup": "True",
         "bingroup": "x",
         "hovertemplate": "rating=%{x}<br>count=%{y}<extra></extra>",
         "legendgroup": "TV-Y7",
         "marker": {
          "color": "#FF97FF",
          "pattern": {
           "shape": ""
          }
         },
         "name": "TV-Y7",
         "offsetgroup": "TV-Y7",
         "orientation": "v",
         "showlegend": true,
         "type": "histogram",
         "x": [
          "TV-Y7",
          "TV-Y7",
          "TV-Y7",
          "TV-Y7",
          "TV-Y7",
          "TV-Y7",
          "TV-Y7",
          "TV-Y7",
          "TV-Y7",
          "TV-Y7",
          "TV-Y7",
          "TV-Y7",
          "TV-Y7",
          "TV-Y7",
          "TV-Y7",
          "TV-Y7",
          "TV-Y7",
          "TV-Y7",
          "TV-Y7",
          "TV-Y7",
          "TV-Y7",
          "TV-Y7",
          "TV-Y7",
          "TV-Y7",
          "TV-Y7",
          "TV-Y7",
          "TV-Y7",
          "TV-Y7",
          "TV-Y7",
          "TV-Y7",
          "TV-Y7",
          "TV-Y7",
          "TV-Y7",
          "TV-Y7",
          "TV-Y7",
          "TV-Y7",
          "TV-Y7",
          "TV-Y7",
          "TV-Y7",
          "TV-Y7",
          "TV-Y7",
          "TV-Y7",
          "TV-Y7",
          "TV-Y7",
          "TV-Y7",
          "TV-Y7",
          "TV-Y7",
          "TV-Y7",
          "TV-Y7",
          "TV-Y7",
          "TV-Y7",
          "TV-Y7",
          "TV-Y7",
          "TV-Y7",
          "TV-Y7",
          "TV-Y7",
          "TV-Y7",
          "TV-Y7",
          "TV-Y7",
          "TV-Y7",
          "TV-Y7",
          "TV-Y7",
          "TV-Y7",
          "TV-Y7",
          "TV-Y7",
          "TV-Y7",
          "TV-Y7",
          "TV-Y7",
          "TV-Y7",
          "TV-Y7",
          "TV-Y7",
          "TV-Y7",
          "TV-Y7",
          "TV-Y7",
          "TV-Y7",
          "TV-Y7",
          "TV-Y7",
          "TV-Y7",
          "TV-Y7",
          "TV-Y7",
          "TV-Y7",
          "TV-Y7",
          "TV-Y7",
          "TV-Y7",
          "TV-Y7",
          "TV-Y7",
          "TV-Y7",
          "TV-Y7",
          "TV-Y7",
          "TV-Y7",
          "TV-Y7",
          "TV-Y7",
          "TV-Y7",
          "TV-Y7",
          "TV-Y7",
          "TV-Y7",
          "TV-Y7",
          "TV-Y7",
          "TV-Y7",
          "TV-Y7",
          "TV-Y7",
          "TV-Y7",
          "TV-Y7",
          "TV-Y7",
          "TV-Y7",
          "TV-Y7",
          "TV-Y7",
          "TV-Y7",
          "TV-Y7",
          "TV-Y7",
          "TV-Y7",
          "TV-Y7",
          "TV-Y7",
          "TV-Y7",
          "TV-Y7",
          "TV-Y7",
          "TV-Y7",
          "TV-Y7",
          "TV-Y7",
          "TV-Y7",
          "TV-Y7",
          "TV-Y7",
          "TV-Y7"
         ],
         "xaxis": "x",
         "yaxis": "y"
        },
        {
         "alignmentgroup": "True",
         "bingroup": "x",
         "hovertemplate": "rating=%{x}<br>count=%{y}<extra></extra>",
         "legendgroup": "G",
         "marker": {
          "color": "#FECB52",
          "pattern": {
           "shape": ""
          }
         },
         "name": "G",
         "offsetgroup": "G",
         "orientation": "v",
         "showlegend": true,
         "type": "histogram",
         "x": [
          "G",
          "G",
          "G",
          "G",
          "G",
          "G",
          "G",
          "G",
          "G",
          "G",
          "G",
          "G",
          "G",
          "G",
          "G",
          "G",
          "G",
          "G",
          "G",
          "G",
          "G",
          "G",
          "G",
          "G",
          "G",
          "G",
          "G",
          "G",
          "G",
          "G",
          "G",
          "G",
          "G",
          "G",
          "G",
          "G",
          "G",
          "G",
          "G",
          "G"
         ],
         "xaxis": "x",
         "yaxis": "y"
        },
        {
         "alignmentgroup": "True",
         "bingroup": "x",
         "hovertemplate": "rating=%{x}<br>count=%{y}<extra></extra>",
         "legendgroup": "NC-17",
         "marker": {
          "color": "#636efa",
          "pattern": {
           "shape": ""
          }
         },
         "name": "NC-17",
         "offsetgroup": "NC-17",
         "orientation": "v",
         "showlegend": true,
         "type": "histogram",
         "x": [
          "NC-17",
          "NC-17"
         ],
         "xaxis": "x",
         "yaxis": "y"
        },
        {
         "alignmentgroup": "True",
         "bingroup": "x",
         "hovertemplate": "rating=%{x}<br>count=%{y}<extra></extra>",
         "legendgroup": "NR",
         "marker": {
          "color": "#EF553B",
          "pattern": {
           "shape": ""
          }
         },
         "name": "NR",
         "offsetgroup": "NR",
         "orientation": "v",
         "showlegend": true,
         "type": "histogram",
         "x": [
          "NR",
          "NR",
          "NR",
          "NR",
          "NR",
          "NR",
          "NR",
          "NR",
          "NR",
          "NR",
          "NR",
          "NR",
          "NR",
          "NR",
          "NR",
          "NR",
          "NR",
          "NR",
          "NR",
          "NR",
          "NR",
          "NR",
          "NR",
          "NR",
          "NR",
          "NR",
          "NR",
          "NR",
          "NR",
          "NR",
          "NR",
          "NR",
          "NR",
          "NR",
          "NR",
          "NR",
          "NR",
          "NR",
          "NR",
          "NR",
          "NR",
          "NR",
          "NR",
          "NR",
          "NR",
          "NR",
          "NR",
          "NR",
          "NR",
          "NR",
          "NR",
          "NR",
          "NR",
          "NR",
          "NR",
          "NR",
          "NR",
          "NR"
         ],
         "xaxis": "x",
         "yaxis": "y"
        },
        {
         "alignmentgroup": "True",
         "bingroup": "x",
         "hovertemplate": "rating=%{x}<br>count=%{y}<extra></extra>",
         "legendgroup": "TV-Y7-FV",
         "marker": {
          "color": "#00cc96",
          "pattern": {
           "shape": ""
          }
         },
         "name": "TV-Y7-FV",
         "offsetgroup": "TV-Y7-FV",
         "orientation": "v",
         "showlegend": true,
         "type": "histogram",
         "x": [
          "TV-Y7-FV",
          "TV-Y7-FV",
          "TV-Y7-FV"
         ],
         "xaxis": "x",
         "yaxis": "y"
        },
        {
         "alignmentgroup": "True",
         "bingroup": "x",
         "hovertemplate": "rating=%{x}<br>count=%{y}<extra></extra>",
         "legendgroup": "UR",
         "marker": {
          "color": "#ab63fa",
          "pattern": {
           "shape": ""
          }
         },
         "name": "UR",
         "offsetgroup": "UR",
         "orientation": "v",
         "showlegend": true,
         "type": "histogram",
         "x": [
          "UR",
          "UR",
          "UR"
         ],
         "xaxis": "x",
         "yaxis": "y"
        }
       ],
       "layout": {
        "bargap": 0.2,
        "barmode": "relative",
        "legend": {
         "title": {
          "text": "rating"
         },
         "tracegroupgap": 0
        },
        "margin": {
         "t": 60
        },
        "template": {
         "data": {
          "bar": [
           {
            "error_x": {
             "color": "#2a3f5f"
            },
            "error_y": {
             "color": "#2a3f5f"
            },
            "marker": {
             "line": {
              "color": "#E5ECF6",
              "width": 0.5
             },
             "pattern": {
              "fillmode": "overlay",
              "size": 10,
              "solidity": 0.2
             }
            },
            "type": "bar"
           }
          ],
          "barpolar": [
           {
            "marker": {
             "line": {
              "color": "#E5ECF6",
              "width": 0.5
             },
             "pattern": {
              "fillmode": "overlay",
              "size": 10,
              "solidity": 0.2
             }
            },
            "type": "barpolar"
           }
          ],
          "carpet": [
           {
            "aaxis": {
             "endlinecolor": "#2a3f5f",
             "gridcolor": "white",
             "linecolor": "white",
             "minorgridcolor": "white",
             "startlinecolor": "#2a3f5f"
            },
            "baxis": {
             "endlinecolor": "#2a3f5f",
             "gridcolor": "white",
             "linecolor": "white",
             "minorgridcolor": "white",
             "startlinecolor": "#2a3f5f"
            },
            "type": "carpet"
           }
          ],
          "choropleth": [
           {
            "colorbar": {
             "outlinewidth": 0,
             "ticks": ""
            },
            "type": "choropleth"
           }
          ],
          "contour": [
           {
            "colorbar": {
             "outlinewidth": 0,
             "ticks": ""
            },
            "colorscale": [
             [
              0,
              "#0d0887"
             ],
             [
              0.1111111111111111,
              "#46039f"
             ],
             [
              0.2222222222222222,
              "#7201a8"
             ],
             [
              0.3333333333333333,
              "#9c179e"
             ],
             [
              0.4444444444444444,
              "#bd3786"
             ],
             [
              0.5555555555555556,
              "#d8576b"
             ],
             [
              0.6666666666666666,
              "#ed7953"
             ],
             [
              0.7777777777777778,
              "#fb9f3a"
             ],
             [
              0.8888888888888888,
              "#fdca26"
             ],
             [
              1,
              "#f0f921"
             ]
            ],
            "type": "contour"
           }
          ],
          "contourcarpet": [
           {
            "colorbar": {
             "outlinewidth": 0,
             "ticks": ""
            },
            "type": "contourcarpet"
           }
          ],
          "heatmap": [
           {
            "colorbar": {
             "outlinewidth": 0,
             "ticks": ""
            },
            "colorscale": [
             [
              0,
              "#0d0887"
             ],
             [
              0.1111111111111111,
              "#46039f"
             ],
             [
              0.2222222222222222,
              "#7201a8"
             ],
             [
              0.3333333333333333,
              "#9c179e"
             ],
             [
              0.4444444444444444,
              "#bd3786"
             ],
             [
              0.5555555555555556,
              "#d8576b"
             ],
             [
              0.6666666666666666,
              "#ed7953"
             ],
             [
              0.7777777777777778,
              "#fb9f3a"
             ],
             [
              0.8888888888888888,
              "#fdca26"
             ],
             [
              1,
              "#f0f921"
             ]
            ],
            "type": "heatmap"
           }
          ],
          "heatmapgl": [
           {
            "colorbar": {
             "outlinewidth": 0,
             "ticks": ""
            },
            "colorscale": [
             [
              0,
              "#0d0887"
             ],
             [
              0.1111111111111111,
              "#46039f"
             ],
             [
              0.2222222222222222,
              "#7201a8"
             ],
             [
              0.3333333333333333,
              "#9c179e"
             ],
             [
              0.4444444444444444,
              "#bd3786"
             ],
             [
              0.5555555555555556,
              "#d8576b"
             ],
             [
              0.6666666666666666,
              "#ed7953"
             ],
             [
              0.7777777777777778,
              "#fb9f3a"
             ],
             [
              0.8888888888888888,
              "#fdca26"
             ],
             [
              1,
              "#f0f921"
             ]
            ],
            "type": "heatmapgl"
           }
          ],
          "histogram": [
           {
            "marker": {
             "pattern": {
              "fillmode": "overlay",
              "size": 10,
              "solidity": 0.2
             }
            },
            "type": "histogram"
           }
          ],
          "histogram2d": [
           {
            "colorbar": {
             "outlinewidth": 0,
             "ticks": ""
            },
            "colorscale": [
             [
              0,
              "#0d0887"
             ],
             [
              0.1111111111111111,
              "#46039f"
             ],
             [
              0.2222222222222222,
              "#7201a8"
             ],
             [
              0.3333333333333333,
              "#9c179e"
             ],
             [
              0.4444444444444444,
              "#bd3786"
             ],
             [
              0.5555555555555556,
              "#d8576b"
             ],
             [
              0.6666666666666666,
              "#ed7953"
             ],
             [
              0.7777777777777778,
              "#fb9f3a"
             ],
             [
              0.8888888888888888,
              "#fdca26"
             ],
             [
              1,
              "#f0f921"
             ]
            ],
            "type": "histogram2d"
           }
          ],
          "histogram2dcontour": [
           {
            "colorbar": {
             "outlinewidth": 0,
             "ticks": ""
            },
            "colorscale": [
             [
              0,
              "#0d0887"
             ],
             [
              0.1111111111111111,
              "#46039f"
             ],
             [
              0.2222222222222222,
              "#7201a8"
             ],
             [
              0.3333333333333333,
              "#9c179e"
             ],
             [
              0.4444444444444444,
              "#bd3786"
             ],
             [
              0.5555555555555556,
              "#d8576b"
             ],
             [
              0.6666666666666666,
              "#ed7953"
             ],
             [
              0.7777777777777778,
              "#fb9f3a"
             ],
             [
              0.8888888888888888,
              "#fdca26"
             ],
             [
              1,
              "#f0f921"
             ]
            ],
            "type": "histogram2dcontour"
           }
          ],
          "mesh3d": [
           {
            "colorbar": {
             "outlinewidth": 0,
             "ticks": ""
            },
            "type": "mesh3d"
           }
          ],
          "parcoords": [
           {
            "line": {
             "colorbar": {
              "outlinewidth": 0,
              "ticks": ""
             }
            },
            "type": "parcoords"
           }
          ],
          "pie": [
           {
            "automargin": true,
            "type": "pie"
           }
          ],
          "scatter": [
           {
            "fillpattern": {
             "fillmode": "overlay",
             "size": 10,
             "solidity": 0.2
            },
            "type": "scatter"
           }
          ],
          "scatter3d": [
           {
            "line": {
             "colorbar": {
              "outlinewidth": 0,
              "ticks": ""
             }
            },
            "marker": {
             "colorbar": {
              "outlinewidth": 0,
              "ticks": ""
             }
            },
            "type": "scatter3d"
           }
          ],
          "scattercarpet": [
           {
            "marker": {
             "colorbar": {
              "outlinewidth": 0,
              "ticks": ""
             }
            },
            "type": "scattercarpet"
           }
          ],
          "scattergeo": [
           {
            "marker": {
             "colorbar": {
              "outlinewidth": 0,
              "ticks": ""
             }
            },
            "type": "scattergeo"
           }
          ],
          "scattergl": [
           {
            "marker": {
             "colorbar": {
              "outlinewidth": 0,
              "ticks": ""
             }
            },
            "type": "scattergl"
           }
          ],
          "scattermapbox": [
           {
            "marker": {
             "colorbar": {
              "outlinewidth": 0,
              "ticks": ""
             }
            },
            "type": "scattermapbox"
           }
          ],
          "scatterpolar": [
           {
            "marker": {
             "colorbar": {
              "outlinewidth": 0,
              "ticks": ""
             }
            },
            "type": "scatterpolar"
           }
          ],
          "scatterpolargl": [
           {
            "marker": {
             "colorbar": {
              "outlinewidth": 0,
              "ticks": ""
             }
            },
            "type": "scatterpolargl"
           }
          ],
          "scatterternary": [
           {
            "marker": {
             "colorbar": {
              "outlinewidth": 0,
              "ticks": ""
             }
            },
            "type": "scatterternary"
           }
          ],
          "surface": [
           {
            "colorbar": {
             "outlinewidth": 0,
             "ticks": ""
            },
            "colorscale": [
             [
              0,
              "#0d0887"
             ],
             [
              0.1111111111111111,
              "#46039f"
             ],
             [
              0.2222222222222222,
              "#7201a8"
             ],
             [
              0.3333333333333333,
              "#9c179e"
             ],
             [
              0.4444444444444444,
              "#bd3786"
             ],
             [
              0.5555555555555556,
              "#d8576b"
             ],
             [
              0.6666666666666666,
              "#ed7953"
             ],
             [
              0.7777777777777778,
              "#fb9f3a"
             ],
             [
              0.8888888888888888,
              "#fdca26"
             ],
             [
              1,
              "#f0f921"
             ]
            ],
            "type": "surface"
           }
          ],
          "table": [
           {
            "cells": {
             "fill": {
              "color": "#EBF0F8"
             },
             "line": {
              "color": "white"
             }
            },
            "header": {
             "fill": {
              "color": "#C8D4E3"
             },
             "line": {
              "color": "white"
             }
            },
            "type": "table"
           }
          ]
         },
         "layout": {
          "annotationdefaults": {
           "arrowcolor": "#2a3f5f",
           "arrowhead": 0,
           "arrowwidth": 1
          },
          "autotypenumbers": "strict",
          "coloraxis": {
           "colorbar": {
            "outlinewidth": 0,
            "ticks": ""
           }
          },
          "colorscale": {
           "diverging": [
            [
             0,
             "#8e0152"
            ],
            [
             0.1,
             "#c51b7d"
            ],
            [
             0.2,
             "#de77ae"
            ],
            [
             0.3,
             "#f1b6da"
            ],
            [
             0.4,
             "#fde0ef"
            ],
            [
             0.5,
             "#f7f7f7"
            ],
            [
             0.6,
             "#e6f5d0"
            ],
            [
             0.7,
             "#b8e186"
            ],
            [
             0.8,
             "#7fbc41"
            ],
            [
             0.9,
             "#4d9221"
            ],
            [
             1,
             "#276419"
            ]
           ],
           "sequential": [
            [
             0,
             "#0d0887"
            ],
            [
             0.1111111111111111,
             "#46039f"
            ],
            [
             0.2222222222222222,
             "#7201a8"
            ],
            [
             0.3333333333333333,
             "#9c179e"
            ],
            [
             0.4444444444444444,
             "#bd3786"
            ],
            [
             0.5555555555555556,
             "#d8576b"
            ],
            [
             0.6666666666666666,
             "#ed7953"
            ],
            [
             0.7777777777777778,
             "#fb9f3a"
            ],
            [
             0.8888888888888888,
             "#fdca26"
            ],
            [
             1,
             "#f0f921"
            ]
           ],
           "sequentialminus": [
            [
             0,
             "#0d0887"
            ],
            [
             0.1111111111111111,
             "#46039f"
            ],
            [
             0.2222222222222222,
             "#7201a8"
            ],
            [
             0.3333333333333333,
             "#9c179e"
            ],
            [
             0.4444444444444444,
             "#bd3786"
            ],
            [
             0.5555555555555556,
             "#d8576b"
            ],
            [
             0.6666666666666666,
             "#ed7953"
            ],
            [
             0.7777777777777778,
             "#fb9f3a"
            ],
            [
             0.8888888888888888,
             "#fdca26"
            ],
            [
             1,
             "#f0f921"
            ]
           ]
          },
          "colorway": [
           "#636efa",
           "#EF553B",
           "#00cc96",
           "#ab63fa",
           "#FFA15A",
           "#19d3f3",
           "#FF6692",
           "#B6E880",
           "#FF97FF",
           "#FECB52"
          ],
          "font": {
           "color": "#2a3f5f"
          },
          "geo": {
           "bgcolor": "white",
           "lakecolor": "white",
           "landcolor": "#E5ECF6",
           "showlakes": true,
           "showland": true,
           "subunitcolor": "white"
          },
          "hoverlabel": {
           "align": "left"
          },
          "hovermode": "closest",
          "mapbox": {
           "style": "light"
          },
          "paper_bgcolor": "white",
          "plot_bgcolor": "#E5ECF6",
          "polar": {
           "angularaxis": {
            "gridcolor": "white",
            "linecolor": "white",
            "ticks": ""
           },
           "bgcolor": "#E5ECF6",
           "radialaxis": {
            "gridcolor": "white",
            "linecolor": "white",
            "ticks": ""
           }
          },
          "scene": {
           "xaxis": {
            "backgroundcolor": "#E5ECF6",
            "gridcolor": "white",
            "gridwidth": 2,
            "linecolor": "white",
            "showbackground": true,
            "ticks": "",
            "zerolinecolor": "white"
           },
           "yaxis": {
            "backgroundcolor": "#E5ECF6",
            "gridcolor": "white",
            "gridwidth": 2,
            "linecolor": "white",
            "showbackground": true,
            "ticks": "",
            "zerolinecolor": "white"
           },
           "zaxis": {
            "backgroundcolor": "#E5ECF6",
            "gridcolor": "white",
            "gridwidth": 2,
            "linecolor": "white",
            "showbackground": true,
            "ticks": "",
            "zerolinecolor": "white"
           }
          },
          "shapedefaults": {
           "line": {
            "color": "#2a3f5f"
           }
          },
          "ternary": {
           "aaxis": {
            "gridcolor": "white",
            "linecolor": "white",
            "ticks": ""
           },
           "baxis": {
            "gridcolor": "white",
            "linecolor": "white",
            "ticks": ""
           },
           "bgcolor": "#E5ECF6",
           "caxis": {
            "gridcolor": "white",
            "linecolor": "white",
            "ticks": ""
           }
          },
          "title": {
           "x": 0.05
          },
          "xaxis": {
           "automargin": true,
           "gridcolor": "white",
           "linecolor": "white",
           "ticks": "",
           "title": {
            "standoff": 15
           },
           "zerolinecolor": "white",
           "zerolinewidth": 2
          },
          "yaxis": {
           "automargin": true,
           "gridcolor": "white",
           "linecolor": "white",
           "ticks": "",
           "title": {
            "standoff": 15
           },
           "zerolinecolor": "white",
           "zerolinewidth": 2
          }
         }
        },
        "xaxis": {
         "anchor": "y",
         "categoryarray": [
          "TV-MA",
          "PG",
          "TV-14",
          "PG-13",
          "TV-PG",
          "TV-Y",
          "R",
          "TV-G",
          "TV-Y7",
          "G",
          "NC-17",
          "NR",
          "TV-Y7-FV",
          "UR"
         ],
         "categoryorder": "array",
         "domain": [
          0,
          1
         ],
         "title": {
          "text": "rating"
         }
        },
        "yaxis": {
         "anchor": "x",
         "domain": [
          0,
          1
         ],
         "title": {
          "text": "count"
         }
        }
       }
      }
     },
     "metadata": {},
     "output_type": "display_data"
    }
   ],
   "source": [
    "fig = px.histogram(df, x=\"rating\", color=\"rating\")\n",
    "fig.update_layout(\n",
    "    bargap=0.2\n",
    ")\n",
    "fig.show()"
   ]
  },
  {
   "cell_type": "code",
   "execution_count": 26,
   "metadata": {},
   "outputs": [
    {
     "data": {
      "application/vnd.plotly.v1+json": {
       "config": {
        "plotlyServerURL": "https://plot.ly"
       },
       "data": [
        {
         "domain": {
          "x": [
           0,
           1
          ],
          "y": [
           0,
           1
          ]
         },
         "hovertemplate": "rating=%{label}<br>counts=%{value}<extra></extra>",
         "labels": [
          "G",
          "NC-17",
          "NR",
          "PG",
          "PG-13",
          "R",
          "TV-14",
          "TV-G",
          "TV-MA",
          "TV-PG",
          "TV-Y",
          "TV-Y7",
          "TV-Y7-FV",
          "UR"
         ],
         "legendgroup": "",
         "name": "",
         "showlegend": true,
         "type": "pie",
         "values": [
          40,
          2,
          58,
          279,
          477,
          789,
          1329,
          96,
          1940,
          456,
          102,
          123,
          3,
          3
         ]
        }
       ],
       "layout": {
        "height": 600,
        "legend": {
         "tracegroupgap": 0
        },
        "template": {
         "data": {
          "bar": [
           {
            "error_x": {
             "color": "#2a3f5f"
            },
            "error_y": {
             "color": "#2a3f5f"
            },
            "marker": {
             "line": {
              "color": "#E5ECF6",
              "width": 0.5
             },
             "pattern": {
              "fillmode": "overlay",
              "size": 10,
              "solidity": 0.2
             }
            },
            "type": "bar"
           }
          ],
          "barpolar": [
           {
            "marker": {
             "line": {
              "color": "#E5ECF6",
              "width": 0.5
             },
             "pattern": {
              "fillmode": "overlay",
              "size": 10,
              "solidity": 0.2
             }
            },
            "type": "barpolar"
           }
          ],
          "carpet": [
           {
            "aaxis": {
             "endlinecolor": "#2a3f5f",
             "gridcolor": "white",
             "linecolor": "white",
             "minorgridcolor": "white",
             "startlinecolor": "#2a3f5f"
            },
            "baxis": {
             "endlinecolor": "#2a3f5f",
             "gridcolor": "white",
             "linecolor": "white",
             "minorgridcolor": "white",
             "startlinecolor": "#2a3f5f"
            },
            "type": "carpet"
           }
          ],
          "choropleth": [
           {
            "colorbar": {
             "outlinewidth": 0,
             "ticks": ""
            },
            "type": "choropleth"
           }
          ],
          "contour": [
           {
            "colorbar": {
             "outlinewidth": 0,
             "ticks": ""
            },
            "colorscale": [
             [
              0,
              "#0d0887"
             ],
             [
              0.1111111111111111,
              "#46039f"
             ],
             [
              0.2222222222222222,
              "#7201a8"
             ],
             [
              0.3333333333333333,
              "#9c179e"
             ],
             [
              0.4444444444444444,
              "#bd3786"
             ],
             [
              0.5555555555555556,
              "#d8576b"
             ],
             [
              0.6666666666666666,
              "#ed7953"
             ],
             [
              0.7777777777777778,
              "#fb9f3a"
             ],
             [
              0.8888888888888888,
              "#fdca26"
             ],
             [
              1,
              "#f0f921"
             ]
            ],
            "type": "contour"
           }
          ],
          "contourcarpet": [
           {
            "colorbar": {
             "outlinewidth": 0,
             "ticks": ""
            },
            "type": "contourcarpet"
           }
          ],
          "heatmap": [
           {
            "colorbar": {
             "outlinewidth": 0,
             "ticks": ""
            },
            "colorscale": [
             [
              0,
              "#0d0887"
             ],
             [
              0.1111111111111111,
              "#46039f"
             ],
             [
              0.2222222222222222,
              "#7201a8"
             ],
             [
              0.3333333333333333,
              "#9c179e"
             ],
             [
              0.4444444444444444,
              "#bd3786"
             ],
             [
              0.5555555555555556,
              "#d8576b"
             ],
             [
              0.6666666666666666,
              "#ed7953"
             ],
             [
              0.7777777777777778,
              "#fb9f3a"
             ],
             [
              0.8888888888888888,
              "#fdca26"
             ],
             [
              1,
              "#f0f921"
             ]
            ],
            "type": "heatmap"
           }
          ],
          "heatmapgl": [
           {
            "colorbar": {
             "outlinewidth": 0,
             "ticks": ""
            },
            "colorscale": [
             [
              0,
              "#0d0887"
             ],
             [
              0.1111111111111111,
              "#46039f"
             ],
             [
              0.2222222222222222,
              "#7201a8"
             ],
             [
              0.3333333333333333,
              "#9c179e"
             ],
             [
              0.4444444444444444,
              "#bd3786"
             ],
             [
              0.5555555555555556,
              "#d8576b"
             ],
             [
              0.6666666666666666,
              "#ed7953"
             ],
             [
              0.7777777777777778,
              "#fb9f3a"
             ],
             [
              0.8888888888888888,
              "#fdca26"
             ],
             [
              1,
              "#f0f921"
             ]
            ],
            "type": "heatmapgl"
           }
          ],
          "histogram": [
           {
            "marker": {
             "pattern": {
              "fillmode": "overlay",
              "size": 10,
              "solidity": 0.2
             }
            },
            "type": "histogram"
           }
          ],
          "histogram2d": [
           {
            "colorbar": {
             "outlinewidth": 0,
             "ticks": ""
            },
            "colorscale": [
             [
              0,
              "#0d0887"
             ],
             [
              0.1111111111111111,
              "#46039f"
             ],
             [
              0.2222222222222222,
              "#7201a8"
             ],
             [
              0.3333333333333333,
              "#9c179e"
             ],
             [
              0.4444444444444444,
              "#bd3786"
             ],
             [
              0.5555555555555556,
              "#d8576b"
             ],
             [
              0.6666666666666666,
              "#ed7953"
             ],
             [
              0.7777777777777778,
              "#fb9f3a"
             ],
             [
              0.8888888888888888,
              "#fdca26"
             ],
             [
              1,
              "#f0f921"
             ]
            ],
            "type": "histogram2d"
           }
          ],
          "histogram2dcontour": [
           {
            "colorbar": {
             "outlinewidth": 0,
             "ticks": ""
            },
            "colorscale": [
             [
              0,
              "#0d0887"
             ],
             [
              0.1111111111111111,
              "#46039f"
             ],
             [
              0.2222222222222222,
              "#7201a8"
             ],
             [
              0.3333333333333333,
              "#9c179e"
             ],
             [
              0.4444444444444444,
              "#bd3786"
             ],
             [
              0.5555555555555556,
              "#d8576b"
             ],
             [
              0.6666666666666666,
              "#ed7953"
             ],
             [
              0.7777777777777778,
              "#fb9f3a"
             ],
             [
              0.8888888888888888,
              "#fdca26"
             ],
             [
              1,
              "#f0f921"
             ]
            ],
            "type": "histogram2dcontour"
           }
          ],
          "mesh3d": [
           {
            "colorbar": {
             "outlinewidth": 0,
             "ticks": ""
            },
            "type": "mesh3d"
           }
          ],
          "parcoords": [
           {
            "line": {
             "colorbar": {
              "outlinewidth": 0,
              "ticks": ""
             }
            },
            "type": "parcoords"
           }
          ],
          "pie": [
           {
            "automargin": true,
            "type": "pie"
           }
          ],
          "scatter": [
           {
            "fillpattern": {
             "fillmode": "overlay",
             "size": 10,
             "solidity": 0.2
            },
            "type": "scatter"
           }
          ],
          "scatter3d": [
           {
            "line": {
             "colorbar": {
              "outlinewidth": 0,
              "ticks": ""
             }
            },
            "marker": {
             "colorbar": {
              "outlinewidth": 0,
              "ticks": ""
             }
            },
            "type": "scatter3d"
           }
          ],
          "scattercarpet": [
           {
            "marker": {
             "colorbar": {
              "outlinewidth": 0,
              "ticks": ""
             }
            },
            "type": "scattercarpet"
           }
          ],
          "scattergeo": [
           {
            "marker": {
             "colorbar": {
              "outlinewidth": 0,
              "ticks": ""
             }
            },
            "type": "scattergeo"
           }
          ],
          "scattergl": [
           {
            "marker": {
             "colorbar": {
              "outlinewidth": 0,
              "ticks": ""
             }
            },
            "type": "scattergl"
           }
          ],
          "scattermapbox": [
           {
            "marker": {
             "colorbar": {
              "outlinewidth": 0,
              "ticks": ""
             }
            },
            "type": "scattermapbox"
           }
          ],
          "scatterpolar": [
           {
            "marker": {
             "colorbar": {
              "outlinewidth": 0,
              "ticks": ""
             }
            },
            "type": "scatterpolar"
           }
          ],
          "scatterpolargl": [
           {
            "marker": {
             "colorbar": {
              "outlinewidth": 0,
              "ticks": ""
             }
            },
            "type": "scatterpolargl"
           }
          ],
          "scatterternary": [
           {
            "marker": {
             "colorbar": {
              "outlinewidth": 0,
              "ticks": ""
             }
            },
            "type": "scatterternary"
           }
          ],
          "surface": [
           {
            "colorbar": {
             "outlinewidth": 0,
             "ticks": ""
            },
            "colorscale": [
             [
              0,
              "#0d0887"
             ],
             [
              0.1111111111111111,
              "#46039f"
             ],
             [
              0.2222222222222222,
              "#7201a8"
             ],
             [
              0.3333333333333333,
              "#9c179e"
             ],
             [
              0.4444444444444444,
              "#bd3786"
             ],
             [
              0.5555555555555556,
              "#d8576b"
             ],
             [
              0.6666666666666666,
              "#ed7953"
             ],
             [
              0.7777777777777778,
              "#fb9f3a"
             ],
             [
              0.8888888888888888,
              "#fdca26"
             ],
             [
              1,
              "#f0f921"
             ]
            ],
            "type": "surface"
           }
          ],
          "table": [
           {
            "cells": {
             "fill": {
              "color": "#EBF0F8"
             },
             "line": {
              "color": "white"
             }
            },
            "header": {
             "fill": {
              "color": "#C8D4E3"
             },
             "line": {
              "color": "white"
             }
            },
            "type": "table"
           }
          ]
         },
         "layout": {
          "annotationdefaults": {
           "arrowcolor": "#2a3f5f",
           "arrowhead": 0,
           "arrowwidth": 1
          },
          "autotypenumbers": "strict",
          "coloraxis": {
           "colorbar": {
            "outlinewidth": 0,
            "ticks": ""
           }
          },
          "colorscale": {
           "diverging": [
            [
             0,
             "#8e0152"
            ],
            [
             0.1,
             "#c51b7d"
            ],
            [
             0.2,
             "#de77ae"
            ],
            [
             0.3,
             "#f1b6da"
            ],
            [
             0.4,
             "#fde0ef"
            ],
            [
             0.5,
             "#f7f7f7"
            ],
            [
             0.6,
             "#e6f5d0"
            ],
            [
             0.7,
             "#b8e186"
            ],
            [
             0.8,
             "#7fbc41"
            ],
            [
             0.9,
             "#4d9221"
            ],
            [
             1,
             "#276419"
            ]
           ],
           "sequential": [
            [
             0,
             "#0d0887"
            ],
            [
             0.1111111111111111,
             "#46039f"
            ],
            [
             0.2222222222222222,
             "#7201a8"
            ],
            [
             0.3333333333333333,
             "#9c179e"
            ],
            [
             0.4444444444444444,
             "#bd3786"
            ],
            [
             0.5555555555555556,
             "#d8576b"
            ],
            [
             0.6666666666666666,
             "#ed7953"
            ],
            [
             0.7777777777777778,
             "#fb9f3a"
            ],
            [
             0.8888888888888888,
             "#fdca26"
            ],
            [
             1,
             "#f0f921"
            ]
           ],
           "sequentialminus": [
            [
             0,
             "#0d0887"
            ],
            [
             0.1111111111111111,
             "#46039f"
            ],
            [
             0.2222222222222222,
             "#7201a8"
            ],
            [
             0.3333333333333333,
             "#9c179e"
            ],
            [
             0.4444444444444444,
             "#bd3786"
            ],
            [
             0.5555555555555556,
             "#d8576b"
            ],
            [
             0.6666666666666666,
             "#ed7953"
            ],
            [
             0.7777777777777778,
             "#fb9f3a"
            ],
            [
             0.8888888888888888,
             "#fdca26"
            ],
            [
             1,
             "#f0f921"
            ]
           ]
          },
          "colorway": [
           "#636efa",
           "#EF553B",
           "#00cc96",
           "#ab63fa",
           "#FFA15A",
           "#19d3f3",
           "#FF6692",
           "#B6E880",
           "#FF97FF",
           "#FECB52"
          ],
          "font": {
           "color": "#2a3f5f"
          },
          "geo": {
           "bgcolor": "white",
           "lakecolor": "white",
           "landcolor": "#E5ECF6",
           "showlakes": true,
           "showland": true,
           "subunitcolor": "white"
          },
          "hoverlabel": {
           "align": "left"
          },
          "hovermode": "closest",
          "mapbox": {
           "style": "light"
          },
          "paper_bgcolor": "white",
          "plot_bgcolor": "#E5ECF6",
          "polar": {
           "angularaxis": {
            "gridcolor": "white",
            "linecolor": "white",
            "ticks": ""
           },
           "bgcolor": "#E5ECF6",
           "radialaxis": {
            "gridcolor": "white",
            "linecolor": "white",
            "ticks": ""
           }
          },
          "scene": {
           "xaxis": {
            "backgroundcolor": "#E5ECF6",
            "gridcolor": "white",
            "gridwidth": 2,
            "linecolor": "white",
            "showbackground": true,
            "ticks": "",
            "zerolinecolor": "white"
           },
           "yaxis": {
            "backgroundcolor": "#E5ECF6",
            "gridcolor": "white",
            "gridwidth": 2,
            "linecolor": "white",
            "showbackground": true,
            "ticks": "",
            "zerolinecolor": "white"
           },
           "zaxis": {
            "backgroundcolor": "#E5ECF6",
            "gridcolor": "white",
            "gridwidth": 2,
            "linecolor": "white",
            "showbackground": true,
            "ticks": "",
            "zerolinecolor": "white"
           }
          },
          "shapedefaults": {
           "line": {
            "color": "#2a3f5f"
           }
          },
          "ternary": {
           "aaxis": {
            "gridcolor": "white",
            "linecolor": "white",
            "ticks": ""
           },
           "baxis": {
            "gridcolor": "white",
            "linecolor": "white",
            "ticks": ""
           },
           "bgcolor": "#E5ECF6",
           "caxis": {
            "gridcolor": "white",
            "linecolor": "white",
            "ticks": ""
           }
          },
          "title": {
           "x": 0.05
          },
          "xaxis": {
           "automargin": true,
           "gridcolor": "white",
           "linecolor": "white",
           "ticks": "",
           "title": {
            "standoff": 15
           },
           "zerolinecolor": "white",
           "zerolinewidth": 2
          },
          "yaxis": {
           "automargin": true,
           "gridcolor": "white",
           "linecolor": "white",
           "ticks": "",
           "title": {
            "standoff": 15
           },
           "zerolinecolor": "white",
           "zerolinewidth": 2
          }
         }
        },
        "title": {
         "text": "Distribution of ratings on Netflix"
        },
        "width": 600
       }
      }
     },
     "metadata": {},
     "output_type": "display_data"
    }
   ],
   "source": [
    "#Ratings\n",
    "ratings = df.groupby(['rating']).size().reset_index(name='counts')\n",
    "ratings\n",
    "# Ploting Distribution of content ratings on Netflix\n",
    "fig = px.pie(ratings, names = 'rating',values = 'counts',\n",
    "             title = 'Distribution of ratings on Netflix',height =  600 , width = 600)\n",
    "fig.show()"
   ]
  },
  {
   "cell_type": "code",
   "execution_count": 28,
   "metadata": {},
   "outputs": [
    {
     "data": {
      "application/vnd.plotly.v1+json": {
       "config": {
        "plotlyServerURL": "https://plot.ly"
       },
       "data": [
        {
         "alignmentgroup": "True",
         "hovertemplate": "x=%{x}<br>y=%{y}<br>color=%{marker.color}<extra></extra>",
         "legendgroup": "",
         "marker": {
          "color": [
           2018,
           2017,
           2016,
           2019,
           2020,
           2015,
           2021,
           2014,
           2013,
           2012,
           2010,
           2011,
           2009,
           2008,
           2006,
           2007,
           2005,
           2004,
           2003,
           2002,
           2001,
           1997,
           2000,
           1999,
           1998,
           1993,
           1995,
           1996,
           1992,
           1994,
           1990,
           1982,
           1988,
           1989,
           1991,
           1981,
           1984,
           1980,
           1986,
           1983,
           1973,
           1985,
           1979,
           1987,
           1976,
           1978,
           1975,
           1974,
           1977,
           1971,
           1972,
           1960,
           1967,
           1962,
           1958,
           1968,
           1955,
           1969,
           1965,
           1970,
           1956,
           1954,
           1964,
           1966,
           1961,
           1963,
           1945,
           1946,
           1959,
           1942,
           1947,
           1944
          ],
          "coloraxis": "coloraxis",
          "pattern": {
           "shape": ""
          }
         },
         "name": "",
         "offsetgroup": "",
         "orientation": "v",
         "showlegend": false,
         "textposition": "auto",
         "type": "bar",
         "x": [
          2018,
          2017,
          2016,
          2019,
          2020,
          2015,
          2021,
          2014,
          2013,
          2012,
          2010,
          2011,
          2009,
          2008,
          2006,
          2007,
          2005,
          2004,
          2003,
          2002,
          2001,
          1997,
          2000,
          1999,
          1998,
          1993,
          1995,
          1996,
          1992,
          1994,
          1990,
          1982,
          1988,
          1989,
          1991,
          1981,
          1984,
          1980,
          1986,
          1983,
          1973,
          1985,
          1979,
          1987,
          1976,
          1978,
          1975,
          1974,
          1977,
          1971,
          1972,
          1960,
          1967,
          1962,
          1958,
          1968,
          1955,
          1969,
          1965,
          1970,
          1956,
          1954,
          1964,
          1966,
          1961,
          1963,
          1945,
          1946,
          1959,
          1942,
          1947,
          1944
         ],
         "xaxis": "x",
         "y": [
          691,
          683,
          584,
          570,
          499,
          366,
          256,
          252,
          209,
          169,
          145,
          140,
          117,
          112,
          84,
          71,
          65,
          55,
          51,
          44,
          41,
          34,
          33,
          32,
          30,
          24,
          23,
          21,
          20,
          19,
          19,
          17,
          16,
          15,
          15,
          12,
          12,
          11,
          11,
          10,
          10,
          9,
          9,
          8,
          8,
          7,
          7,
          6,
          5,
          5,
          4,
          4,
          4,
          3,
          3,
          3,
          3,
          2,
          2,
          2,
          2,
          2,
          2,
          1,
          1,
          1,
          1,
          1,
          1,
          1,
          1,
          1
         ],
         "yaxis": "y"
        }
       ],
       "layout": {
        "barmode": "relative",
        "coloraxis": {
         "colorbar": {
          "title": {
           "text": "color"
          }
         },
         "colorscale": [
          [
           0,
           "#0d0887"
          ],
          [
           0.1111111111111111,
           "#46039f"
          ],
          [
           0.2222222222222222,
           "#7201a8"
          ],
          [
           0.3333333333333333,
           "#9c179e"
          ],
          [
           0.4444444444444444,
           "#bd3786"
          ],
          [
           0.5555555555555556,
           "#d8576b"
          ],
          [
           0.6666666666666666,
           "#ed7953"
          ],
          [
           0.7777777777777778,
           "#fb9f3a"
          ],
          [
           0.8888888888888888,
           "#fdca26"
          ],
          [
           1,
           "#f0f921"
          ]
         ]
        },
        "legend": {
         "tracegroupgap": 0
        },
        "margin": {
         "t": 60
        },
        "template": {
         "data": {
          "bar": [
           {
            "error_x": {
             "color": "#2a3f5f"
            },
            "error_y": {
             "color": "#2a3f5f"
            },
            "marker": {
             "line": {
              "color": "#E5ECF6",
              "width": 0.5
             },
             "pattern": {
              "fillmode": "overlay",
              "size": 10,
              "solidity": 0.2
             }
            },
            "type": "bar"
           }
          ],
          "barpolar": [
           {
            "marker": {
             "line": {
              "color": "#E5ECF6",
              "width": 0.5
             },
             "pattern": {
              "fillmode": "overlay",
              "size": 10,
              "solidity": 0.2
             }
            },
            "type": "barpolar"
           }
          ],
          "carpet": [
           {
            "aaxis": {
             "endlinecolor": "#2a3f5f",
             "gridcolor": "white",
             "linecolor": "white",
             "minorgridcolor": "white",
             "startlinecolor": "#2a3f5f"
            },
            "baxis": {
             "endlinecolor": "#2a3f5f",
             "gridcolor": "white",
             "linecolor": "white",
             "minorgridcolor": "white",
             "startlinecolor": "#2a3f5f"
            },
            "type": "carpet"
           }
          ],
          "choropleth": [
           {
            "colorbar": {
             "outlinewidth": 0,
             "ticks": ""
            },
            "type": "choropleth"
           }
          ],
          "contour": [
           {
            "colorbar": {
             "outlinewidth": 0,
             "ticks": ""
            },
            "colorscale": [
             [
              0,
              "#0d0887"
             ],
             [
              0.1111111111111111,
              "#46039f"
             ],
             [
              0.2222222222222222,
              "#7201a8"
             ],
             [
              0.3333333333333333,
              "#9c179e"
             ],
             [
              0.4444444444444444,
              "#bd3786"
             ],
             [
              0.5555555555555556,
              "#d8576b"
             ],
             [
              0.6666666666666666,
              "#ed7953"
             ],
             [
              0.7777777777777778,
              "#fb9f3a"
             ],
             [
              0.8888888888888888,
              "#fdca26"
             ],
             [
              1,
              "#f0f921"
             ]
            ],
            "type": "contour"
           }
          ],
          "contourcarpet": [
           {
            "colorbar": {
             "outlinewidth": 0,
             "ticks": ""
            },
            "type": "contourcarpet"
           }
          ],
          "heatmap": [
           {
            "colorbar": {
             "outlinewidth": 0,
             "ticks": ""
            },
            "colorscale": [
             [
              0,
              "#0d0887"
             ],
             [
              0.1111111111111111,
              "#46039f"
             ],
             [
              0.2222222222222222,
              "#7201a8"
             ],
             [
              0.3333333333333333,
              "#9c179e"
             ],
             [
              0.4444444444444444,
              "#bd3786"
             ],
             [
              0.5555555555555556,
              "#d8576b"
             ],
             [
              0.6666666666666666,
              "#ed7953"
             ],
             [
              0.7777777777777778,
              "#fb9f3a"
             ],
             [
              0.8888888888888888,
              "#fdca26"
             ],
             [
              1,
              "#f0f921"
             ]
            ],
            "type": "heatmap"
           }
          ],
          "heatmapgl": [
           {
            "colorbar": {
             "outlinewidth": 0,
             "ticks": ""
            },
            "colorscale": [
             [
              0,
              "#0d0887"
             ],
             [
              0.1111111111111111,
              "#46039f"
             ],
             [
              0.2222222222222222,
              "#7201a8"
             ],
             [
              0.3333333333333333,
              "#9c179e"
             ],
             [
              0.4444444444444444,
              "#bd3786"
             ],
             [
              0.5555555555555556,
              "#d8576b"
             ],
             [
              0.6666666666666666,
              "#ed7953"
             ],
             [
              0.7777777777777778,
              "#fb9f3a"
             ],
             [
              0.8888888888888888,
              "#fdca26"
             ],
             [
              1,
              "#f0f921"
             ]
            ],
            "type": "heatmapgl"
           }
          ],
          "histogram": [
           {
            "marker": {
             "pattern": {
              "fillmode": "overlay",
              "size": 10,
              "solidity": 0.2
             }
            },
            "type": "histogram"
           }
          ],
          "histogram2d": [
           {
            "colorbar": {
             "outlinewidth": 0,
             "ticks": ""
            },
            "colorscale": [
             [
              0,
              "#0d0887"
             ],
             [
              0.1111111111111111,
              "#46039f"
             ],
             [
              0.2222222222222222,
              "#7201a8"
             ],
             [
              0.3333333333333333,
              "#9c179e"
             ],
             [
              0.4444444444444444,
              "#bd3786"
             ],
             [
              0.5555555555555556,
              "#d8576b"
             ],
             [
              0.6666666666666666,
              "#ed7953"
             ],
             [
              0.7777777777777778,
              "#fb9f3a"
             ],
             [
              0.8888888888888888,
              "#fdca26"
             ],
             [
              1,
              "#f0f921"
             ]
            ],
            "type": "histogram2d"
           }
          ],
          "histogram2dcontour": [
           {
            "colorbar": {
             "outlinewidth": 0,
             "ticks": ""
            },
            "colorscale": [
             [
              0,
              "#0d0887"
             ],
             [
              0.1111111111111111,
              "#46039f"
             ],
             [
              0.2222222222222222,
              "#7201a8"
             ],
             [
              0.3333333333333333,
              "#9c179e"
             ],
             [
              0.4444444444444444,
              "#bd3786"
             ],
             [
              0.5555555555555556,
              "#d8576b"
             ],
             [
              0.6666666666666666,
              "#ed7953"
             ],
             [
              0.7777777777777778,
              "#fb9f3a"
             ],
             [
              0.8888888888888888,
              "#fdca26"
             ],
             [
              1,
              "#f0f921"
             ]
            ],
            "type": "histogram2dcontour"
           }
          ],
          "mesh3d": [
           {
            "colorbar": {
             "outlinewidth": 0,
             "ticks": ""
            },
            "type": "mesh3d"
           }
          ],
          "parcoords": [
           {
            "line": {
             "colorbar": {
              "outlinewidth": 0,
              "ticks": ""
             }
            },
            "type": "parcoords"
           }
          ],
          "pie": [
           {
            "automargin": true,
            "type": "pie"
           }
          ],
          "scatter": [
           {
            "fillpattern": {
             "fillmode": "overlay",
             "size": 10,
             "solidity": 0.2
            },
            "type": "scatter"
           }
          ],
          "scatter3d": [
           {
            "line": {
             "colorbar": {
              "outlinewidth": 0,
              "ticks": ""
             }
            },
            "marker": {
             "colorbar": {
              "outlinewidth": 0,
              "ticks": ""
             }
            },
            "type": "scatter3d"
           }
          ],
          "scattercarpet": [
           {
            "marker": {
             "colorbar": {
              "outlinewidth": 0,
              "ticks": ""
             }
            },
            "type": "scattercarpet"
           }
          ],
          "scattergeo": [
           {
            "marker": {
             "colorbar": {
              "outlinewidth": 0,
              "ticks": ""
             }
            },
            "type": "scattergeo"
           }
          ],
          "scattergl": [
           {
            "marker": {
             "colorbar": {
              "outlinewidth": 0,
              "ticks": ""
             }
            },
            "type": "scattergl"
           }
          ],
          "scattermapbox": [
           {
            "marker": {
             "colorbar": {
              "outlinewidth": 0,
              "ticks": ""
             }
            },
            "type": "scattermapbox"
           }
          ],
          "scatterpolar": [
           {
            "marker": {
             "colorbar": {
              "outlinewidth": 0,
              "ticks": ""
             }
            },
            "type": "scatterpolar"
           }
          ],
          "scatterpolargl": [
           {
            "marker": {
             "colorbar": {
              "outlinewidth": 0,
              "ticks": ""
             }
            },
            "type": "scatterpolargl"
           }
          ],
          "scatterternary": [
           {
            "marker": {
             "colorbar": {
              "outlinewidth": 0,
              "ticks": ""
             }
            },
            "type": "scatterternary"
           }
          ],
          "surface": [
           {
            "colorbar": {
             "outlinewidth": 0,
             "ticks": ""
            },
            "colorscale": [
             [
              0,
              "#0d0887"
             ],
             [
              0.1111111111111111,
              "#46039f"
             ],
             [
              0.2222222222222222,
              "#7201a8"
             ],
             [
              0.3333333333333333,
              "#9c179e"
             ],
             [
              0.4444444444444444,
              "#bd3786"
             ],
             [
              0.5555555555555556,
              "#d8576b"
             ],
             [
              0.6666666666666666,
              "#ed7953"
             ],
             [
              0.7777777777777778,
              "#fb9f3a"
             ],
             [
              0.8888888888888888,
              "#fdca26"
             ],
             [
              1,
              "#f0f921"
             ]
            ],
            "type": "surface"
           }
          ],
          "table": [
           {
            "cells": {
             "fill": {
              "color": "#EBF0F8"
             },
             "line": {
              "color": "white"
             }
            },
            "header": {
             "fill": {
              "color": "#C8D4E3"
             },
             "line": {
              "color": "white"
             }
            },
            "type": "table"
           }
          ]
         },
         "layout": {
          "annotationdefaults": {
           "arrowcolor": "#2a3f5f",
           "arrowhead": 0,
           "arrowwidth": 1
          },
          "autotypenumbers": "strict",
          "coloraxis": {
           "colorbar": {
            "outlinewidth": 0,
            "ticks": ""
           }
          },
          "colorscale": {
           "diverging": [
            [
             0,
             "#8e0152"
            ],
            [
             0.1,
             "#c51b7d"
            ],
            [
             0.2,
             "#de77ae"
            ],
            [
             0.3,
             "#f1b6da"
            ],
            [
             0.4,
             "#fde0ef"
            ],
            [
             0.5,
             "#f7f7f7"
            ],
            [
             0.6,
             "#e6f5d0"
            ],
            [
             0.7,
             "#b8e186"
            ],
            [
             0.8,
             "#7fbc41"
            ],
            [
             0.9,
             "#4d9221"
            ],
            [
             1,
             "#276419"
            ]
           ],
           "sequential": [
            [
             0,
             "#0d0887"
            ],
            [
             0.1111111111111111,
             "#46039f"
            ],
            [
             0.2222222222222222,
             "#7201a8"
            ],
            [
             0.3333333333333333,
             "#9c179e"
            ],
            [
             0.4444444444444444,
             "#bd3786"
            ],
            [
             0.5555555555555556,
             "#d8576b"
            ],
            [
             0.6666666666666666,
             "#ed7953"
            ],
            [
             0.7777777777777778,
             "#fb9f3a"
            ],
            [
             0.8888888888888888,
             "#fdca26"
            ],
            [
             1,
             "#f0f921"
            ]
           ],
           "sequentialminus": [
            [
             0,
             "#0d0887"
            ],
            [
             0.1111111111111111,
             "#46039f"
            ],
            [
             0.2222222222222222,
             "#7201a8"
            ],
            [
             0.3333333333333333,
             "#9c179e"
            ],
            [
             0.4444444444444444,
             "#bd3786"
            ],
            [
             0.5555555555555556,
             "#d8576b"
            ],
            [
             0.6666666666666666,
             "#ed7953"
            ],
            [
             0.7777777777777778,
             "#fb9f3a"
            ],
            [
             0.8888888888888888,
             "#fdca26"
            ],
            [
             1,
             "#f0f921"
            ]
           ]
          },
          "colorway": [
           "#636efa",
           "#EF553B",
           "#00cc96",
           "#ab63fa",
           "#FFA15A",
           "#19d3f3",
           "#FF6692",
           "#B6E880",
           "#FF97FF",
           "#FECB52"
          ],
          "font": {
           "color": "#2a3f5f"
          },
          "geo": {
           "bgcolor": "white",
           "lakecolor": "white",
           "landcolor": "#E5ECF6",
           "showlakes": true,
           "showland": true,
           "subunitcolor": "white"
          },
          "hoverlabel": {
           "align": "left"
          },
          "hovermode": "closest",
          "mapbox": {
           "style": "light"
          },
          "paper_bgcolor": "white",
          "plot_bgcolor": "#E5ECF6",
          "polar": {
           "angularaxis": {
            "gridcolor": "white",
            "linecolor": "white",
            "ticks": ""
           },
           "bgcolor": "#E5ECF6",
           "radialaxis": {
            "gridcolor": "white",
            "linecolor": "white",
            "ticks": ""
           }
          },
          "scene": {
           "xaxis": {
            "backgroundcolor": "#E5ECF6",
            "gridcolor": "white",
            "gridwidth": 2,
            "linecolor": "white",
            "showbackground": true,
            "ticks": "",
            "zerolinecolor": "white"
           },
           "yaxis": {
            "backgroundcolor": "#E5ECF6",
            "gridcolor": "white",
            "gridwidth": 2,
            "linecolor": "white",
            "showbackground": true,
            "ticks": "",
            "zerolinecolor": "white"
           },
           "zaxis": {
            "backgroundcolor": "#E5ECF6",
            "gridcolor": "white",
            "gridwidth": 2,
            "linecolor": "white",
            "showbackground": true,
            "ticks": "",
            "zerolinecolor": "white"
           }
          },
          "shapedefaults": {
           "line": {
            "color": "#2a3f5f"
           }
          },
          "ternary": {
           "aaxis": {
            "gridcolor": "white",
            "linecolor": "white",
            "ticks": ""
           },
           "baxis": {
            "gridcolor": "white",
            "linecolor": "white",
            "ticks": ""
           },
           "bgcolor": "#E5ECF6",
           "caxis": {
            "gridcolor": "white",
            "linecolor": "white",
            "ticks": ""
           }
          },
          "title": {
           "x": 0.05
          },
          "xaxis": {
           "automargin": true,
           "gridcolor": "white",
           "linecolor": "white",
           "ticks": "",
           "title": {
            "standoff": 15
           },
           "zerolinecolor": "white",
           "zerolinewidth": 2
          },
          "yaxis": {
           "automargin": true,
           "gridcolor": "white",
           "linecolor": "white",
           "ticks": "",
           "title": {
            "standoff": 15
           },
           "zerolinecolor": "white",
           "zerolinewidth": 2
          }
         }
        },
        "title": {
         "font": {
          "color": "black"
         },
         "text": "Release Years"
        },
        "xaxis": {
         "anchor": "y",
         "domain": [
          0,
          1
         ],
         "title": {
          "font": {
           "color": "black"
          },
          "text": "Release Year"
         }
        },
        "yaxis": {
         "anchor": "x",
         "domain": [
          0,
          1
         ],
         "title": {
          "font": {
           "color": "black"
          },
          "text": "Count"
         }
        }
       }
      }
     },
     "metadata": {},
     "output_type": "display_data"
    }
   ],
   "source": [
    "fig = px.bar(x=df[\"release_year\"].value_counts().index, \n",
    "             y=df[\"release_year\"].value_counts().values, \n",
    "             color=df[\"release_year\"].value_counts().index)\n",
    "\n",
    "# Update layout with customized title, axis labels, and background colors\n",
    "\n",
    "fig.update_layout(\n",
    "    title={\n",
    "        'text': \"Release Years\",\n",
    "        'font': {'color': 'black'}\n",
    "    },\n",
    "    xaxis_title={\n",
    "        'text': \"Release Year\",\n",
    "        'font': {'color': 'black'}\n",
    "    },\n",
    "    yaxis_title={\n",
    "        'text': \"Count\",\n",
    "        'font': {'color': 'black'}\n",
    "    },\n",
    ")\n",
    "\n",
    "          \n",
    "\n",
    "\n",
    "\n",
    "\n",
    "          \n",
    "\n"
   ]
  },
  {
   "cell_type": "code",
   "execution_count": 29,
   "metadata": {},
   "outputs": [
    {
     "data": {
      "image/png": "[encoded data removed]",
      "text/plain": [
       "<Figure size 1100x600 with 1 Axes>"
      ]
     },
     "metadata": {},
     "output_type": "display_data"
    }
   ],
   "source": [
    "#Distribution of content release years\n",
    "plt.figure(figsize=(11, 6))\n",
    "sns.histplot(df['release_year'], bins=50, kde=True, color='green')\n",
    "plt.title('Distribution of content release years')\n",
    "plt.xlabel('Release Year')\n",
    "plt.ylabel('Count')\n",
    "plt.show()"
   ]
  },
  {
   "cell_type": "code",
   "execution_count": 30,
   "metadata": {},
   "outputs": [
    {
     "data": {
      "text/plain": [
       "<function matplotlib.pyplot.show(close=None, block=None)>"
      ]
     },
     "execution_count": 30,
     "metadata": {},
     "output_type": "execute_result"
    },
    {
     "data": {
      "image/png": "[encoded data removed]",
      "text/plain": [
       "<Figure size 1100x600 with 1 Axes>"
      ]
     },
     "metadata": {},
     "output_type": "display_data"
    }
   ],
   "source": [
    "#let's listed in conlumns\n",
    "plt.figure(figsize=(11, 6))\n",
    "df['listed_in'] = df['listed_in'].str.split(', ')\n",
    "genres = df['listed_in'].explode().value_counts().head(20)\n",
    "sns.barplot(x=genres.values, y=genres.index)\n",
    "plt.title('Top 10 Genres')\n",
    "plt.xlabel('Genre')\n",
    "plt.ylabel('Count')\n",
    "plt.show"
   ]
  },
  {
   "cell_type": "code",
   "execution_count": null,
   "metadata": {},
   "outputs": [],
   "source": []
  }
 ],
 "metadata": {
  "kernelspec": {
   "display_name": "base",
   "language": "python",
   "name": "python3"
  },
  "language_info": {
   "codemirror_mode": {
    "name": "ipython",
    "version": 3
   },
   "file_extension": ".py",
   "mimetype": "text/x-python",
   "name": "python",
   "nbconvert_exporter": "python",
   "pygments_lexer": "ipython3",
   "version": "3.11.5"
  }
 },
 "nbformat": 4,
 "nbformat_minor": 2
}
